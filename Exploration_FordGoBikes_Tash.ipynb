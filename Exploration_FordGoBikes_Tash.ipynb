{
 "cells": [
  {
   "cell_type": "markdown",
   "metadata": {},
   "source": [
    "# Analyzing Ford GoBikes System Data¶\n",
    "## By Tash Bettridge \n",
    "\n",
    "## Preliminary Wrangling\n",
    "\n",
    ">Formerly known as Ford GoBike, renamed Lyft Bikes is a regional public bicycle sharing system in the San Francisco Bay Area, California.\n",
    "\n",
    "### Data\n",
    "\n",
    "The data will be analysed from the following:\n",
    "\n",
    "* 2019 FordGo Bike and Baywheels Tripdata\n",
    "\n",
    "### Process\n",
    "\n",
    "The data wrangling steps that were involved in this project were:\n",
    "- Step 1. Assessing the Data \n",
    "- Step 2. Preliminary Wrangling\n",
    "- Step 3. Cleaning data\n",
    "- Step 4. Univariate Exploration\n",
    "- Step 5. Multivariate Exploration\n",
    "\n"
   ]
  },
  {
   "cell_type": "markdown",
   "metadata": {},
   "source": [
    "### Step 1. Assessing the Data \n",
    "\n",
    "Data Analysis, storing data and data visualization of the wrangled data\n"
   ]
  },
  {
   "cell_type": "code",
   "execution_count": 1,
   "metadata": {},
   "outputs": [],
   "source": [
    "# import all packages and set plots to be embedded inline\n",
    "import numpy as np\n",
    "import pandas as pd\n",
    "import matplotlib.pyplot as plt\n",
    "import seaborn as sb\n",
    "import glob\n",
    "import os\n",
    "import datetime\n",
    "import matplotlib.ticker as tick\n",
    "%matplotlib inline"
   ]
  },
  {
   "cell_type": "code",
   "execution_count": 2,
   "metadata": {},
   "outputs": [],
   "source": [
    "#Retrieve the datasets from the User directory \n",
    "path = r'C:\\Users\\tash_\\Desktop\\Udacity\\dataset'"
   ]
  },
  {
   "cell_type": "code",
   "execution_count": 3,
   "metadata": {},
   "outputs": [],
   "source": [
    "# detect all of the files ending with a .csv name within a specific working directory\n",
    "files = glob.glob(os.path.join(path, \"*.csv\"))\n"
   ]
  },
  {
   "cell_type": "code",
   "execution_count": 4,
   "metadata": {},
   "outputs": [
    {
     "name": "stderr",
     "output_type": "stream",
     "text": [
      "C:\\ProgramData\\Anaconda3\\lib\\site-packages\\ipykernel_launcher.py:2: DtypeWarning: Columns (14) have mixed types. Specify dtype option on import or set low_memory=False.\n",
      "  \n",
      "C:\\ProgramData\\Anaconda3\\lib\\site-packages\\ipykernel_launcher.py:2: DtypeWarning: Columns (13,14) have mixed types. Specify dtype option on import or set low_memory=False.\n",
      "  \n",
      "C:\\ProgramData\\Anaconda3\\lib\\site-packages\\ipykernel_launcher.py:2: DtypeWarning: Columns (13) have mixed types. Specify dtype option on import or set low_memory=False.\n",
      "  \n",
      "C:\\ProgramData\\Anaconda3\\lib\\site-packages\\ipykernel_launcher.py:2: FutureWarning: Sorting because non-concatenation axis is not aligned. A future version\n",
      "of pandas will change to not sort by default.\n",
      "\n",
      "To accept the future behavior, pass 'sort=False'.\n",
      "\n",
      "To retain the current behavior and silence the warning, pass 'sort=True'.\n",
      "\n",
      "  \n"
     ]
    }
   ],
   "source": [
    "#use the pd.concat() method to stack every dataframe one on top of another.\n",
    "df = pd.concat((pd.read_csv(f) for f in files), ignore_index = False)\n"
   ]
  },
  {
   "cell_type": "code",
   "execution_count": 5,
   "metadata": {},
   "outputs": [],
   "source": [
    "#Save a Copy To Master File\n",
    "df.to_csv('baywheels_master.csv', index = False)\n",
    "\n"
   ]
  },
  {
   "cell_type": "markdown",
   "metadata": {},
   "source": [
    "### Step 2. Preliminary Wrangling"
   ]
  },
  {
   "cell_type": "code",
   "execution_count": 6,
   "metadata": {},
   "outputs": [
    {
     "name": "stderr",
     "output_type": "stream",
     "text": [
      "C:\\ProgramData\\Anaconda3\\lib\\site-packages\\IPython\\core\\interactiveshell.py:3058: DtypeWarning: Columns (1,8) have mixed types. Specify dtype option on import or set low_memory=False.\n",
      "  interactivity=interactivity, compiler=compiler, result=result)\n"
     ]
    }
   ],
   "source": [
    "# Read contents of Master File\n",
    "df = pd.read_csv('baywheels_master.csv')\n"
   ]
  },
  {
   "cell_type": "code",
   "execution_count": 7,
   "metadata": {},
   "outputs": [
    {
     "data": {
      "text/html": [
       "<div>\n",
       "<style scoped>\n",
       "    .dataframe tbody tr th:only-of-type {\n",
       "        vertical-align: middle;\n",
       "    }\n",
       "\n",
       "    .dataframe tbody tr th {\n",
       "        vertical-align: top;\n",
       "    }\n",
       "\n",
       "    .dataframe thead th {\n",
       "        text-align: right;\n",
       "    }\n",
       "</style>\n",
       "<table border=\"1\" class=\"dataframe\">\n",
       "  <thead>\n",
       "    <tr style=\"text-align: right;\">\n",
       "      <th></th>\n",
       "      <th>bike_id</th>\n",
       "      <th>duration_sec</th>\n",
       "      <th>end_station_id</th>\n",
       "      <th>end_station_latitude</th>\n",
       "      <th>end_station_longitude</th>\n",
       "      <th>start_station_id</th>\n",
       "      <th>start_station_latitude</th>\n",
       "      <th>start_station_longitude</th>\n",
       "    </tr>\n",
       "  </thead>\n",
       "  <tbody>\n",
       "    <tr>\n",
       "      <td>count</td>\n",
       "      <td>2.506983e+06</td>\n",
       "      <td>2.506983e+06</td>\n",
       "      <td>2.424081e+06</td>\n",
       "      <td>2.506983e+06</td>\n",
       "      <td>2.506983e+06</td>\n",
       "      <td>2.426249e+06</td>\n",
       "      <td>2.506983e+06</td>\n",
       "      <td>2.506983e+06</td>\n",
       "    </tr>\n",
       "    <tr>\n",
       "      <td>mean</td>\n",
       "      <td>2.789833e+04</td>\n",
       "      <td>8.076483e+02</td>\n",
       "      <td>1.427044e+02</td>\n",
       "      <td>3.776422e+01</td>\n",
       "      <td>-1.223459e+02</td>\n",
       "      <td>1.465047e+02</td>\n",
       "      <td>3.776506e+01</td>\n",
       "      <td>-1.223499e+02</td>\n",
       "    </tr>\n",
       "    <tr>\n",
       "      <td>std</td>\n",
       "      <td>1.146067e+05</td>\n",
       "      <td>1.974714e+03</td>\n",
       "      <td>1.214296e+02</td>\n",
       "      <td>2.392885e-01</td>\n",
       "      <td>7.080417e-01</td>\n",
       "      <td>1.223171e+02</td>\n",
       "      <td>1.363698e-01</td>\n",
       "      <td>3.089648e-01</td>\n",
       "    </tr>\n",
       "    <tr>\n",
       "      <td>min</td>\n",
       "      <td>4.000000e+00</td>\n",
       "      <td>6.000000e+01</td>\n",
       "      <td>3.000000e+00</td>\n",
       "      <td>0.000000e+00</td>\n",
       "      <td>-1.225143e+02</td>\n",
       "      <td>3.000000e+00</td>\n",
       "      <td>0.000000e+00</td>\n",
       "      <td>-1.225143e+02</td>\n",
       "    </tr>\n",
       "    <tr>\n",
       "      <td>25%</td>\n",
       "      <td>1.952000e+03</td>\n",
       "      <td>3.590000e+02</td>\n",
       "      <td>4.300000e+01</td>\n",
       "      <td>3.777003e+01</td>\n",
       "      <td>-1.224117e+02</td>\n",
       "      <td>4.700000e+01</td>\n",
       "      <td>3.776931e+01</td>\n",
       "      <td>-1.224130e+02</td>\n",
       "    </tr>\n",
       "    <tr>\n",
       "      <td>50%</td>\n",
       "      <td>4.420000e+03</td>\n",
       "      <td>5.710000e+02</td>\n",
       "      <td>1.010000e+02</td>\n",
       "      <td>3.778076e+01</td>\n",
       "      <td>-1.223981e+02</td>\n",
       "      <td>1.050000e+02</td>\n",
       "      <td>3.778053e+01</td>\n",
       "      <td>-1.223983e+02</td>\n",
       "    </tr>\n",
       "    <tr>\n",
       "      <td>75%</td>\n",
       "      <td>9.682000e+03</td>\n",
       "      <td>8.870000e+02</td>\n",
       "      <td>2.390000e+02</td>\n",
       "      <td>3.779587e+01</td>\n",
       "      <td>-1.222934e+02</td>\n",
       "      <td>2.430000e+02</td>\n",
       "      <td>3.779539e+01</td>\n",
       "      <td>-1.222914e+02</td>\n",
       "    </tr>\n",
       "    <tr>\n",
       "      <td>max</td>\n",
       "      <td>9.999410e+05</td>\n",
       "      <td>9.121100e+05</td>\n",
       "      <td>4.980000e+02</td>\n",
       "      <td>4.551000e+01</td>\n",
       "      <td>0.000000e+00</td>\n",
       "      <td>4.980000e+02</td>\n",
       "      <td>4.551000e+01</td>\n",
       "      <td>0.000000e+00</td>\n",
       "    </tr>\n",
       "  </tbody>\n",
       "</table>\n",
       "</div>"
      ],
      "text/plain": [
       "            bike_id  duration_sec  end_station_id  end_station_latitude  \\\n",
       "count  2.506983e+06  2.506983e+06    2.424081e+06          2.506983e+06   \n",
       "mean   2.789833e+04  8.076483e+02    1.427044e+02          3.776422e+01   \n",
       "std    1.146067e+05  1.974714e+03    1.214296e+02          2.392885e-01   \n",
       "min    4.000000e+00  6.000000e+01    3.000000e+00          0.000000e+00   \n",
       "25%    1.952000e+03  3.590000e+02    4.300000e+01          3.777003e+01   \n",
       "50%    4.420000e+03  5.710000e+02    1.010000e+02          3.778076e+01   \n",
       "75%    9.682000e+03  8.870000e+02    2.390000e+02          3.779587e+01   \n",
       "max    9.999410e+05  9.121100e+05    4.980000e+02          4.551000e+01   \n",
       "\n",
       "       end_station_longitude  start_station_id  start_station_latitude  \\\n",
       "count           2.506983e+06      2.426249e+06            2.506983e+06   \n",
       "mean           -1.223459e+02      1.465047e+02            3.776506e+01   \n",
       "std             7.080417e-01      1.223171e+02            1.363698e-01   \n",
       "min            -1.225143e+02      3.000000e+00            0.000000e+00   \n",
       "25%            -1.224117e+02      4.700000e+01            3.776931e+01   \n",
       "50%            -1.223981e+02      1.050000e+02            3.778053e+01   \n",
       "75%            -1.222934e+02      2.430000e+02            3.779539e+01   \n",
       "max             0.000000e+00      4.980000e+02            4.551000e+01   \n",
       "\n",
       "       start_station_longitude  \n",
       "count             2.506983e+06  \n",
       "mean             -1.223499e+02  \n",
       "std               3.089648e-01  \n",
       "min              -1.225143e+02  \n",
       "25%              -1.224130e+02  \n",
       "50%              -1.223983e+02  \n",
       "75%              -1.222914e+02  \n",
       "max               0.000000e+00  "
      ]
     },
     "execution_count": 7,
     "metadata": {},
     "output_type": "execute_result"
    }
   ],
   "source": [
    "# Showing the first five rows of the newly combined dataset\n",
    "df.describe()\n"
   ]
  },
  {
   "cell_type": "code",
   "execution_count": 8,
   "metadata": {},
   "outputs": [
    {
     "data": {
      "text/html": [
       "<div>\n",
       "<style scoped>\n",
       "    .dataframe tbody tr th:only-of-type {\n",
       "        vertical-align: middle;\n",
       "    }\n",
       "\n",
       "    .dataframe tbody tr th {\n",
       "        vertical-align: top;\n",
       "    }\n",
       "\n",
       "    .dataframe thead th {\n",
       "        text-align: right;\n",
       "    }\n",
       "</style>\n",
       "<table border=\"1\" class=\"dataframe\">\n",
       "  <thead>\n",
       "    <tr style=\"text-align: right;\">\n",
       "      <th></th>\n",
       "      <th>bike_id</th>\n",
       "      <th>bike_share_for_all_trip</th>\n",
       "      <th>duration_sec</th>\n",
       "      <th>end_station_id</th>\n",
       "      <th>end_station_latitude</th>\n",
       "      <th>end_station_longitude</th>\n",
       "      <th>end_station_name</th>\n",
       "      <th>end_time</th>\n",
       "      <th>rental_access_method</th>\n",
       "      <th>start_station_id</th>\n",
       "      <th>start_station_latitude</th>\n",
       "      <th>start_station_longitude</th>\n",
       "      <th>start_station_name</th>\n",
       "      <th>start_time</th>\n",
       "      <th>user_type</th>\n",
       "    </tr>\n",
       "  </thead>\n",
       "  <tbody>\n",
       "    <tr>\n",
       "      <td>903110</td>\n",
       "      <td>1855</td>\n",
       "      <td>No</td>\n",
       "      <td>173</td>\n",
       "      <td>285.0</td>\n",
       "      <td>37.783521</td>\n",
       "      <td>-122.431158</td>\n",
       "      <td>Webster St at O'Farrell St</td>\n",
       "      <td>2019-05-26 20:29:02.1920</td>\n",
       "      <td>NaN</td>\n",
       "      <td>55.0</td>\n",
       "      <td>37.777053</td>\n",
       "      <td>-122.429558</td>\n",
       "      <td>Webster St at Grove St</td>\n",
       "      <td>2019-05-26 20:26:08.8860</td>\n",
       "      <td>Subscriber</td>\n",
       "    </tr>\n",
       "    <tr>\n",
       "      <td>1187874</td>\n",
       "      <td>746</td>\n",
       "      <td>No</td>\n",
       "      <td>1738</td>\n",
       "      <td>53.0</td>\n",
       "      <td>37.775946</td>\n",
       "      <td>-122.437777</td>\n",
       "      <td>Grove St at Divisadero</td>\n",
       "      <td>2019-06-09 16:34:39.3520</td>\n",
       "      <td>NaN</td>\n",
       "      <td>400.0</td>\n",
       "      <td>37.804272</td>\n",
       "      <td>-122.433537</td>\n",
       "      <td>Buchanan St at North Point St</td>\n",
       "      <td>2019-06-09 16:05:41.1520</td>\n",
       "      <td>Customer</td>\n",
       "    </tr>\n",
       "    <tr>\n",
       "      <td>1207723</td>\n",
       "      <td>3515</td>\n",
       "      <td>No</td>\n",
       "      <td>634</td>\n",
       "      <td>321.0</td>\n",
       "      <td>37.780146</td>\n",
       "      <td>-122.403071</td>\n",
       "      <td>5th St at Folsom</td>\n",
       "      <td>2019-06-06 09:53:29.8760</td>\n",
       "      <td>NaN</td>\n",
       "      <td>124.0</td>\n",
       "      <td>37.760447</td>\n",
       "      <td>-122.410807</td>\n",
       "      <td>19th St at Florida St</td>\n",
       "      <td>2019-06-06 09:42:55.1960</td>\n",
       "      <td>Subscriber</td>\n",
       "    </tr>\n",
       "    <tr>\n",
       "      <td>502969</td>\n",
       "      <td>5294</td>\n",
       "      <td>No</td>\n",
       "      <td>451</td>\n",
       "      <td>23.0</td>\n",
       "      <td>37.791464</td>\n",
       "      <td>-122.391034</td>\n",
       "      <td>The Embarcadero at Steuart St</td>\n",
       "      <td>2019-03-17 13:26:15.4370</td>\n",
       "      <td>NaN</td>\n",
       "      <td>10.0</td>\n",
       "      <td>37.795393</td>\n",
       "      <td>-122.404770</td>\n",
       "      <td>Washington St at Kearny St</td>\n",
       "      <td>2019-03-17 13:18:43.4930</td>\n",
       "      <td>Subscriber</td>\n",
       "    </tr>\n",
       "    <tr>\n",
       "      <td>289314</td>\n",
       "      <td>4712</td>\n",
       "      <td>No</td>\n",
       "      <td>956</td>\n",
       "      <td>101.0</td>\n",
       "      <td>37.767079</td>\n",
       "      <td>-122.407359</td>\n",
       "      <td>15th St at Potrero Ave</td>\n",
       "      <td>2019-02-15 09:17:13.3630</td>\n",
       "      <td>NaN</td>\n",
       "      <td>52.0</td>\n",
       "      <td>37.777416</td>\n",
       "      <td>-122.441838</td>\n",
       "      <td>McAllister St at Baker St</td>\n",
       "      <td>2019-02-15 09:01:16.4390</td>\n",
       "      <td>Subscriber</td>\n",
       "    </tr>\n",
       "    <tr>\n",
       "      <td>1210647</td>\n",
       "      <td>22</td>\n",
       "      <td>No</td>\n",
       "      <td>992</td>\n",
       "      <td>77.0</td>\n",
       "      <td>37.773507</td>\n",
       "      <td>-122.416040</td>\n",
       "      <td>11th St at Natoma St</td>\n",
       "      <td>2019-06-05 20:57:55.7800</td>\n",
       "      <td>NaN</td>\n",
       "      <td>22.0</td>\n",
       "      <td>37.789756</td>\n",
       "      <td>-122.394643</td>\n",
       "      <td>Howard St at Beale St</td>\n",
       "      <td>2019-06-05 20:41:23.6390</td>\n",
       "      <td>Subscriber</td>\n",
       "    </tr>\n",
       "    <tr>\n",
       "      <td>760291</td>\n",
       "      <td>5839</td>\n",
       "      <td>No</td>\n",
       "      <td>510</td>\n",
       "      <td>43.0</td>\n",
       "      <td>37.778768</td>\n",
       "      <td>-122.415929</td>\n",
       "      <td>San Francisco Public Library (Grove St at Hyde...</td>\n",
       "      <td>2019-04-11 20:06:16.5380</td>\n",
       "      <td>NaN</td>\n",
       "      <td>52.0</td>\n",
       "      <td>37.777416</td>\n",
       "      <td>-122.441838</td>\n",
       "      <td>McAllister St at Baker St</td>\n",
       "      <td>2019-04-11 19:57:46.0620</td>\n",
       "      <td>Subscriber</td>\n",
       "    </tr>\n",
       "    <tr>\n",
       "      <td>1229913</td>\n",
       "      <td>3693</td>\n",
       "      <td>No</td>\n",
       "      <td>1276</td>\n",
       "      <td>211.0</td>\n",
       "      <td>37.827757</td>\n",
       "      <td>-122.256716</td>\n",
       "      <td>Broadway at 40th St</td>\n",
       "      <td>2019-06-03 15:44:22.3190</td>\n",
       "      <td>NaN</td>\n",
       "      <td>157.0</td>\n",
       "      <td>37.846784</td>\n",
       "      <td>-122.291376</td>\n",
       "      <td>65th St at Hollis St</td>\n",
       "      <td>2019-06-03 15:23:06.0000</td>\n",
       "      <td>Subscriber</td>\n",
       "    </tr>\n",
       "    <tr>\n",
       "      <td>361136</td>\n",
       "      <td>577</td>\n",
       "      <td>No</td>\n",
       "      <td>873</td>\n",
       "      <td>81.0</td>\n",
       "      <td>37.775880</td>\n",
       "      <td>-122.393170</td>\n",
       "      <td>Berry St at 4th St</td>\n",
       "      <td>2019-02-04 12:34:31.1780</td>\n",
       "      <td>NaN</td>\n",
       "      <td>14.0</td>\n",
       "      <td>37.795001</td>\n",
       "      <td>-122.399970</td>\n",
       "      <td>Clay St at Battery St</td>\n",
       "      <td>2019-02-04 12:19:57.3000</td>\n",
       "      <td>Subscriber</td>\n",
       "    </tr>\n",
       "    <tr>\n",
       "      <td>1783010</td>\n",
       "      <td>10153</td>\n",
       "      <td>No</td>\n",
       "      <td>79</td>\n",
       "      <td>453.0</td>\n",
       "      <td>37.777934</td>\n",
       "      <td>-122.396973</td>\n",
       "      <td>Brannan St at 4th St</td>\n",
       "      <td>2019-09-21 14:37:03.6800</td>\n",
       "      <td>NaN</td>\n",
       "      <td>64.0</td>\n",
       "      <td>37.776754</td>\n",
       "      <td>-122.399018</td>\n",
       "      <td>5th St at Brannan St</td>\n",
       "      <td>2019-09-21 14:35:44.0060</td>\n",
       "      <td>Subscriber</td>\n",
       "    </tr>\n",
       "  </tbody>\n",
       "</table>\n",
       "</div>"
      ],
      "text/plain": [
       "         bike_id bike_share_for_all_trip  duration_sec  end_station_id  \\\n",
       "903110      1855                      No           173           285.0   \n",
       "1187874      746                      No          1738            53.0   \n",
       "1207723     3515                      No           634           321.0   \n",
       "502969      5294                      No           451            23.0   \n",
       "289314      4712                      No           956           101.0   \n",
       "1210647       22                      No           992            77.0   \n",
       "760291      5839                      No           510            43.0   \n",
       "1229913     3693                      No          1276           211.0   \n",
       "361136       577                      No           873            81.0   \n",
       "1783010    10153                      No            79           453.0   \n",
       "\n",
       "         end_station_latitude  end_station_longitude  \\\n",
       "903110              37.783521            -122.431158   \n",
       "1187874             37.775946            -122.437777   \n",
       "1207723             37.780146            -122.403071   \n",
       "502969              37.791464            -122.391034   \n",
       "289314              37.767079            -122.407359   \n",
       "1210647             37.773507            -122.416040   \n",
       "760291              37.778768            -122.415929   \n",
       "1229913             37.827757            -122.256716   \n",
       "361136              37.775880            -122.393170   \n",
       "1783010             37.777934            -122.396973   \n",
       "\n",
       "                                          end_station_name  \\\n",
       "903110                          Webster St at O'Farrell St   \n",
       "1187874                             Grove St at Divisadero   \n",
       "1207723                                   5th St at Folsom   \n",
       "502969                       The Embarcadero at Steuart St   \n",
       "289314                              15th St at Potrero Ave   \n",
       "1210647                               11th St at Natoma St   \n",
       "760291   San Francisco Public Library (Grove St at Hyde...   \n",
       "1229913                                Broadway at 40th St   \n",
       "361136                                  Berry St at 4th St   \n",
       "1783010                               Brannan St at 4th St   \n",
       "\n",
       "                         end_time rental_access_method  start_station_id  \\\n",
       "903110   2019-05-26 20:29:02.1920                  NaN              55.0   \n",
       "1187874  2019-06-09 16:34:39.3520                  NaN             400.0   \n",
       "1207723  2019-06-06 09:53:29.8760                  NaN             124.0   \n",
       "502969   2019-03-17 13:26:15.4370                  NaN              10.0   \n",
       "289314   2019-02-15 09:17:13.3630                  NaN              52.0   \n",
       "1210647  2019-06-05 20:57:55.7800                  NaN              22.0   \n",
       "760291   2019-04-11 20:06:16.5380                  NaN              52.0   \n",
       "1229913  2019-06-03 15:44:22.3190                  NaN             157.0   \n",
       "361136   2019-02-04 12:34:31.1780                  NaN              14.0   \n",
       "1783010  2019-09-21 14:37:03.6800                  NaN              64.0   \n",
       "\n",
       "         start_station_latitude  start_station_longitude  \\\n",
       "903110                37.777053              -122.429558   \n",
       "1187874               37.804272              -122.433537   \n",
       "1207723               37.760447              -122.410807   \n",
       "502969                37.795393              -122.404770   \n",
       "289314                37.777416              -122.441838   \n",
       "1210647               37.789756              -122.394643   \n",
       "760291                37.777416              -122.441838   \n",
       "1229913               37.846784              -122.291376   \n",
       "361136                37.795001              -122.399970   \n",
       "1783010               37.776754              -122.399018   \n",
       "\n",
       "                    start_station_name                start_time   user_type  \n",
       "903110          Webster St at Grove St  2019-05-26 20:26:08.8860  Subscriber  \n",
       "1187874  Buchanan St at North Point St  2019-06-09 16:05:41.1520    Customer  \n",
       "1207723          19th St at Florida St  2019-06-06 09:42:55.1960  Subscriber  \n",
       "502969      Washington St at Kearny St  2019-03-17 13:18:43.4930  Subscriber  \n",
       "289314       McAllister St at Baker St  2019-02-15 09:01:16.4390  Subscriber  \n",
       "1210647          Howard St at Beale St  2019-06-05 20:41:23.6390  Subscriber  \n",
       "760291       McAllister St at Baker St  2019-04-11 19:57:46.0620  Subscriber  \n",
       "1229913           65th St at Hollis St  2019-06-03 15:23:06.0000  Subscriber  \n",
       "361136           Clay St at Battery St  2019-02-04 12:19:57.3000  Subscriber  \n",
       "1783010           5th St at Brannan St  2019-09-21 14:35:44.0060  Subscriber  "
      ]
     },
     "execution_count": 8,
     "metadata": {},
     "output_type": "execute_result"
    }
   ],
   "source": [
    "#Retrieve the first 10 samples of the data\n",
    "df.sample(10)\n"
   ]
  },
  {
   "cell_type": "code",
   "execution_count": 9,
   "metadata": {},
   "outputs": [
    {
     "name": "stdout",
     "output_type": "stream",
     "text": [
      "<class 'pandas.core.frame.DataFrame'>\n",
      "RangeIndex: 2506983 entries, 0 to 2506982\n",
      "Data columns (total 15 columns):\n",
      "bike_id                    2506983 non-null int64\n",
      "bike_share_for_all_trip    2263724 non-null object\n",
      "duration_sec               2506983 non-null int64\n",
      "end_station_id             2424081 non-null float64\n",
      "end_station_latitude       2506983 non-null float64\n",
      "end_station_longitude      2506983 non-null float64\n",
      "end_station_name           2424633 non-null object\n",
      "end_time                   2506983 non-null object\n",
      "rental_access_method       120838 non-null object\n",
      "start_station_id           2426249 non-null float64\n",
      "start_station_latitude     2506983 non-null float64\n",
      "start_station_longitude    2506983 non-null float64\n",
      "start_station_name         2426850 non-null object\n",
      "start_time                 2506983 non-null object\n",
      "user_type                  2506983 non-null object\n",
      "dtypes: float64(6), int64(2), object(7)\n",
      "memory usage: 286.9+ MB\n"
     ]
    }
   ],
   "source": [
    "df.info(null_counts = True)"
   ]
  },
  {
   "cell_type": "code",
   "execution_count": 10,
   "metadata": {},
   "outputs": [
    {
     "data": {
      "text/plain": [
       "bike_id                          0\n",
       "bike_share_for_all_trip     243259\n",
       "duration_sec                     0\n",
       "end_station_id               82902\n",
       "end_station_latitude             0\n",
       "end_station_longitude            0\n",
       "end_station_name             82350\n",
       "end_time                         0\n",
       "rental_access_method       2386145\n",
       "start_station_id             80734\n",
       "start_station_latitude           0\n",
       "start_station_longitude          0\n",
       "start_station_name           80133\n",
       "start_time                       0\n",
       "user_type                        0\n",
       "dtype: int64"
      ]
     },
     "execution_count": 10,
     "metadata": {},
     "output_type": "execute_result"
    }
   ],
   "source": [
    "df.isnull().sum()\n"
   ]
  },
  {
   "cell_type": "code",
   "execution_count": 11,
   "metadata": {},
   "outputs": [
    {
     "data": {
      "text/plain": [
       "0"
      ]
     },
     "execution_count": 11,
     "metadata": {},
     "output_type": "execute_result"
    }
   ],
   "source": [
    "# Check dataset for duplicated data\n",
    "df.duplicated().sum()\n"
   ]
  },
  {
   "cell_type": "code",
   "execution_count": 12,
   "metadata": {},
   "outputs": [
    {
     "data": {
      "text/plain": [
       "bike_id                          0\n",
       "bike_share_for_all_trip     243259\n",
       "duration_sec                     0\n",
       "end_station_id               82902\n",
       "end_station_latitude             0\n",
       "end_station_longitude            0\n",
       "end_station_name             82350\n",
       "end_time                         0\n",
       "rental_access_method       2386145\n",
       "start_station_id             80734\n",
       "start_station_latitude           0\n",
       "start_station_longitude          0\n",
       "start_station_name           80133\n",
       "start_time                       0\n",
       "user_type                        0\n",
       "dtype: int64"
      ]
     },
     "execution_count": 12,
     "metadata": {},
     "output_type": "execute_result"
    }
   ],
   "source": [
    "#check for NaN data types\n",
    "df.isna().sum()"
   ]
  },
  {
   "cell_type": "markdown",
   "metadata": {},
   "source": [
    "### Step 3. Cleaning Data \n",
    "There are some missing values in the dataset, such as start_station_id, start_station_name, end_station_id, end_station_name, rental_access_method. For more information please see below:\n",
    "\n",
    "* Start/end times are not in the timestamp format\n",
    "\n",
    "#### The following columns are not in object format:\n",
    "* start_station_id\n",
    "* end_station_id\n",
    "* bike_id\n",
    "* user_type\n",
    "* rental_access_method\n",
    "\n",
    "### Quality \n",
    "\n",
    "> There are some missing values and this will be sorted by converting some of the columns to the appropriate data types.\n"
   ]
  },
  {
   "cell_type": "code",
   "execution_count": 13,
   "metadata": {},
   "outputs": [],
   "source": [
    "# Save the original data set and create a copy \n",
    "df_cleaned = df.copy()"
   ]
  },
  {
   "cell_type": "markdown",
   "metadata": {},
   "source": [
    "### Define\n",
    "Converting columns to the appropriate data types:\n",
    "* Start_time and end_time to the timestamp format\n",
    "* User type and rental_access_method for all to category format\n",
    "* Bike ID, start station ID, and end station ID to object format\n"
   ]
  },
  {
   "cell_type": "markdown",
   "metadata": {},
   "source": [
    "### Code "
   ]
  },
  {
   "cell_type": "code",
   "execution_count": 14,
   "metadata": {},
   "outputs": [],
   "source": [
    "# Converting the format to datetime\n",
    "df_cleaned.start_time = pd.to_datetime(df_cleaned.start_time)\n",
    "df_cleaned.end_time = pd.to_datetime(df_cleaned.end_time)"
   ]
  },
  {
   "cell_type": "code",
   "execution_count": 15,
   "metadata": {},
   "outputs": [],
   "source": [
    "# Converting the user_type and rental_access_method to category format\n",
    "df_cleaned.user_type = df_cleaned.user_type.astype('category')\n",
    "df_cleaned.rental_access_method = df_cleaned.rental_access_method.astype('category')"
   ]
  },
  {
   "cell_type": "code",
   "execution_count": 16,
   "metadata": {},
   "outputs": [],
   "source": [
    "# Convertng the bike_id, start_station_id, and end_station_id to object\n",
    "df_cleaned.bike_id = df_cleaned.bike_id.astype(str)\n",
    "df_cleaned.start_station_id = df_cleaned.start_station_id.astype(str)\n",
    "df_cleaned.end_station_id = df_cleaned.end_station_id.astype(str)"
   ]
  },
  {
   "cell_type": "markdown",
   "metadata": {},
   "source": [
    "### Test"
   ]
  },
  {
   "cell_type": "code",
   "execution_count": 17,
   "metadata": {},
   "outputs": [
    {
     "name": "stdout",
     "output_type": "stream",
     "text": [
      "<class 'pandas.core.frame.DataFrame'>\n",
      "RangeIndex: 2506983 entries, 0 to 2506982\n",
      "Data columns (total 15 columns):\n",
      "bike_id                    2506983 non-null object\n",
      "bike_share_for_all_trip    2263724 non-null object\n",
      "duration_sec               2506983 non-null int64\n",
      "end_station_id             2506983 non-null object\n",
      "end_station_latitude       2506983 non-null float64\n",
      "end_station_longitude      2506983 non-null float64\n",
      "end_station_name           2424633 non-null object\n",
      "end_time                   2506983 non-null datetime64[ns]\n",
      "rental_access_method       120838 non-null category\n",
      "start_station_id           2506983 non-null object\n",
      "start_station_latitude     2506983 non-null float64\n",
      "start_station_longitude    2506983 non-null float64\n",
      "start_station_name         2426850 non-null object\n",
      "start_time                 2506983 non-null datetime64[ns]\n",
      "user_type                  2506983 non-null category\n",
      "dtypes: category(2), datetime64[ns](2), float64(4), int64(1), object(6)\n",
      "memory usage: 253.4+ MB\n"
     ]
    }
   ],
   "source": [
    "df_cleaned.info(null_counts = True)\n"
   ]
  },
  {
   "cell_type": "markdown",
   "metadata": {},
   "source": [
    "### Define\n",
    "> Add columns for the start month, day of the week, and hour, along with figuring out the trip duration in minutes so I can create visuals based on workable units"
   ]
  },
  {
   "cell_type": "markdown",
   "metadata": {},
   "source": [
    "### Code "
   ]
  },
  {
   "cell_type": "code",
   "execution_count": 18,
   "metadata": {},
   "outputs": [],
   "source": [
    "# Start time month (January - December)\n",
    "df_cleaned['start_time_month'] = df_cleaned['start_time'].dt.strftime('%B')"
   ]
  },
  {
   "cell_type": "code",
   "execution_count": 19,
   "metadata": {},
   "outputs": [],
   "source": [
    "# Start time month (1-12)\n",
    "df_cleaned['start_time_month_num'] = df_cleaned['start_time'].dt.month.astype(int)"
   ]
  },
  {
   "cell_type": "code",
   "execution_count": 20,
   "metadata": {},
   "outputs": [],
   "source": [
    "# Start time weekday\n",
    "df_cleaned['start_time_weekday'] = df_cleaned['start_time'].dt.strftime('%a')"
   ]
  },
  {
   "cell_type": "code",
   "execution_count": 21,
   "metadata": {},
   "outputs": [],
   "source": [
    "# Start and end time hour\n",
    "df_cleaned['start_time_hour'] = df_cleaned['start_time'].dt.hour\n",
    "df_cleaned['end_time_hour'] = df_cleaned['end_time'].dt.hour"
   ]
  },
  {
   "cell_type": "code",
   "execution_count": 22,
   "metadata": {},
   "outputs": [],
   "source": [
    "# Duration in seconds to duration in minutes\n",
    "df_cleaned['duration_min'] = df_cleaned['duration_sec']/60\n",
    "df_cleaned['duration_min'] = df_cleaned['duration_min'].astype(int)"
   ]
  },
  {
   "cell_type": "markdown",
   "metadata": {},
   "source": [
    "### Test "
   ]
  },
  {
   "cell_type": "code",
   "execution_count": 23,
   "metadata": {},
   "outputs": [
    {
     "data": {
      "text/html": [
       "<div>\n",
       "<style scoped>\n",
       "    .dataframe tbody tr th:only-of-type {\n",
       "        vertical-align: middle;\n",
       "    }\n",
       "\n",
       "    .dataframe tbody tr th {\n",
       "        vertical-align: top;\n",
       "    }\n",
       "\n",
       "    .dataframe thead th {\n",
       "        text-align: right;\n",
       "    }\n",
       "</style>\n",
       "<table border=\"1\" class=\"dataframe\">\n",
       "  <thead>\n",
       "    <tr style=\"text-align: right;\">\n",
       "      <th></th>\n",
       "      <th>bike_id</th>\n",
       "      <th>bike_share_for_all_trip</th>\n",
       "      <th>duration_sec</th>\n",
       "      <th>end_station_id</th>\n",
       "      <th>end_station_latitude</th>\n",
       "      <th>end_station_longitude</th>\n",
       "      <th>end_station_name</th>\n",
       "      <th>end_time</th>\n",
       "      <th>rental_access_method</th>\n",
       "      <th>start_station_id</th>\n",
       "      <th>...</th>\n",
       "      <th>start_station_longitude</th>\n",
       "      <th>start_station_name</th>\n",
       "      <th>start_time</th>\n",
       "      <th>user_type</th>\n",
       "      <th>start_time_month</th>\n",
       "      <th>start_time_month_num</th>\n",
       "      <th>start_time_weekday</th>\n",
       "      <th>start_time_hour</th>\n",
       "      <th>end_time_hour</th>\n",
       "      <th>duration_min</th>\n",
       "    </tr>\n",
       "  </thead>\n",
       "  <tbody>\n",
       "    <tr>\n",
       "      <td>1319365</td>\n",
       "      <td>1321</td>\n",
       "      <td>No</td>\n",
       "      <td>1000</td>\n",
       "      <td>6.0</td>\n",
       "      <td>37.804770</td>\n",
       "      <td>-122.403234</td>\n",
       "      <td>The Embarcadero at Sansome St</td>\n",
       "      <td>2019-07-17 18:03:08.257</td>\n",
       "      <td>NaN</td>\n",
       "      <td>3.0</td>\n",
       "      <td>...</td>\n",
       "      <td>-122.404904</td>\n",
       "      <td>Powell St BART Station (Market St at 4th St)</td>\n",
       "      <td>2019-07-17 17:46:27.595</td>\n",
       "      <td>Subscriber</td>\n",
       "      <td>July</td>\n",
       "      <td>7</td>\n",
       "      <td>Wed</td>\n",
       "      <td>17</td>\n",
       "      <td>18</td>\n",
       "      <td>16</td>\n",
       "    </tr>\n",
       "    <tr>\n",
       "      <td>1902172</td>\n",
       "      <td>3729</td>\n",
       "      <td>No</td>\n",
       "      <td>395</td>\n",
       "      <td>350.0</td>\n",
       "      <td>37.771431</td>\n",
       "      <td>-122.405787</td>\n",
       "      <td>8th St at Brannan St</td>\n",
       "      <td>2019-09-05 16:57:21.149</td>\n",
       "      <td>NaN</td>\n",
       "      <td>58.0</td>\n",
       "      <td>...</td>\n",
       "      <td>-122.417385</td>\n",
       "      <td>Market St at 10th St</td>\n",
       "      <td>2019-09-05 16:50:45.736</td>\n",
       "      <td>Subscriber</td>\n",
       "      <td>September</td>\n",
       "      <td>9</td>\n",
       "      <td>Thu</td>\n",
       "      <td>16</td>\n",
       "      <td>16</td>\n",
       "      <td>6</td>\n",
       "    </tr>\n",
       "    <tr>\n",
       "      <td>653622</td>\n",
       "      <td>388</td>\n",
       "      <td>No</td>\n",
       "      <td>833</td>\n",
       "      <td>86.0</td>\n",
       "      <td>37.769305</td>\n",
       "      <td>-122.426826</td>\n",
       "      <td>Market St at Dolores St</td>\n",
       "      <td>2019-04-27 11:12:16.538</td>\n",
       "      <td>NaN</td>\n",
       "      <td>5.0</td>\n",
       "      <td>...</td>\n",
       "      <td>-122.408445</td>\n",
       "      <td>Powell St BART Station (Market St at 5th St)</td>\n",
       "      <td>2019-04-27 10:58:23.139</td>\n",
       "      <td>Subscriber</td>\n",
       "      <td>April</td>\n",
       "      <td>4</td>\n",
       "      <td>Sat</td>\n",
       "      <td>10</td>\n",
       "      <td>11</td>\n",
       "      <td>13</td>\n",
       "    </tr>\n",
       "  </tbody>\n",
       "</table>\n",
       "<p>3 rows × 21 columns</p>\n",
       "</div>"
      ],
      "text/plain": [
       "        bike_id bike_share_for_all_trip  duration_sec end_station_id  \\\n",
       "1319365    1321                      No          1000            6.0   \n",
       "1902172    3729                      No           395          350.0   \n",
       "653622      388                      No           833           86.0   \n",
       "\n",
       "         end_station_latitude  end_station_longitude  \\\n",
       "1319365             37.804770            -122.403234   \n",
       "1902172             37.771431            -122.405787   \n",
       "653622              37.769305            -122.426826   \n",
       "\n",
       "                      end_station_name                end_time  \\\n",
       "1319365  The Embarcadero at Sansome St 2019-07-17 18:03:08.257   \n",
       "1902172           8th St at Brannan St 2019-09-05 16:57:21.149   \n",
       "653622         Market St at Dolores St 2019-04-27 11:12:16.538   \n",
       "\n",
       "        rental_access_method start_station_id  ...  start_station_longitude  \\\n",
       "1319365                  NaN              3.0  ...              -122.404904   \n",
       "1902172                  NaN             58.0  ...              -122.417385   \n",
       "653622                   NaN              5.0  ...              -122.408445   \n",
       "\n",
       "                                   start_station_name              start_time  \\\n",
       "1319365  Powell St BART Station (Market St at 4th St) 2019-07-17 17:46:27.595   \n",
       "1902172                          Market St at 10th St 2019-09-05 16:50:45.736   \n",
       "653622   Powell St BART Station (Market St at 5th St) 2019-04-27 10:58:23.139   \n",
       "\n",
       "          user_type start_time_month start_time_month_num  start_time_weekday  \\\n",
       "1319365  Subscriber             July                    7                 Wed   \n",
       "1902172  Subscriber        September                    9                 Thu   \n",
       "653622   Subscriber            April                    4                 Sat   \n",
       "\n",
       "        start_time_hour  end_time_hour  duration_min  \n",
       "1319365              17             18            16  \n",
       "1902172              16             16             6  \n",
       "653622               10             11            13  \n",
       "\n",
       "[3 rows x 21 columns]"
      ]
     },
     "execution_count": 23,
     "metadata": {},
     "output_type": "execute_result"
    }
   ],
   "source": [
    "df_cleaned.sample(3)\n"
   ]
  },
  {
   "cell_type": "markdown",
   "metadata": {},
   "source": [
    "### Define\n",
    "\n",
    ">Calculate the total distance traveled using the latitude and longitude in the data set"
   ]
  },
  {
   "cell_type": "markdown",
   "metadata": {},
   "source": [
    "### Code"
   ]
  },
  {
   "cell_type": "code",
   "execution_count": 24,
   "metadata": {},
   "outputs": [],
   "source": [
    "import math\n",
    "from math import radians, sin, cos, acos\n",
    "\n",
    "def distance(origin, destination):\n",
    "\n",
    "    lat1, long1 = origin\n",
    "    lat2, long2 = destination\n",
    "    radius = 6371 # this is in kms\n",
    "\n",
    "    dlat = math.radians(lat2 - lat1)\n",
    "    dlong = math.radians(long2 - long1)\n",
    "    \n",
    "    x = (math.sin(dlat / 2) * math.sin(dlat / 2) + math.cos(math.radians(lat1)) * math.cos(math.radians(lat2)) * math.sin(dlong / 2) * math.sin(dlong / 2))\n",
    "    y = 2 * math.atan2(math.sqrt(x), math.sqrt(1 - x))\n",
    "    z = radius * y\n",
    "\n",
    "    return z"
   ]
  },
  {
   "cell_type": "code",
   "execution_count": 25,
   "metadata": {},
   "outputs": [],
   "source": [
    "# Using the calcuated math on the columns for latidue and longitude\n",
    "df_cleaned['distance_km'] = df_cleaned.apply(lambda x: distance((x['start_station_latitude'], x['start_station_longitude']), (x['end_station_latitude'], x['end_station_longitude'])), axis=1)"
   ]
  },
  {
   "cell_type": "code",
   "execution_count": 26,
   "metadata": {},
   "outputs": [],
   "source": [
    "# Converting the kilometers to miles\n",
    "df_cleaned['distance_miles'] = df_cleaned['distance_km'] * 0.621371"
   ]
  },
  {
   "cell_type": "markdown",
   "metadata": {},
   "source": [
    "### Test"
   ]
  },
  {
   "cell_type": "code",
   "execution_count": 27,
   "metadata": {},
   "outputs": [
    {
     "data": {
      "text/html": [
       "<div>\n",
       "<style scoped>\n",
       "    .dataframe tbody tr th:only-of-type {\n",
       "        vertical-align: middle;\n",
       "    }\n",
       "\n",
       "    .dataframe tbody tr th {\n",
       "        vertical-align: top;\n",
       "    }\n",
       "\n",
       "    .dataframe thead th {\n",
       "        text-align: right;\n",
       "    }\n",
       "</style>\n",
       "<table border=\"1\" class=\"dataframe\">\n",
       "  <thead>\n",
       "    <tr style=\"text-align: right;\">\n",
       "      <th></th>\n",
       "      <th>bike_id</th>\n",
       "      <th>bike_share_for_all_trip</th>\n",
       "      <th>duration_sec</th>\n",
       "      <th>end_station_id</th>\n",
       "      <th>end_station_latitude</th>\n",
       "      <th>end_station_longitude</th>\n",
       "      <th>end_station_name</th>\n",
       "      <th>end_time</th>\n",
       "      <th>rental_access_method</th>\n",
       "      <th>start_station_id</th>\n",
       "      <th>...</th>\n",
       "      <th>start_time</th>\n",
       "      <th>user_type</th>\n",
       "      <th>start_time_month</th>\n",
       "      <th>start_time_month_num</th>\n",
       "      <th>start_time_weekday</th>\n",
       "      <th>start_time_hour</th>\n",
       "      <th>end_time_hour</th>\n",
       "      <th>duration_min</th>\n",
       "      <th>distance_km</th>\n",
       "      <th>distance_miles</th>\n",
       "    </tr>\n",
       "  </thead>\n",
       "  <tbody>\n",
       "    <tr>\n",
       "      <td>1792866</td>\n",
       "      <td>10321</td>\n",
       "      <td>No</td>\n",
       "      <td>346</td>\n",
       "      <td>56.0</td>\n",
       "      <td>37.773414</td>\n",
       "      <td>-122.427317</td>\n",
       "      <td>Koshland Park</td>\n",
       "      <td>2019-09-20 08:51:38.134</td>\n",
       "      <td>NaN</td>\n",
       "      <td>84.0</td>\n",
       "      <td>...</td>\n",
       "      <td>2019-09-20 08:45:51.826</td>\n",
       "      <td>Customer</td>\n",
       "      <td>September</td>\n",
       "      <td>9</td>\n",
       "      <td>Fri</td>\n",
       "      <td>8</td>\n",
       "      <td>8</td>\n",
       "      <td>5</td>\n",
       "      <td>0.738520</td>\n",
       "      <td>0.458895</td>\n",
       "    </tr>\n",
       "    <tr>\n",
       "      <td>1136741</td>\n",
       "      <td>3232</td>\n",
       "      <td>No</td>\n",
       "      <td>338</td>\n",
       "      <td>178.0</td>\n",
       "      <td>37.819381</td>\n",
       "      <td>-122.261928</td>\n",
       "      <td>Broadway at 30th St</td>\n",
       "      <td>2019-06-17 20:14:45.348</td>\n",
       "      <td>NaN</td>\n",
       "      <td>211.0</td>\n",
       "      <td>...</td>\n",
       "      <td>2019-06-17 20:09:06.667</td>\n",
       "      <td>Subscriber</td>\n",
       "      <td>June</td>\n",
       "      <td>6</td>\n",
       "      <td>Mon</td>\n",
       "      <td>20</td>\n",
       "      <td>20</td>\n",
       "      <td>5</td>\n",
       "      <td>1.037815</td>\n",
       "      <td>0.644868</td>\n",
       "    </tr>\n",
       "    <tr>\n",
       "      <td>1503258</td>\n",
       "      <td>10332</td>\n",
       "      <td>No</td>\n",
       "      <td>1079</td>\n",
       "      <td>24.0</td>\n",
       "      <td>37.789677</td>\n",
       "      <td>-122.390428</td>\n",
       "      <td>Spear St at Folsom St</td>\n",
       "      <td>2019-08-31 21:08:09.044</td>\n",
       "      <td>NaN</td>\n",
       "      <td>76.0</td>\n",
       "      <td>...</td>\n",
       "      <td>2019-08-31 20:50:09.946</td>\n",
       "      <td>Customer</td>\n",
       "      <td>August</td>\n",
       "      <td>8</td>\n",
       "      <td>Sat</td>\n",
       "      <td>20</td>\n",
       "      <td>21</td>\n",
       "      <td>17</td>\n",
       "      <td>3.452357</td>\n",
       "      <td>2.145194</td>\n",
       "    </tr>\n",
       "    <tr>\n",
       "      <td>1268593</td>\n",
       "      <td>3361</td>\n",
       "      <td>No</td>\n",
       "      <td>777</td>\n",
       "      <td>87.0</td>\n",
       "      <td>37.769757</td>\n",
       "      <td>-122.415674</td>\n",
       "      <td>Folsom St at 13th St</td>\n",
       "      <td>2019-07-27 18:02:47.336</td>\n",
       "      <td>NaN</td>\n",
       "      <td>20.0</td>\n",
       "      <td>...</td>\n",
       "      <td>2019-07-27 17:49:49.364</td>\n",
       "      <td>Subscriber</td>\n",
       "      <td>July</td>\n",
       "      <td>7</td>\n",
       "      <td>Sat</td>\n",
       "      <td>17</td>\n",
       "      <td>18</td>\n",
       "      <td>12</td>\n",
       "      <td>2.805802</td>\n",
       "      <td>1.743444</td>\n",
       "    </tr>\n",
       "    <tr>\n",
       "      <td>2115033</td>\n",
       "      <td>670</td>\n",
       "      <td>No</td>\n",
       "      <td>1162</td>\n",
       "      <td>28.0</td>\n",
       "      <td>37.787168</td>\n",
       "      <td>-122.388098</td>\n",
       "      <td>The Embarcadero at Bryant St</td>\n",
       "      <td>2019-10-08 08:51:15.232</td>\n",
       "      <td>NaN</td>\n",
       "      <td>125.0</td>\n",
       "      <td>...</td>\n",
       "      <td>2019-10-08 08:31:52.814</td>\n",
       "      <td>Subscriber</td>\n",
       "      <td>October</td>\n",
       "      <td>10</td>\n",
       "      <td>Tue</td>\n",
       "      <td>8</td>\n",
       "      <td>8</td>\n",
       "      <td>19</td>\n",
       "      <td>3.650572</td>\n",
       "      <td>2.268360</td>\n",
       "    </tr>\n",
       "  </tbody>\n",
       "</table>\n",
       "<p>5 rows × 23 columns</p>\n",
       "</div>"
      ],
      "text/plain": [
       "        bike_id bike_share_for_all_trip  duration_sec end_station_id  \\\n",
       "1792866   10321                      No           346           56.0   \n",
       "1136741    3232                      No           338          178.0   \n",
       "1503258   10332                      No          1079           24.0   \n",
       "1268593    3361                      No           777           87.0   \n",
       "2115033     670                      No          1162           28.0   \n",
       "\n",
       "         end_station_latitude  end_station_longitude  \\\n",
       "1792866             37.773414            -122.427317   \n",
       "1136741             37.819381            -122.261928   \n",
       "1503258             37.789677            -122.390428   \n",
       "1268593             37.769757            -122.415674   \n",
       "2115033             37.787168            -122.388098   \n",
       "\n",
       "                     end_station_name                end_time  \\\n",
       "1792866                 Koshland Park 2019-09-20 08:51:38.134   \n",
       "1136741           Broadway at 30th St 2019-06-17 20:14:45.348   \n",
       "1503258         Spear St at Folsom St 2019-08-31 21:08:09.044   \n",
       "1268593          Folsom St at 13th St 2019-07-27 18:02:47.336   \n",
       "2115033  The Embarcadero at Bryant St 2019-10-08 08:51:15.232   \n",
       "\n",
       "        rental_access_method start_station_id  ...              start_time  \\\n",
       "1792866                  NaN             84.0  ... 2019-09-20 08:45:51.826   \n",
       "1136741                  NaN            211.0  ... 2019-06-17 20:09:06.667   \n",
       "1503258                  NaN             76.0  ... 2019-08-31 20:50:09.946   \n",
       "1268593                  NaN             20.0  ... 2019-07-27 17:49:49.364   \n",
       "2115033                  NaN            125.0  ... 2019-10-08 08:31:52.814   \n",
       "\n",
       "          user_type start_time_month start_time_month_num start_time_weekday  \\\n",
       "1792866    Customer        September                    9                Fri   \n",
       "1136741  Subscriber             June                    6                Mon   \n",
       "1503258    Customer           August                    8                Sat   \n",
       "1268593  Subscriber             July                    7                Sat   \n",
       "2115033  Subscriber          October                   10                Tue   \n",
       "\n",
       "        start_time_hour  end_time_hour duration_min  distance_km  \\\n",
       "1792866               8              8            5     0.738520   \n",
       "1136741              20             20            5     1.037815   \n",
       "1503258              20             21           17     3.452357   \n",
       "1268593              17             18           12     2.805802   \n",
       "2115033               8              8           19     3.650572   \n",
       "\n",
       "         distance_miles  \n",
       "1792866        0.458895  \n",
       "1136741        0.644868  \n",
       "1503258        2.145194  \n",
       "1268593        1.743444  \n",
       "2115033        2.268360  \n",
       "\n",
       "[5 rows x 23 columns]"
      ]
     },
     "execution_count": 27,
     "metadata": {},
     "output_type": "execute_result"
    }
   ],
   "source": [
    "df_cleaned.sample(5)\n"
   ]
  },
  {
   "cell_type": "markdown",
   "metadata": {},
   "source": [
    "### Store Data"
   ]
  },
  {
   "cell_type": "code",
   "execution_count": 28,
   "metadata": {},
   "outputs": [],
   "source": [
    "df_cleaned.to_csv('baywheels_master_clean.csv', index = False)\n"
   ]
  },
  {
   "cell_type": "markdown",
   "metadata": {},
   "source": [
    "### What is the structure of your dataset?\n",
    "\n",
    "The FordGoBike and BayWheels Datasets provide a valuable collection of data to work with in order draw data findings and a conclusion. This notebook uses data collected from January 2019 which the organisation was still using the naming structure FordGoBike until May 2019 and then changed its naming structure December 2019. There have been some anomity changes in the dataset and can no longer be distinguish by gender. \n",
    "\n",
    "\n",
    "> The dataset has 25000+ bike rides that had happened in 2019. \n",
    "\n",
    "### The dataset contained features about:\n",
    "\n",
    "* trip duration\n",
    "* start time/end time\n",
    "* stations: start/end station, name, geolocation (latitude/longitude)\n",
    "* anonymized customer data: The users are divided into two user types: Subscriber and Customer\n",
    "* rented bikes: bike_id \n",
    "\n",
    "\n",
    "### The following columns that were added in the data cleaning phase:\n",
    "\n",
    "\n",
    "* Start Time Month\n",
    "* Start Time Month Number\n",
    "* Start Time Day of the Week\n",
    "* Start Time Hour\n",
    "* Distance (km)\n",
    "* Distance (miles)\n",
    "  \n",
    "\n",
    "### What is/are the main feature(s) of interest in your dataset?\n",
    "\n",
    "> I am interested in investigate the main features which include data that is related to the start time and end time of a ride. \n",
    "\n",
    "### What features in the dataset do you think will help support your investigation into your feature(s) of interest?\n",
    "\n",
    "> The features in the dataset that I think will ehance my investigation would be looking at the start times and end times as well as any related time-based information. "
   ]
  },
  {
   "cell_type": "markdown",
   "metadata": {},
   "source": [
    "## Step 4. Univariate Exploration\n",
    "\n",
    "> In this section, investigate distributions of individual variables. If\n",
    "you see unusual points or outliers, take a deeper look to clean things up\n",
    "and prepare yourself to look at relationships between variables."
   ]
  },
  {
   "cell_type": "code",
   "execution_count": 28,
   "metadata": {},
   "outputs": [
    {
     "data": {
      "text/plain": [
       "count     2506983\n",
       "unique         12\n",
       "top          July\n",
       "freq       258102\n",
       "Name: start_time_month, dtype: object"
      ]
     },
     "execution_count": 28,
     "metadata": {},
     "output_type": "execute_result"
    }
   ],
   "source": [
    "#have a look at the dataset \n",
    "df_cleaned.start_time_month.describe()\n"
   ]
  },
  {
   "cell_type": "code",
   "execution_count": 29,
   "metadata": {},
   "outputs": [],
   "source": [
    "sin_color = sb.color_palette()[0]"
   ]
  },
  {
   "cell_type": "code",
   "execution_count": 30,
   "metadata": {},
   "outputs": [
    {
     "data": {
      "text/plain": [
       "<seaborn.axisgrid.FacetGrid at 0x2277071f108>"
      ]
     },
     "execution_count": 30,
     "metadata": {},
     "output_type": "execute_result"
    },
    {
     "data": {
      "image/png": "[encoded data removed]",
      "text/plain": [
       "<Figure size 648x360 with 1 Axes>"
      ]
     },
     "metadata": {
      "needs_background": "light"
     },
     "output_type": "display_data"
    }
   ],
   "source": [
    "#Display monthly Ford Go Bike sharing system\n",
    "graph = sb.catplot(data = df_cleaned, x = 'start_time_month', \n",
    "                   kind = 'count', color = sin_color, aspect = 1.8);\n",
    "graph.set_axis_labels('Month', 'Number of Bike Trips'),\n",
    "graph.fig.suptitle('Usage by Month',\n",
    "                   y = 1.07, fontsize = 16, fontweight = 'bold');\n",
    "graph.set_xticklabels(rotation=80)"
   ]
  },
  {
   "cell_type": "markdown",
   "metadata": {},
   "source": [
    "### Observation 1:  Usage by Month\n",
    "\n",
    "> In the Bay Area, July which is in Summer in the Northen Hemispher is the most popular time to use the Ford Go Bike sharing system. March is also the second most popular time to use the Ford Go Bike sharing system in the Bay Area. \n",
    "\n",
    ">While December which is Winter time in the Northern Hemisphere, is the least popular time to use the Ford Go Bike Sharing System. Therefore, there will be more bikes available due to the usuage of bikes not been used around the Christmas Holidays. "
   ]
  },
  {
   "cell_type": "code",
   "execution_count": 31,
   "metadata": {},
   "outputs": [
    {
     "data": {
      "image/png": "[encoded data removed]",
      "text/plain": [
       "<Figure size 360x360 with 1 Axes>"
      ]
     },
     "metadata": {
      "needs_background": "light"
     },
     "output_type": "display_data"
    }
   ],
   "source": [
    "# Weekly usage of the Ford Go bike sharing system\n",
    "weekday = ['Mon', 'Tue', 'Wed', 'Thu', 'Fri', 'Sat', 'Sun']\n",
    "graph = sb.catplot(data=df_cleaned, x='start_time_weekday', \n",
    "                   kind='count', color = sin_color, order = weekday)\n",
    "graph.set_axis_labels('Weekdays', 'Number of Bike Trips')\n",
    "graph.fig.suptitle('Usage by Day of the Week ',\n",
    "                   y=1.07, fontsize=16, fontweight='bold');\n",
    "graph.set_xticklabels(rotation=80);"
   ]
  },
  {
   "cell_type": "markdown",
   "metadata": {},
   "source": [
    "### Observation 2:  Usage by Month\n",
    "\n",
    "In 2019, Monday through Friday has heavy usage in hiring bikes from the Ford Go Bike sharing system in the Bay Area. \n",
    "The usage drops significantly on the weekend where Saturday and Sunday. The data suggests that the Ford Go Bike sharing system is mainly used during the week. "
   ]
  },
  {
   "cell_type": "code",
   "execution_count": 32,
   "metadata": {},
   "outputs": [
    {
     "data": {
      "image/png": "[encoded data removed]",
      "text/plain": [
       "<Figure size 612x360 with 1 Axes>"
      ]
     },
     "metadata": {
      "needs_background": "light"
     },
     "output_type": "display_data"
    }
   ],
   "source": [
    "#Hourly usage of the Ford Go bike sharing system\n",
    "graph = sb.catplot(data = df_cleaned, x='start_time_hour', \n",
    "                   kind='count', color = sin_color, aspect = 1.7)\n",
    "graph.set_axis_labels('Hours', 'Number of Bike Rides')\n",
    "graph.fig.suptitle('Usage by Hour', y=1.07, fontsize=16, fontweight='bold');\n",
    "graph.set_xticklabels(rotation=80);"
   ]
  },
  {
   "cell_type": "markdown",
   "metadata": {},
   "source": [
    "### Observation 3: Usage by Hour \n",
    "\n",
    "> In 2019, the most popular times to ride bikes would during 0700-0900 and from 1600-1900. \n",
    "The highest usage time was at 0800 in the morning and at 1700 in the afternoon. \n",
    "The least used time of the bikes was at 0300. "
   ]
  },
  {
   "cell_type": "code",
   "execution_count": 33,
   "metadata": {},
   "outputs": [
    {
     "name": "stdout",
     "output_type": "stream",
     "text": [
      "<class 'pandas.core.frame.DataFrame'>\n",
      "RangeIndex: 2506983 entries, 0 to 2506982\n",
      "Data columns (total 23 columns):\n",
      "bike_id                    object\n",
      "bike_share_for_all_trip    object\n",
      "duration_sec               int64\n",
      "end_station_id             object\n",
      "end_station_latitude       float64\n",
      "end_station_longitude      float64\n",
      "end_station_name           object\n",
      "end_time                   datetime64[ns]\n",
      "rental_access_method       category\n",
      "start_station_id           object\n",
      "start_station_latitude     float64\n",
      "start_station_longitude    float64\n",
      "start_station_name         object\n",
      "start_time                 datetime64[ns]\n",
      "user_type                  category\n",
      "start_time_month           object\n",
      "start_time_month_num       int32\n",
      "start_time_weekday         object\n",
      "start_time_hour            int64\n",
      "end_time_hour              int64\n",
      "duration_min               float64\n",
      "distance_km                float64\n",
      "distance_miles             float64\n",
      "dtypes: category(2), datetime64[ns](2), float64(7), int32(1), int64(3), object(8)\n",
      "memory usage: 396.9+ MB\n"
     ]
    }
   ],
   "source": [
    "#Convert duration to minutes instead of seconds \n",
    "df_cleaned['duration_min'] = df_cleaned['duration_sec']/60\n",
    "df_cleaned.info()"
   ]
  },
  {
   "cell_type": "code",
   "execution_count": 34,
   "metadata": {},
   "outputs": [
    {
     "data": {
      "text/plain": [
       "count    2.506983e+06\n",
       "mean     1.346081e+01\n",
       "std      3.291190e+01\n",
       "min      1.000000e+00\n",
       "25%      5.983333e+00\n",
       "50%      9.516667e+00\n",
       "75%      1.478333e+01\n",
       "max      1.520183e+04\n",
       "Name: duration_min, dtype: float64"
      ]
     },
     "execution_count": 34,
     "metadata": {},
     "output_type": "execute_result"
    }
   ],
   "source": [
    "#finding the distribution \n",
    "df_cleaned.duration_min.describe()"
   ]
  },
  {
   "cell_type": "code",
   "execution_count": 35,
   "metadata": {},
   "outputs": [
    {
     "data": {
      "image/png": "[encoded data removed]",
      "text/plain": [
       "<Figure size 432x288 with 1 Axes>"
      ]
     },
     "metadata": {
      "needs_background": "light"
     },
     "output_type": "display_data"
    }
   ],
   "source": [
    "#Display the FordGoBike Trip Duration in Seconds \n",
    "bin_edges = np.arange(0, 4000, 70)\n",
    "plt.hist(data = df_cleaned, x = 'duration_sec', bins = bin_edges);\n",
    "plt.title(\"Trip Duration in Seconds\", \n",
    "          y=1.07, fontsize=16, fontweight='bold')\n",
    "plt.xlabel('Duration in Seconds')\n",
    "plt.ylabel('Number of Bike Trips');\n",
    "graph.set_xticklabels(rotation=80);"
   ]
  },
  {
   "cell_type": "code",
   "execution_count": 36,
   "metadata": {},
   "outputs": [
    {
     "data": {
      "text/plain": [
       "count    2.506983e+06\n",
       "mean     1.346081e+01\n",
       "std      3.291190e+01\n",
       "min      1.000000e+00\n",
       "25%      5.983333e+00\n",
       "50%      9.516667e+00\n",
       "75%      1.478333e+01\n",
       "max      1.520183e+04\n",
       "Name: duration_min, dtype: float64"
      ]
     },
     "execution_count": 36,
     "metadata": {},
     "output_type": "execute_result"
    }
   ],
   "source": [
    "#Finding the distribution\n",
    "df_cleaned.duration_min.describe(percentiles = [.95])\n",
    "df_cleaned.duration_min.describe()"
   ]
  },
  {
   "cell_type": "code",
   "execution_count": 37,
   "metadata": {},
   "outputs": [
    {
     "data": {
      "text/plain": [
       "13.46080549808363"
      ]
     },
     "execution_count": 37,
     "metadata": {},
     "output_type": "execute_result"
    }
   ],
   "source": [
    "#Find out the average trip\n",
    "df_cleaned.duration_min.mean()\n"
   ]
  },
  {
   "cell_type": "code",
   "execution_count": 38,
   "metadata": {},
   "outputs": [
    {
     "data": {
      "image/png": "[encoded data removed]",
      "text/plain": [
       "<Figure size 432x288 with 1 Axes>"
      ]
     },
     "metadata": {
      "needs_background": "light"
     },
     "output_type": "display_data"
    }
   ],
   "source": [
    "# Display the duration bike rides in minutes \n",
    "bin_edges = np.arange(0, 45, 1)\n",
    "ticks = [0, 5, 10, 15, 20, 25, 30,  35, 40, 45]\n",
    "labels = ['{}'.format(val) for val in ticks]\n",
    "plt.hist(data = df_cleaned, x = 'duration_min', \n",
    "         bins = bin_edges, rwidth = 0.6);\n",
    "plt.title(\"Trip Duration in Minutes\", y=1.05, \n",
    "          fontsize=16, fontweight='bold')\n",
    "plt.xlabel('Duration in Minutes')\n",
    "plt.xticks(ticks, labels)\n",
    "plt.ylabel('Number of Bike Trips');\n",
    "graph.set_xticklabels(rotation=80);"
   ]
  },
  {
   "cell_type": "markdown",
   "metadata": {},
   "source": [
    "### Observation 4: Duration of Bike Trips\n",
    "\n",
    "> In 2019, the average duration of bike trips was under 13.46 minutes. \n"
   ]
  },
  {
   "cell_type": "code",
   "execution_count": 39,
   "metadata": {},
   "outputs": [
    {
     "data": {
      "text/plain": [
       "count    2.506983e+06\n",
       "mean     1.347115e+00\n",
       "std      4.815657e+01\n",
       "min      0.000000e+00\n",
       "25%      5.766851e-01\n",
       "50%      9.032320e-01\n",
       "75%      1.389988e+00\n",
       "max      7.953380e+03\n",
       "Name: distance_miles, dtype: float64"
      ]
     },
     "execution_count": 39,
     "metadata": {},
     "output_type": "execute_result"
    }
   ],
   "source": [
    "df_cleaned.distance_miles.describe()\n"
   ]
  },
  {
   "cell_type": "code",
   "execution_count": 40,
   "metadata": {},
   "outputs": [
    {
     "data": {
      "text/plain": [
       "1.347115165460442"
      ]
     },
     "execution_count": 40,
     "metadata": {},
     "output_type": "execute_result"
    }
   ],
   "source": [
    "df_cleaned.distance_miles.mean()\n"
   ]
  },
  {
   "cell_type": "code",
   "execution_count": 41,
   "metadata": {},
   "outputs": [
    {
     "data": {
      "image/png": "[encoded data removed]",
      "text/plain": [
       "<Figure size 432x288 with 1 Axes>"
      ]
     },
     "metadata": {
      "needs_background": "light"
     },
     "output_type": "display_data"
    }
   ],
   "source": [
    "bin_edges = np.arange(0, 5, 1)\n",
    "plt.hist(data = df_cleaned, x = 'distance_miles',\n",
    "         bins = bin_edges);\n",
    "plt.title(\"Trip Distance in Miles\", y=1.07, \n",
    "          fontsize=16, fontweight='bold')\n",
    "plt.xlabel('Distance in Miles')\n",
    "plt.ylabel('Number of Bike Trips');\n",
    "graph.set_xticklabels(rotation=80);"
   ]
  },
  {
   "cell_type": "markdown",
   "metadata": {},
   "source": [
    "### Observation 5: Distance in Miles \n",
    "> In 2019, the mean of the distance traveled in miles was at 1.347 miles. \n"
   ]
  },
  {
   "cell_type": "code",
   "execution_count": 42,
   "metadata": {},
   "outputs": [
    {
     "data": {
      "image/png": "[encoded data removed]",
      "text/plain": [
       "<Figure size 432x288 with 1 Axes>"
      ]
     },
     "metadata": {
      "needs_background": "light"
     },
     "output_type": "display_data"
    }
   ],
   "source": [
    "# Plotting start station id distribution.\n",
    "bin_edges = np.arange(0, 45, 1)\n",
    "ticks = [0, 5, 10, 15, 20, 25, 30,  35, 40, 45]\n",
    "labels = ['{}'.format(val) for val in ticks]\n",
    "plt.hist(data = df_cleaned, x = 'start_station_id', \n",
    "         bins = bin_edges, rwidth = 0.6);\n",
    "plt.title(\"Distribution of Start Stations\", y=1.05, \n",
    "          fontsize=16, fontweight='bold')\n",
    "plt.xlabel('Start Station')\n",
    "plt.xticks(ticks, labels)\n",
    "plt.ylabel('Number of Stations');\n",
    "graph.set_xticklabels(rotation=80);\n",
    "\n",
    "\n",
    "     "
   ]
  },
  {
   "cell_type": "code",
   "execution_count": 43,
   "metadata": {},
   "outputs": [
    {
     "data": {
      "image/png": "[encoded data removed]",
      "text/plain": [
       "<Figure size 432x288 with 1 Axes>"
      ]
     },
     "metadata": {
      "needs_background": "light"
     },
     "output_type": "display_data"
    }
   ],
   "source": [
    "# Plotting end station id distribution.\n",
    "bin_edges = np.arange(0, 45, 1)\n",
    "ticks = [0, 5, 10, 15, 20, 25, 30,  35, 40, 45]\n",
    "labels = ['{}'.format(val) for val in ticks]\n",
    "plt.hist(data = df_cleaned, x = 'end_station_id', \n",
    "         bins = bin_edges, rwidth = 0.6);\n",
    "plt.title(\"Distribution of End Stations\", y=1.05, \n",
    "          fontsize=16, fontweight='bold')\n",
    "plt.xlabel('End Station')\n",
    "plt.xticks(ticks, labels)\n",
    "plt.ylabel('Number of Stations');\n",
    "graph.set_xticklabels(rotation=80);"
   ]
  },
  {
   "cell_type": "markdown",
   "metadata": {},
   "source": [
    "### Observation 6: Distribution of Start and End Stations\n",
    "\n",
    "> In 2019, through observing the Start and End station usages. The same stations usage is more frequent as start stations and end stations. \n"
   ]
  },
  {
   "cell_type": "markdown",
   "metadata": {},
   "source": [
    "### Talk about some of the relationships you observed in this part of the investigation. How did the feature(s) of interest vary with other features in the dataset?\n",
    "\n",
    "> There were six observations that were made with the duration of the bike ride data. As the data was cleaned, through the data cleaning phase. The data visualisation of the duration of the bike ride and the distance helped to form a story. The trip duration takes a large amount of values and is concentrated.\n",
    "\n",
    "\n",
    "### Did you observe any interesting relationships between the other features (not the main feature(s) of interest)?\n",
    "\n",
    "> Looking at the cleaned dataset, in Observation 6: start station and end station which is plotted to do a comparison of bike sharers frequency in start and end station. \n"
   ]
  },
  {
   "cell_type": "markdown",
   "metadata": {},
   "source": [
    "## Bivariate Exploration\n",
    "\n",
    "> In this section, I investigate relationships between pairs of variables in the data."
   ]
  },
  {
   "cell_type": "code",
   "execution_count": 45,
   "metadata": {},
   "outputs": [],
   "source": [
    "# Clean the User Type data for data visualisation\n",
    "customer = df_cleaned.query('user_type == \"Customer\"')['bike_id'].count()\n",
    "subscriber = df_cleaned.query('user_type == \"Subscriber\"')['bike_id'].count()\n",
    "customer_prop = customer / df_cleaned['bike_id'].count()\n",
    "subscriber_prop = subscriber / df_cleaned['bike_id'].count()"
   ]
  },
  {
   "cell_type": "code",
   "execution_count": 46,
   "metadata": {},
   "outputs": [
    {
     "data": {
      "image/png": "[encoded data removed]",
      "text/plain": [
       "<Figure size 720x360 with 1 Axes>"
      ]
     },
     "metadata": {},
     "output_type": "display_data"
    }
   ],
   "source": [
    "# Plot a pie chart to compare the percentage of Customers vs Subscribers that are using the platform\n",
    "plt.figure(figsize = [10, 5])\n",
    "labels = ['Customer', 'Subscriber']\n",
    "size = [customer_prop, subscriber_prop]\n",
    "explode = (0, 0.3)\n",
    "plt.pie(size, explode=explode, labels = labels, autopct='%1.1f%%', \n",
    "        shadow=True, startangle=90, textprops={'color':'white'})\n",
    "plt.axis('equal')\n",
    "plt.suptitle('Customers vs. Subscribers in Ford GoBikes Sharing', y=1.07,\n",
    "             fontsize=16, fontweight='bold');"
   ]
  },
  {
   "cell_type": "markdown",
   "metadata": {},
   "source": [
    "### Observation 1: Customers vs. Subscribers in Ford GoBikes Sharing\n",
    "\n",
    "> In 2019, 80.6% of the user types in the Ford GoBikes sharing platform were Subscribers. 19.4% of the user types in the Ford GoBikes Sharing Platform were Customers. \n",
    "\n"
   ]
  },
  {
   "cell_type": "code",
   "execution_count": 47,
   "metadata": {},
   "outputs": [
    {
     "data": {
      "image/png": "[encoded data removed]",
      "text/plain": [
       "<Figure size 720x360 with 1 Axes>"
      ]
     },
     "metadata": {
      "needs_background": "light"
     },
     "output_type": "display_data"
    }
   ],
   "source": [
    "# Plot Number of Custoners vs Subscribers in the Ford GoBike Sharing app. \n",
    "plt.figure(figsize = [10, 5])\n",
    "graph = sb.countplot(data = df_cleaned, x = \"user_type\", \n",
    "                     order = df_cleaned.user_type.value_counts().index);\n",
    "graph.set_xlabel('User Type');\n",
    "graph.set_ylabel('Number of Bike Trips');\n",
    "plt.suptitle('Customers vs. Subscribers in Ford GoBike Sharing System', \n",
    "             y=1.07, fontsize=16, fontweight='bold');"
   ]
  },
  {
   "cell_type": "markdown",
   "metadata": {},
   "source": [
    "### Observation 2: Customers vs. Subscribers Usage in Ford GoBikes Sharing\n",
    "\n",
    "> There are more than 200,000 Subscribers as displayed in the Customers vs. Subscribers in Ford GoBike Sharing System chart."
   ]
  },
  {
   "cell_type": "code",
   "execution_count": 48,
   "metadata": {},
   "outputs": [
    {
     "data": {
      "text/plain": [
       "<Figure size 864x360 with 0 Axes>"
      ]
     },
     "metadata": {},
     "output_type": "display_data"
    },
    {
     "data": {
      "image/png": "[encoded data removed]",
      "text/plain": [
       "<Figure size 720x360 with 2 Axes>"
      ]
     },
     "metadata": {
      "needs_background": "light"
     },
     "output_type": "display_data"
    }
   ],
   "source": [
    "# Plot comparison of usage between Customers vs Subscribersin 2019\n",
    "plt.figure(figsize = [12, 5])\n",
    "graph = sb.catplot(data=df_cleaned, x='start_time_month', \n",
    "                   col=\"user_type\", kind='count', sharey = True, color = sin_color);\n",
    "graph.set_axis_labels(\"Month\", \"Number of Bike Trips\");\n",
    "graph.set_titles(\"{col_name}\");\n",
    "graph.fig.suptitle('Customers vs. Subscribers in Ford GoBike Sharing System',\n",
    "                   y=1.07, fontsize=16, fontweight='bold');\n",
    "graph.set_xticklabels(rotation=80);"
   ]
  },
  {
   "cell_type": "markdown",
   "metadata": {},
   "source": [
    "### Observation 3: Customers vs. Subscribers Usage in Ford GoBikes Sharing\n",
    "\n",
    "> There are more than 200,000 Subscribers as displayed in the Customers vs. Subscribers in Ford GoBike Sharing System chart. \n",
    "\n",
    "Customers: The demand is high during December. However, the frequency is high betwen the months of July - October 2019.\n",
    "\n",
    "Subscribers: The demand is highest in March 2019. THis is followed by July 2019 which is Summer time in the Bay Area and April which is Spring. \n",
    "\n",
    "\n"
   ]
  },
  {
   "cell_type": "code",
   "execution_count": 50,
   "metadata": {},
   "outputs": [
    {
     "data": {
      "image/png": "[encoded data removed]",
      "text/plain": [
       "<Figure size 864x360 with 1 Axes>"
      ]
     },
     "metadata": {
      "needs_background": "light"
     },
     "output_type": "display_data"
    }
   ],
   "source": [
    "plt.figure(figsize=(12, 5))\n",
    "df_cleaned_user_week = df_cleaned.groupby(['start_time_weekday', 'user_type']).size().reset_index()\n",
    "weekday = ['Mon', 'Tue', 'Wed', 'Thu', 'Fri', 'Sat', 'Sun']\n",
    "ax = sb.pointplot(data=df_cleaned_user_week, x='start_time_weekday', \n",
    "                  y=0, hue = 'user_type', scale=.7, order = weekday);\n",
    "plt.title('Customer vs. Subscribers Trends in the Ford GoBike Sharing', y=1.07, fontsize=16, fontweight='bold')\n",
    "plt.xlabel('Weekdays')\n",
    "plt.ylabel('Number of Bike Trips');\n",
    "plt.grid()"
   ]
  },
  {
   "cell_type": "markdown",
   "metadata": {},
   "source": [
    "### Observation 4: Customers vs. Subscribers Trends in the Ford GoBikes Sharing\n",
    " \n",
    "In 2019, customers usage is quite low and consistant staying under 10,000 bike trips during the week. While Subscribers frequently used the the Ford GoBikes Sharing platform during Monday - Thursday with a drop of the number of bike trips on Friday and a significant drop through to Saturday and Sunday. \n"
   ]
  },
  {
   "cell_type": "markdown",
   "metadata": {},
   "source": [
    "### Talk about some of the relationships you observed in this part of the investigation. How did the feature(s) of interest vary with other features in the dataset?\n",
    "\n",
    "> The importance of including the user type to the data analysis revealed that there were some differences in the behaviour of the customers and subscribers using the Ford GoBikes Sharing platform. \n",
    "\n",
    "> The dataset highlights the usage trends between customers and subscribers. This suggests that Customers are casual users and the Subscribers are daily commuters that maybe working, studying etc. \n",
    "\n",
    "\n",
    "### Did you observe any interesting relationships between the other features (not the main feature(s) of interest)?\n",
    "\n",
    "> Through Observation, there is a difference in usage between customers and subscribers. The popularity of using Ford GoBikes for Customers is usually in December and increases more on Saturday as opposed to Subscribers where it decreases significantly on Saturday and during the weekend. \n",
    "> There were some limitations in this analysis, due to the anomity of customer data shighuch as gender. "
   ]
  },
  {
   "cell_type": "markdown",
   "metadata": {},
   "source": [
    "## Step 5. Multivariate Exploration\n",
    "\n",
    "> In this section, I will clean the data further in order to investigate the duration of the Ford Go Bike data.\n"
   ]
  },
  {
   "cell_type": "code",
   "execution_count": 60,
   "metadata": {},
   "outputs": [
    {
     "data": {
      "image/png": "[encoded data removed]",
      "text/plain": [
       "<Figure size 576x360 with 1 Axes>"
      ]
     },
     "metadata": {
      "needs_background": "light"
     },
     "output_type": "display_data"
    }
   ],
   "source": [
    "# Number of bike trips Customers vs. Subscriber Usage by Duration\n",
    "\n",
    "plt.figure(figsize = [8, 5])\n",
    "base_color = sb.color_palette()[1]\n",
    "sb.boxplot(data = df, x = 'user_type', y = 'duration_sec', color = base_color)\n",
    "plt.title('Customer vs. Subscribers Duration in Seconds', y=1.07, fontsize=16, fontweight='bold')\n",
    "plt.xlabel('User Type')\n",
    "plt.ylabel('Duration in sec')\n",
    "plt.show()\n",
    "\n"
   ]
  },
  {
   "cell_type": "markdown",
   "metadata": {},
   "source": [
    "### Obserevation 1:  Customers vs. Subscribers Ride Duration in Seconds\n",
    "\n",
    "> In 2019, the graph above highlights that the values are vey widespread to see a box plot. In the next observation, will have a look at the box plot with the duration in minutes as opposed to seconds. \n"
   ]
  },
  {
   "cell_type": "code",
   "execution_count": 61,
   "metadata": {},
   "outputs": [
    {
     "data": {
      "image/png": "[encoded data removed]",
      "text/plain": [
       "<Figure size 720x360 with 2 Axes>"
      ]
     },
     "metadata": {
      "needs_background": "light"
     },
     "output_type": "display_data"
    }
   ],
   "source": [
    "data = df_cleaned.query('duration_min < 30')\n",
    "x = sb.catplot(data=data, y='duration_min', \n",
    "               col=\"user_type\", kind='box', color = sin_color)\n",
    "x.set_titles(col_template = '{col_name}')\n",
    "x.set_axis_labels(\"\", \"Duration in Minutes\")\n",
    "x.fig.suptitle('Duration in Minutes by User Type',\n",
    "               y=1.05, fontsize=16, fontweight='bold');"
   ]
  },
  {
   "cell_type": "markdown",
   "metadata": {},
   "source": [
    "### Obserevation 2:  Duration in Minutes by User Type \n",
    "\n",
    "> The Duration in Minutes by User Type plot highlights that Customers normally have longer trip durations. Customers normally ride between 8 minutes and 18 minutes. Subscriber trips are normally shorter and last anywhere between 5-13 minutes. \n"
   ]
  },
  {
   "cell_type": "markdown",
   "metadata": {},
   "source": [
    "### Talk about some of the relationships you observed in this part of the investigation. Were there features that strengthened each other in terms of looking at your feature(s) of interest?\n",
    "\n",
    "> Through further observation between Customer and Supplier behaviours, The Duration changes whether if it is noted down in seconds vs minutes.  \n",
    "### Were there any interesting or surprising interactions between features?\n",
    "\n",
    "> Through observation of the plot box if looking at Customer and Supplier duration in seconds. The box plot graph highlights that the values are vey widespread to see a box plot. By amending the duration from seconds to Minutes by the User Type highlights that Customers normally have longer trip durations. Customers normally ride between 8-18 minutes. Subscriber trips are normally shorter and last anywhere between 5-13 minutes\n",
    "\n"
   ]
  },
  {
   "cell_type": "markdown",
   "metadata": {},
   "source": [
    "# References\n",
    "\n",
    "1. How To Combine Multiple CSV Files In Python: https://sempioneer.com/python-for-seo/how-to-combine-multiple-csv-files-in-python/\n",
    "2. FordGoBike Data Set: https://www.lyft.com/bikes/bay-wheels/system-data\n",
    "3. Github: https://github.com/ijdev/Ford-GoBike-System-Data---Data-Analysis/blob/master/exploration_template.ipynb\n",
    "4. Keggle: https://www.kaggle.com/chirag02/ford-gobike-data-analysis\n",
    "5. seaborn catplot: https://seaborn.pydata.org/generated/seaborn.catplot.html\n",
    "6. matplotlib Documentation: https://matplotlib.org/api/_as_gen/matplotlib.pyplot.hist.html\n"
   ]
  }
 ],
 "metadata": {
  "kernelspec": {
   "display_name": "Python 3",
   "language": "python",
   "name": "python3"
  },
  "language_info": {
   "codemirror_mode": {
    "name": "ipython",
    "version": 3
   },
   "file_extension": ".py",
   "mimetype": "text/x-python",
   "name": "python",
   "nbconvert_exporter": "python",
   "pygments_lexer": "ipython3",
   "version": "3.7.4"
  }
 },
 "nbformat": 4,
 "nbformat_minor": 2
}
