{
 "cells": [
  {
   "cell_type": "markdown",
   "metadata": {},
   "source": [
    "# Analyzing Ford GoBikes System Data¶\n",
    "## By Tash Bettridge \n",
    "\n",
    "## Preliminary Wrangling\n",
    "\n",
    ">Formerly known as Ford GoBike, renamed Lyft Bikes is a regional public bicycle sharing system in the San Francisco Bay Area, California.\n",
    "\n",
    "### Data\n",
    "\n",
    "The data will be analysed from the following:\n",
    "\n",
    "* 2019 FordGo Bike and Baywheels Tripdata\n",
    "\n",
    "### Process\n",
    "\n",
    "The data wrangling steps that were involved in this project were:\n",
    "- Step 1. Assessing the Data \n",
    "- Step 2. Preliminary Wrangling\n",
    "- Step 3. Cleaning data\n",
    "- Step 4. Univariate Exploration\n",
    "- Step 5. Multivariate Exploration\n",
    "\n"
   ]
  },
  {
   "cell_type": "markdown",
   "metadata": {},
   "source": [
    "### Step 1. Assessing the Data \n",
    "\n",
    "Data Analysis, storing data and data visualization of the wrangled data\n"
   ]
  },
  {
   "cell_type": "code",
   "execution_count": 1,
   "metadata": {},
   "outputs": [],
   "source": [
    "# import all packages and set plots to be embedded inline\n",
    "import numpy as np\n",
    "import pandas as pd\n",
    "import matplotlib.pyplot as plt\n",
    "import seaborn as sb\n",
    "import glob\n",
    "import os\n",
    "import datetime\n",
    "import matplotlib.ticker as tick\n",
    "%matplotlib inline"
   ]
  },
  {
   "cell_type": "code",
   "execution_count": 2,
   "metadata": {},
   "outputs": [],
   "source": [
    "#Retrieve the datasets from the User directory \n",
    "path = r'C:\\Users\\tash_\\Desktop\\Udacity\\dataset'\n",
    "# detect all of the files ending with a .csv name within a specific working directory\n",
    "files = glob.glob(os.path.join(path, \"*.csv\"))"
   ]
  },
  {
   "cell_type": "code",
   "execution_count": 3,
   "metadata": {},
   "outputs": [
    {
     "name": "stderr",
     "output_type": "stream",
     "text": [
      "C:\\ProgramData\\Anaconda3\\lib\\site-packages\\ipykernel_launcher.py:2: DtypeWarning: Columns (14) have mixed types. Specify dtype option on import or set low_memory=False.\n",
      "  \n",
      "C:\\ProgramData\\Anaconda3\\lib\\site-packages\\ipykernel_launcher.py:2: DtypeWarning: Columns (13,14) have mixed types. Specify dtype option on import or set low_memory=False.\n",
      "  \n",
      "C:\\ProgramData\\Anaconda3\\lib\\site-packages\\ipykernel_launcher.py:2: DtypeWarning: Columns (13) have mixed types. Specify dtype option on import or set low_memory=False.\n",
      "  \n",
      "C:\\ProgramData\\Anaconda3\\lib\\site-packages\\ipykernel_launcher.py:2: FutureWarning: Sorting because non-concatenation axis is not aligned. A future version\n",
      "of pandas will change to not sort by default.\n",
      "\n",
      "To accept the future behavior, pass 'sort=False'.\n",
      "\n",
      "To retain the current behavior and silence the warning, pass 'sort=True'.\n",
      "\n",
      "  \n"
     ]
    }
   ],
   "source": [
    "#use the pd.concat() method to stack every dataframe one on top of another.\n",
    "df = pd.concat((pd.read_csv(f) for f in files), ignore_index = False)\n"
   ]
  },
  {
   "cell_type": "code",
   "execution_count": 4,
   "metadata": {},
   "outputs": [],
   "source": [
    "#Save a Copy To Master File\n",
    "df.to_csv('baywheels_master.csv', index = False)\n",
    "\n"
   ]
  },
  {
   "cell_type": "markdown",
   "metadata": {},
   "source": [
    "### Step 2. Preliminary Wrangling"
   ]
  },
  {
   "cell_type": "code",
   "execution_count": 5,
   "metadata": {},
   "outputs": [
    {
     "name": "stderr",
     "output_type": "stream",
     "text": [
      "C:\\ProgramData\\Anaconda3\\lib\\site-packages\\IPython\\core\\interactiveshell.py:3058: DtypeWarning: Columns (1,8) have mixed types. Specify dtype option on import or set low_memory=False.\n",
      "  interactivity=interactivity, compiler=compiler, result=result)\n"
     ]
    }
   ],
   "source": [
    "# Read contents of Master File\n",
    "df = pd.read_csv('baywheels_master.csv')\n"
   ]
  },
  {
   "cell_type": "code",
   "execution_count": 6,
   "metadata": {},
   "outputs": [
    {
     "data": {
      "text/html": [
       "<div>\n",
       "<style scoped>\n",
       "    .dataframe tbody tr th:only-of-type {\n",
       "        vertical-align: middle;\n",
       "    }\n",
       "\n",
       "    .dataframe tbody tr th {\n",
       "        vertical-align: top;\n",
       "    }\n",
       "\n",
       "    .dataframe thead th {\n",
       "        text-align: right;\n",
       "    }\n",
       "</style>\n",
       "<table border=\"1\" class=\"dataframe\">\n",
       "  <thead>\n",
       "    <tr style=\"text-align: right;\">\n",
       "      <th></th>\n",
       "      <th>bike_id</th>\n",
       "      <th>duration_sec</th>\n",
       "      <th>end_station_id</th>\n",
       "      <th>end_station_latitude</th>\n",
       "      <th>end_station_longitude</th>\n",
       "      <th>start_station_id</th>\n",
       "      <th>start_station_latitude</th>\n",
       "      <th>start_station_longitude</th>\n",
       "    </tr>\n",
       "  </thead>\n",
       "  <tbody>\n",
       "    <tr>\n",
       "      <td>count</td>\n",
       "      <td>2.506983e+06</td>\n",
       "      <td>2.506983e+06</td>\n",
       "      <td>2.424081e+06</td>\n",
       "      <td>2.506983e+06</td>\n",
       "      <td>2.506983e+06</td>\n",
       "      <td>2.426249e+06</td>\n",
       "      <td>2.506983e+06</td>\n",
       "      <td>2.506983e+06</td>\n",
       "    </tr>\n",
       "    <tr>\n",
       "      <td>mean</td>\n",
       "      <td>2.789833e+04</td>\n",
       "      <td>8.076483e+02</td>\n",
       "      <td>1.427044e+02</td>\n",
       "      <td>3.776422e+01</td>\n",
       "      <td>-1.223459e+02</td>\n",
       "      <td>1.465047e+02</td>\n",
       "      <td>3.776506e+01</td>\n",
       "      <td>-1.223499e+02</td>\n",
       "    </tr>\n",
       "    <tr>\n",
       "      <td>std</td>\n",
       "      <td>1.146067e+05</td>\n",
       "      <td>1.974714e+03</td>\n",
       "      <td>1.214296e+02</td>\n",
       "      <td>2.392885e-01</td>\n",
       "      <td>7.080417e-01</td>\n",
       "      <td>1.223171e+02</td>\n",
       "      <td>1.363698e-01</td>\n",
       "      <td>3.089648e-01</td>\n",
       "    </tr>\n",
       "    <tr>\n",
       "      <td>min</td>\n",
       "      <td>4.000000e+00</td>\n",
       "      <td>6.000000e+01</td>\n",
       "      <td>3.000000e+00</td>\n",
       "      <td>0.000000e+00</td>\n",
       "      <td>-1.225143e+02</td>\n",
       "      <td>3.000000e+00</td>\n",
       "      <td>0.000000e+00</td>\n",
       "      <td>-1.225143e+02</td>\n",
       "    </tr>\n",
       "    <tr>\n",
       "      <td>25%</td>\n",
       "      <td>1.952000e+03</td>\n",
       "      <td>3.590000e+02</td>\n",
       "      <td>4.300000e+01</td>\n",
       "      <td>3.777003e+01</td>\n",
       "      <td>-1.224117e+02</td>\n",
       "      <td>4.700000e+01</td>\n",
       "      <td>3.776931e+01</td>\n",
       "      <td>-1.224130e+02</td>\n",
       "    </tr>\n",
       "    <tr>\n",
       "      <td>50%</td>\n",
       "      <td>4.420000e+03</td>\n",
       "      <td>5.710000e+02</td>\n",
       "      <td>1.010000e+02</td>\n",
       "      <td>3.778076e+01</td>\n",
       "      <td>-1.223981e+02</td>\n",
       "      <td>1.050000e+02</td>\n",
       "      <td>3.778053e+01</td>\n",
       "      <td>-1.223983e+02</td>\n",
       "    </tr>\n",
       "    <tr>\n",
       "      <td>75%</td>\n",
       "      <td>9.682000e+03</td>\n",
       "      <td>8.870000e+02</td>\n",
       "      <td>2.390000e+02</td>\n",
       "      <td>3.779587e+01</td>\n",
       "      <td>-1.222934e+02</td>\n",
       "      <td>2.430000e+02</td>\n",
       "      <td>3.779539e+01</td>\n",
       "      <td>-1.222914e+02</td>\n",
       "    </tr>\n",
       "    <tr>\n",
       "      <td>max</td>\n",
       "      <td>9.999410e+05</td>\n",
       "      <td>9.121100e+05</td>\n",
       "      <td>4.980000e+02</td>\n",
       "      <td>4.551000e+01</td>\n",
       "      <td>0.000000e+00</td>\n",
       "      <td>4.980000e+02</td>\n",
       "      <td>4.551000e+01</td>\n",
       "      <td>0.000000e+00</td>\n",
       "    </tr>\n",
       "  </tbody>\n",
       "</table>\n",
       "</div>"
      ],
      "text/plain": [
       "            bike_id  duration_sec  end_station_id  end_station_latitude  \\\n",
       "count  2.506983e+06  2.506983e+06    2.424081e+06          2.506983e+06   \n",
       "mean   2.789833e+04  8.076483e+02    1.427044e+02          3.776422e+01   \n",
       "std    1.146067e+05  1.974714e+03    1.214296e+02          2.392885e-01   \n",
       "min    4.000000e+00  6.000000e+01    3.000000e+00          0.000000e+00   \n",
       "25%    1.952000e+03  3.590000e+02    4.300000e+01          3.777003e+01   \n",
       "50%    4.420000e+03  5.710000e+02    1.010000e+02          3.778076e+01   \n",
       "75%    9.682000e+03  8.870000e+02    2.390000e+02          3.779587e+01   \n",
       "max    9.999410e+05  9.121100e+05    4.980000e+02          4.551000e+01   \n",
       "\n",
       "       end_station_longitude  start_station_id  start_station_latitude  \\\n",
       "count           2.506983e+06      2.426249e+06            2.506983e+06   \n",
       "mean           -1.223459e+02      1.465047e+02            3.776506e+01   \n",
       "std             7.080417e-01      1.223171e+02            1.363698e-01   \n",
       "min            -1.225143e+02      3.000000e+00            0.000000e+00   \n",
       "25%            -1.224117e+02      4.700000e+01            3.776931e+01   \n",
       "50%            -1.223981e+02      1.050000e+02            3.778053e+01   \n",
       "75%            -1.222934e+02      2.430000e+02            3.779539e+01   \n",
       "max             0.000000e+00      4.980000e+02            4.551000e+01   \n",
       "\n",
       "       start_station_longitude  \n",
       "count             2.506983e+06  \n",
       "mean             -1.223499e+02  \n",
       "std               3.089648e-01  \n",
       "min              -1.225143e+02  \n",
       "25%              -1.224130e+02  \n",
       "50%              -1.223983e+02  \n",
       "75%              -1.222914e+02  \n",
       "max               0.000000e+00  "
      ]
     },
     "execution_count": 6,
     "metadata": {},
     "output_type": "execute_result"
    }
   ],
   "source": [
    "# Showing the first five rows of the newly combined dataset\n",
    "df.describe()\n"
   ]
  },
  {
   "cell_type": "code",
   "execution_count": 7,
   "metadata": {},
   "outputs": [
    {
     "data": {
      "text/html": [
       "<div>\n",
       "<style scoped>\n",
       "    .dataframe tbody tr th:only-of-type {\n",
       "        vertical-align: middle;\n",
       "    }\n",
       "\n",
       "    .dataframe tbody tr th {\n",
       "        vertical-align: top;\n",
       "    }\n",
       "\n",
       "    .dataframe thead th {\n",
       "        text-align: right;\n",
       "    }\n",
       "</style>\n",
       "<table border=\"1\" class=\"dataframe\">\n",
       "  <thead>\n",
       "    <tr style=\"text-align: right;\">\n",
       "      <th></th>\n",
       "      <th>bike_id</th>\n",
       "      <th>bike_share_for_all_trip</th>\n",
       "      <th>duration_sec</th>\n",
       "      <th>end_station_id</th>\n",
       "      <th>end_station_latitude</th>\n",
       "      <th>end_station_longitude</th>\n",
       "      <th>end_station_name</th>\n",
       "      <th>end_time</th>\n",
       "      <th>rental_access_method</th>\n",
       "      <th>start_station_id</th>\n",
       "      <th>start_station_latitude</th>\n",
       "      <th>start_station_longitude</th>\n",
       "      <th>start_station_name</th>\n",
       "      <th>start_time</th>\n",
       "      <th>user_type</th>\n",
       "    </tr>\n",
       "  </thead>\n",
       "  <tbody>\n",
       "    <tr>\n",
       "      <td>1154512</td>\n",
       "      <td>896</td>\n",
       "      <td>No</td>\n",
       "      <td>451</td>\n",
       "      <td>115.0</td>\n",
       "      <td>37.765026</td>\n",
       "      <td>-122.398773</td>\n",
       "      <td>Jackson Playground</td>\n",
       "      <td>2019-06-14 09:36:16.6730</td>\n",
       "      <td>NaN</td>\n",
       "      <td>60.0</td>\n",
       "      <td>37.774520</td>\n",
       "      <td>-122.409449</td>\n",
       "      <td>8th St at Ringold St</td>\n",
       "      <td>2019-06-14 09:28:45.5450</td>\n",
       "      <td>Subscriber</td>\n",
       "    </tr>\n",
       "    <tr>\n",
       "      <td>2176750</td>\n",
       "      <td>2216</td>\n",
       "      <td>No</td>\n",
       "      <td>681</td>\n",
       "      <td>30.0</td>\n",
       "      <td>37.776598</td>\n",
       "      <td>-122.395282</td>\n",
       "      <td>San Francisco Caltrain (Townsend St at 4th St)</td>\n",
       "      <td>2019-11-27 15:14:28.6780</td>\n",
       "      <td>NaN</td>\n",
       "      <td>10.0</td>\n",
       "      <td>37.795393</td>\n",
       "      <td>-122.404770</td>\n",
       "      <td>Washington St at Kearny St</td>\n",
       "      <td>2019-11-27 15:03:06.7740</td>\n",
       "      <td>Subscriber</td>\n",
       "    </tr>\n",
       "    <tr>\n",
       "      <td>503299</td>\n",
       "      <td>3405</td>\n",
       "      <td>No</td>\n",
       "      <td>424</td>\n",
       "      <td>121.0</td>\n",
       "      <td>37.759210</td>\n",
       "      <td>-122.421339</td>\n",
       "      <td>Mission Playground</td>\n",
       "      <td>2019-03-17 12:56:59.3760</td>\n",
       "      <td>NaN</td>\n",
       "      <td>141.0</td>\n",
       "      <td>37.747998</td>\n",
       "      <td>-122.420219</td>\n",
       "      <td>Valencia St at Cesar Chavez St</td>\n",
       "      <td>2019-03-17 12:49:54.4390</td>\n",
       "      <td>Customer</td>\n",
       "    </tr>\n",
       "    <tr>\n",
       "      <td>885510</td>\n",
       "      <td>1228</td>\n",
       "      <td>No</td>\n",
       "      <td>622</td>\n",
       "      <td>122.0</td>\n",
       "      <td>37.760299</td>\n",
       "      <td>-122.418892</td>\n",
       "      <td>19th St at Mission St</td>\n",
       "      <td>2019-05-29 20:26:14.3490</td>\n",
       "      <td>NaN</td>\n",
       "      <td>88.0</td>\n",
       "      <td>37.770030</td>\n",
       "      <td>-122.411726</td>\n",
       "      <td>11th St at Bryant St</td>\n",
       "      <td>2019-05-29 20:15:52.2210</td>\n",
       "      <td>Subscriber</td>\n",
       "    </tr>\n",
       "    <tr>\n",
       "      <td>941319</td>\n",
       "      <td>988</td>\n",
       "      <td>No</td>\n",
       "      <td>334</td>\n",
       "      <td>372.0</td>\n",
       "      <td>37.804037</td>\n",
       "      <td>-122.262409</td>\n",
       "      <td>Madison St at 17th St</td>\n",
       "      <td>2019-05-20 11:31:34.7140</td>\n",
       "      <td>NaN</td>\n",
       "      <td>181.0</td>\n",
       "      <td>37.811377</td>\n",
       "      <td>-122.265192</td>\n",
       "      <td>Grand Ave at Webster St</td>\n",
       "      <td>2019-05-20 11:26:00.5460</td>\n",
       "      <td>Subscriber</td>\n",
       "    </tr>\n",
       "    <tr>\n",
       "      <td>567674</td>\n",
       "      <td>6188</td>\n",
       "      <td>No</td>\n",
       "      <td>1087</td>\n",
       "      <td>15.0</td>\n",
       "      <td>37.795392</td>\n",
       "      <td>-122.394203</td>\n",
       "      <td>San Francisco Ferry Building (Harry Bridges Pl...</td>\n",
       "      <td>2019-03-10 13:11:50.4590</td>\n",
       "      <td>NaN</td>\n",
       "      <td>93.0</td>\n",
       "      <td>37.770407</td>\n",
       "      <td>-122.391198</td>\n",
       "      <td>4th St at Mission Bay Blvd S</td>\n",
       "      <td>2019-03-10 12:53:42.8860</td>\n",
       "      <td>Customer</td>\n",
       "    </tr>\n",
       "    <tr>\n",
       "      <td>350110</td>\n",
       "      <td>2193</td>\n",
       "      <td>No</td>\n",
       "      <td>730</td>\n",
       "      <td>8.0</td>\n",
       "      <td>37.799953</td>\n",
       "      <td>-122.398525</td>\n",
       "      <td>The Embarcadero at Vallejo St</td>\n",
       "      <td>2019-02-05 20:05:53.9530</td>\n",
       "      <td>NaN</td>\n",
       "      <td>36.0</td>\n",
       "      <td>37.783830</td>\n",
       "      <td>-122.398870</td>\n",
       "      <td>Folsom St at 3rd St</td>\n",
       "      <td>2019-02-05 19:53:43.8850</td>\n",
       "      <td>Subscriber</td>\n",
       "    </tr>\n",
       "    <tr>\n",
       "      <td>2425905</td>\n",
       "      <td>3417</td>\n",
       "      <td>NaN</td>\n",
       "      <td>1295</td>\n",
       "      <td>146.0</td>\n",
       "      <td>37.742314</td>\n",
       "      <td>-122.423181</td>\n",
       "      <td>30th St at San Jose Ave</td>\n",
       "      <td>2019-12-11 16:53:20.6690</td>\n",
       "      <td>NaN</td>\n",
       "      <td>62.0</td>\n",
       "      <td>37.777791</td>\n",
       "      <td>-122.406432</td>\n",
       "      <td>Victoria Manalo Draves Park</td>\n",
       "      <td>2019-12-11 16:31:44.8200</td>\n",
       "      <td>Customer</td>\n",
       "    </tr>\n",
       "    <tr>\n",
       "      <td>443231</td>\n",
       "      <td>5306</td>\n",
       "      <td>No</td>\n",
       "      <td>719</td>\n",
       "      <td>80.0</td>\n",
       "      <td>37.775235</td>\n",
       "      <td>-122.397437</td>\n",
       "      <td>Townsend St at 5th St</td>\n",
       "      <td>2019-03-23 19:37:27.2450</td>\n",
       "      <td>NaN</td>\n",
       "      <td>121.0</td>\n",
       "      <td>37.759210</td>\n",
       "      <td>-122.421339</td>\n",
       "      <td>Mission Playground</td>\n",
       "      <td>2019-03-23 19:25:27.4630</td>\n",
       "      <td>Customer</td>\n",
       "    </tr>\n",
       "    <tr>\n",
       "      <td>3373</td>\n",
       "      <td>2124</td>\n",
       "      <td>No</td>\n",
       "      <td>519</td>\n",
       "      <td>67.0</td>\n",
       "      <td>37.776639</td>\n",
       "      <td>-122.395526</td>\n",
       "      <td>San Francisco Caltrain Station 2  (Townsend St...</td>\n",
       "      <td>2019-01-31 17:23:47.1020</td>\n",
       "      <td>NaN</td>\n",
       "      <td>25.0</td>\n",
       "      <td>37.787522</td>\n",
       "      <td>-122.397405</td>\n",
       "      <td>Howard St at 2nd St</td>\n",
       "      <td>2019-01-31 17:15:07.8980</td>\n",
       "      <td>Subscriber</td>\n",
       "    </tr>\n",
       "  </tbody>\n",
       "</table>\n",
       "</div>"
      ],
      "text/plain": [
       "         bike_id bike_share_for_all_trip  duration_sec  end_station_id  \\\n",
       "1154512      896                      No           451           115.0   \n",
       "2176750     2216                      No           681            30.0   \n",
       "503299      3405                      No           424           121.0   \n",
       "885510      1228                      No           622           122.0   \n",
       "941319       988                      No           334           372.0   \n",
       "567674      6188                      No          1087            15.0   \n",
       "350110      2193                      No           730             8.0   \n",
       "2425905     3417                     NaN          1295           146.0   \n",
       "443231      5306                      No           719            80.0   \n",
       "3373        2124                      No           519            67.0   \n",
       "\n",
       "         end_station_latitude  end_station_longitude  \\\n",
       "1154512             37.765026            -122.398773   \n",
       "2176750             37.776598            -122.395282   \n",
       "503299              37.759210            -122.421339   \n",
       "885510              37.760299            -122.418892   \n",
       "941319              37.804037            -122.262409   \n",
       "567674              37.795392            -122.394203   \n",
       "350110              37.799953            -122.398525   \n",
       "2425905             37.742314            -122.423181   \n",
       "443231              37.775235            -122.397437   \n",
       "3373                37.776639            -122.395526   \n",
       "\n",
       "                                          end_station_name  \\\n",
       "1154512                                 Jackson Playground   \n",
       "2176750     San Francisco Caltrain (Townsend St at 4th St)   \n",
       "503299                                  Mission Playground   \n",
       "885510                               19th St at Mission St   \n",
       "941319                               Madison St at 17th St   \n",
       "567674   San Francisco Ferry Building (Harry Bridges Pl...   \n",
       "350110                       The Embarcadero at Vallejo St   \n",
       "2425905                            30th St at San Jose Ave   \n",
       "443231                               Townsend St at 5th St   \n",
       "3373     San Francisco Caltrain Station 2  (Townsend St...   \n",
       "\n",
       "                         end_time rental_access_method  start_station_id  \\\n",
       "1154512  2019-06-14 09:36:16.6730                  NaN              60.0   \n",
       "2176750  2019-11-27 15:14:28.6780                  NaN              10.0   \n",
       "503299   2019-03-17 12:56:59.3760                  NaN             141.0   \n",
       "885510   2019-05-29 20:26:14.3490                  NaN              88.0   \n",
       "941319   2019-05-20 11:31:34.7140                  NaN             181.0   \n",
       "567674   2019-03-10 13:11:50.4590                  NaN              93.0   \n",
       "350110   2019-02-05 20:05:53.9530                  NaN              36.0   \n",
       "2425905  2019-12-11 16:53:20.6690                  NaN              62.0   \n",
       "443231   2019-03-23 19:37:27.2450                  NaN             121.0   \n",
       "3373     2019-01-31 17:23:47.1020                  NaN              25.0   \n",
       "\n",
       "         start_station_latitude  start_station_longitude  \\\n",
       "1154512               37.774520              -122.409449   \n",
       "2176750               37.795393              -122.404770   \n",
       "503299                37.747998              -122.420219   \n",
       "885510                37.770030              -122.411726   \n",
       "941319                37.811377              -122.265192   \n",
       "567674                37.770407              -122.391198   \n",
       "350110                37.783830              -122.398870   \n",
       "2425905               37.777791              -122.406432   \n",
       "443231                37.759210              -122.421339   \n",
       "3373                  37.787522              -122.397405   \n",
       "\n",
       "                     start_station_name                start_time   user_type  \n",
       "1154512            8th St at Ringold St  2019-06-14 09:28:45.5450  Subscriber  \n",
       "2176750      Washington St at Kearny St  2019-11-27 15:03:06.7740  Subscriber  \n",
       "503299   Valencia St at Cesar Chavez St  2019-03-17 12:49:54.4390    Customer  \n",
       "885510             11th St at Bryant St  2019-05-29 20:15:52.2210  Subscriber  \n",
       "941319          Grand Ave at Webster St  2019-05-20 11:26:00.5460  Subscriber  \n",
       "567674     4th St at Mission Bay Blvd S  2019-03-10 12:53:42.8860    Customer  \n",
       "350110              Folsom St at 3rd St  2019-02-05 19:53:43.8850  Subscriber  \n",
       "2425905     Victoria Manalo Draves Park  2019-12-11 16:31:44.8200    Customer  \n",
       "443231               Mission Playground  2019-03-23 19:25:27.4630    Customer  \n",
       "3373                Howard St at 2nd St  2019-01-31 17:15:07.8980  Subscriber  "
      ]
     },
     "execution_count": 7,
     "metadata": {},
     "output_type": "execute_result"
    }
   ],
   "source": [
    "#Retrieve the first 10 samples of the data\n",
    "df.sample(10)\n"
   ]
  },
  {
   "cell_type": "code",
   "execution_count": 8,
   "metadata": {},
   "outputs": [
    {
     "name": "stdout",
     "output_type": "stream",
     "text": [
      "<class 'pandas.core.frame.DataFrame'>\n",
      "RangeIndex: 2506983 entries, 0 to 2506982\n",
      "Data columns (total 15 columns):\n",
      "bike_id                    2506983 non-null int64\n",
      "bike_share_for_all_trip    2263724 non-null object\n",
      "duration_sec               2506983 non-null int64\n",
      "end_station_id             2424081 non-null float64\n",
      "end_station_latitude       2506983 non-null float64\n",
      "end_station_longitude      2506983 non-null float64\n",
      "end_station_name           2424633 non-null object\n",
      "end_time                   2506983 non-null object\n",
      "rental_access_method       120838 non-null object\n",
      "start_station_id           2426249 non-null float64\n",
      "start_station_latitude     2506983 non-null float64\n",
      "start_station_longitude    2506983 non-null float64\n",
      "start_station_name         2426850 non-null object\n",
      "start_time                 2506983 non-null object\n",
      "user_type                  2506983 non-null object\n",
      "dtypes: float64(6), int64(2), object(7)\n",
      "memory usage: 286.9+ MB\n"
     ]
    }
   ],
   "source": [
    "df.info(null_counts = True)"
   ]
  },
  {
   "cell_type": "code",
   "execution_count": 9,
   "metadata": {},
   "outputs": [
    {
     "data": {
      "text/plain": [
       "bike_id                          0\n",
       "bike_share_for_all_trip     243259\n",
       "duration_sec                     0\n",
       "end_station_id               82902\n",
       "end_station_latitude             0\n",
       "end_station_longitude            0\n",
       "end_station_name             82350\n",
       "end_time                         0\n",
       "rental_access_method       2386145\n",
       "start_station_id             80734\n",
       "start_station_latitude           0\n",
       "start_station_longitude          0\n",
       "start_station_name           80133\n",
       "start_time                       0\n",
       "user_type                        0\n",
       "dtype: int64"
      ]
     },
     "execution_count": 9,
     "metadata": {},
     "output_type": "execute_result"
    }
   ],
   "source": [
    "df.isnull().sum()\n"
   ]
  },
  {
   "cell_type": "code",
   "execution_count": 10,
   "metadata": {},
   "outputs": [
    {
     "data": {
      "text/plain": [
       "0"
      ]
     },
     "execution_count": 10,
     "metadata": {},
     "output_type": "execute_result"
    }
   ],
   "source": [
    "# Check dataset for duplicated data\n",
    "df.duplicated().sum()"
   ]
  },
  {
   "cell_type": "markdown",
   "metadata": {},
   "source": [
    "### Store Data"
   ]
  },
  {
   "cell_type": "code",
   "execution_count": 11,
   "metadata": {},
   "outputs": [],
   "source": [
    "# Save the original data set and create a copy \n",
    "df_cleaned = df.copy()"
   ]
  },
  {
   "cell_type": "markdown",
   "metadata": {},
   "source": [
    "### Step 3. Cleaning Data \n",
    "There are some missing values in the dataset, such as start_station_id, start_station_name, end_station_id, end_station_name, rental_access_method. For more information please see below:\n",
    "\n",
    "* start_station_id\n",
    "* end_station_id\n",
    "* bike_id\n",
    "* user_type\n",
    "* rental_access_method\n",
    "\n"
   ]
  },
  {
   "cell_type": "markdown",
   "metadata": {},
   "source": [
    "### Define\n",
    "\n",
    ">Calculate the total distance traveled using the latitude and longitude in the data set"
   ]
  },
  {
   "cell_type": "markdown",
   "metadata": {},
   "source": [
    "### Code"
   ]
  },
  {
   "cell_type": "code",
   "execution_count": 12,
   "metadata": {},
   "outputs": [],
   "source": [
    "import math\n",
    "from math import radians, sin, cos, acos\n",
    "def distance(origin, destination):\n",
    "    lat1, long1 = origin\n",
    "    lat2, long2 = destination\n",
    "    radius = 6371 # this is in kms\n",
    "    dlat = math.radians(lat2 - lat1)\n",
    "    dlong = math.radians(long2 - long1)\n",
    "    x = (math.sin(dlat / 2) * math.sin(dlat / 2) + math.cos(math.radians(lat1)) \n",
    "         * math.cos(math.radians(lat2)) * math.sin(dlong / 2) * math.sin(dlong / 2))\n",
    "    y = 2 * math.atan2(math.sqrt(x), math.sqrt(1 - x))\n",
    "    z = radius * y\n",
    "    return z"
   ]
  },
  {
   "cell_type": "code",
   "execution_count": 13,
   "metadata": {},
   "outputs": [],
   "source": [
    "# Using the calcuated math on the columns for latidue and longitude\n",
    "df_cleaned['distance_km'] = df_cleaned.apply(lambda x: distance((x['start_station_latitude'], x['start_station_longitude']), (x['end_station_latitude'], x['end_station_longitude'])), axis=1)"
   ]
  },
  {
   "cell_type": "code",
   "execution_count": 14,
   "metadata": {},
   "outputs": [],
   "source": [
    "# Converting the kilometers to miles\n",
    "df_cleaned['distance_miles'] = df_cleaned['distance_km'] * 0.621371"
   ]
  },
  {
   "cell_type": "markdown",
   "metadata": {},
   "source": [
    "### Test"
   ]
  },
  {
   "cell_type": "code",
   "execution_count": 15,
   "metadata": {},
   "outputs": [
    {
     "data": {
      "text/html": [
       "<div>\n",
       "<style scoped>\n",
       "    .dataframe tbody tr th:only-of-type {\n",
       "        vertical-align: middle;\n",
       "    }\n",
       "\n",
       "    .dataframe tbody tr th {\n",
       "        vertical-align: top;\n",
       "    }\n",
       "\n",
       "    .dataframe thead th {\n",
       "        text-align: right;\n",
       "    }\n",
       "</style>\n",
       "<table border=\"1\" class=\"dataframe\">\n",
       "  <thead>\n",
       "    <tr style=\"text-align: right;\">\n",
       "      <th></th>\n",
       "      <th>bike_id</th>\n",
       "      <th>bike_share_for_all_trip</th>\n",
       "      <th>duration_sec</th>\n",
       "      <th>end_station_id</th>\n",
       "      <th>end_station_latitude</th>\n",
       "      <th>end_station_longitude</th>\n",
       "      <th>end_station_name</th>\n",
       "      <th>end_time</th>\n",
       "      <th>rental_access_method</th>\n",
       "      <th>start_station_id</th>\n",
       "      <th>start_station_latitude</th>\n",
       "      <th>start_station_longitude</th>\n",
       "      <th>start_station_name</th>\n",
       "      <th>start_time</th>\n",
       "      <th>user_type</th>\n",
       "      <th>distance_km</th>\n",
       "      <th>distance_miles</th>\n",
       "    </tr>\n",
       "  </thead>\n",
       "  <tbody>\n",
       "    <tr>\n",
       "      <td>1281537</td>\n",
       "      <td>9252</td>\n",
       "      <td>No</td>\n",
       "      <td>1438</td>\n",
       "      <td>280.0</td>\n",
       "      <td>37.337122</td>\n",
       "      <td>-121.883215</td>\n",
       "      <td>San Fernando St at 7th St</td>\n",
       "      <td>2019-07-24 23:01:44.2630</td>\n",
       "      <td>NaN</td>\n",
       "      <td>310.0</td>\n",
       "      <td>37.335885</td>\n",
       "      <td>-121.885660</td>\n",
       "      <td>San Fernando St at 4th St</td>\n",
       "      <td>2019-07-24 22:37:46.2200</td>\n",
       "      <td>Customer</td>\n",
       "      <td>0.256257</td>\n",
       "      <td>0.159231</td>\n",
       "    </tr>\n",
       "    <tr>\n",
       "      <td>804818</td>\n",
       "      <td>6303</td>\n",
       "      <td>No</td>\n",
       "      <td>606</td>\n",
       "      <td>93.0</td>\n",
       "      <td>37.770407</td>\n",
       "      <td>-122.391198</td>\n",
       "      <td>4th St at Mission Bay Blvd S</td>\n",
       "      <td>2019-04-08 08:39:35.3010</td>\n",
       "      <td>NaN</td>\n",
       "      <td>93.0</td>\n",
       "      <td>37.770407</td>\n",
       "      <td>-122.391198</td>\n",
       "      <td>4th St at Mission Bay Blvd S</td>\n",
       "      <td>2019-04-08 08:29:28.5180</td>\n",
       "      <td>Subscriber</td>\n",
       "      <td>0.000000</td>\n",
       "      <td>0.000000</td>\n",
       "    </tr>\n",
       "    <tr>\n",
       "      <td>1428576</td>\n",
       "      <td>936255</td>\n",
       "      <td>NaN</td>\n",
       "      <td>1179</td>\n",
       "      <td>NaN</td>\n",
       "      <td>37.780504</td>\n",
       "      <td>-122.439246</td>\n",
       "      <td>NaN</td>\n",
       "      <td>2019-07-29 07:39:30</td>\n",
       "      <td>app</td>\n",
       "      <td>NaN</td>\n",
       "      <td>37.746438</td>\n",
       "      <td>-122.420584</td>\n",
       "      <td>NaN</td>\n",
       "      <td>2019-07-29 07:19:51</td>\n",
       "      <td>Subscriber</td>\n",
       "      <td>4.128022</td>\n",
       "      <td>2.565033</td>\n",
       "    </tr>\n",
       "    <tr>\n",
       "      <td>2323427</td>\n",
       "      <td>11381</td>\n",
       "      <td>No</td>\n",
       "      <td>618</td>\n",
       "      <td>363.0</td>\n",
       "      <td>37.787492</td>\n",
       "      <td>-122.398285</td>\n",
       "      <td>Salesforce Transit Center (Natoma St at 2nd St)</td>\n",
       "      <td>2019-11-05 17:37:00.0100</td>\n",
       "      <td>NaN</td>\n",
       "      <td>323.0</td>\n",
       "      <td>37.798014</td>\n",
       "      <td>-122.405950</td>\n",
       "      <td>Broadway at Kearny</td>\n",
       "      <td>2019-11-05 17:26:41.5510</td>\n",
       "      <td>Subscriber</td>\n",
       "      <td>1.349995</td>\n",
       "      <td>0.838848</td>\n",
       "    </tr>\n",
       "    <tr>\n",
       "      <td>1074516</td>\n",
       "      <td>1896</td>\n",
       "      <td>No</td>\n",
       "      <td>443</td>\n",
       "      <td>9.0</td>\n",
       "      <td>37.798572</td>\n",
       "      <td>-122.400869</td>\n",
       "      <td>Broadway at Battery St</td>\n",
       "      <td>2019-06-27 08:23:18.2310</td>\n",
       "      <td>NaN</td>\n",
       "      <td>22.0</td>\n",
       "      <td>37.789756</td>\n",
       "      <td>-122.394643</td>\n",
       "      <td>Howard St at Beale St</td>\n",
       "      <td>2019-06-27 08:15:55.0040</td>\n",
       "      <td>Subscriber</td>\n",
       "      <td>1.122623</td>\n",
       "      <td>0.697565</td>\n",
       "    </tr>\n",
       "  </tbody>\n",
       "</table>\n",
       "</div>"
      ],
      "text/plain": [
       "         bike_id bike_share_for_all_trip  duration_sec  end_station_id  \\\n",
       "1281537     9252                      No          1438           280.0   \n",
       "804818      6303                      No           606            93.0   \n",
       "1428576   936255                     NaN          1179             NaN   \n",
       "2323427    11381                      No           618           363.0   \n",
       "1074516     1896                      No           443             9.0   \n",
       "\n",
       "         end_station_latitude  end_station_longitude  \\\n",
       "1281537             37.337122            -121.883215   \n",
       "804818              37.770407            -122.391198   \n",
       "1428576             37.780504            -122.439246   \n",
       "2323427             37.787492            -122.398285   \n",
       "1074516             37.798572            -122.400869   \n",
       "\n",
       "                                        end_station_name  \\\n",
       "1281537                        San Fernando St at 7th St   \n",
       "804818                      4th St at Mission Bay Blvd S   \n",
       "1428576                                              NaN   \n",
       "2323427  Salesforce Transit Center (Natoma St at 2nd St)   \n",
       "1074516                           Broadway at Battery St   \n",
       "\n",
       "                         end_time rental_access_method  start_station_id  \\\n",
       "1281537  2019-07-24 23:01:44.2630                  NaN             310.0   \n",
       "804818   2019-04-08 08:39:35.3010                  NaN              93.0   \n",
       "1428576       2019-07-29 07:39:30                  app               NaN   \n",
       "2323427  2019-11-05 17:37:00.0100                  NaN             323.0   \n",
       "1074516  2019-06-27 08:23:18.2310                  NaN              22.0   \n",
       "\n",
       "         start_station_latitude  start_station_longitude  \\\n",
       "1281537               37.335885              -121.885660   \n",
       "804818                37.770407              -122.391198   \n",
       "1428576               37.746438              -122.420584   \n",
       "2323427               37.798014              -122.405950   \n",
       "1074516               37.789756              -122.394643   \n",
       "\n",
       "                   start_station_name                start_time   user_type  \\\n",
       "1281537     San Fernando St at 4th St  2019-07-24 22:37:46.2200    Customer   \n",
       "804818   4th St at Mission Bay Blvd S  2019-04-08 08:29:28.5180  Subscriber   \n",
       "1428576                           NaN       2019-07-29 07:19:51  Subscriber   \n",
       "2323427            Broadway at Kearny  2019-11-05 17:26:41.5510  Subscriber   \n",
       "1074516         Howard St at Beale St  2019-06-27 08:15:55.0040  Subscriber   \n",
       "\n",
       "         distance_km  distance_miles  \n",
       "1281537     0.256257        0.159231  \n",
       "804818      0.000000        0.000000  \n",
       "1428576     4.128022        2.565033  \n",
       "2323427     1.349995        0.838848  \n",
       "1074516     1.122623        0.697565  "
      ]
     },
     "execution_count": 15,
     "metadata": {},
     "output_type": "execute_result"
    }
   ],
   "source": [
    "df_cleaned.sample(5)"
   ]
  },
  {
   "cell_type": "markdown",
   "metadata": {},
   "source": [
    "### Define \n",
    "\n",
    "> Converting the Start_time and end_time to the timestamp format"
   ]
  },
  {
   "cell_type": "markdown",
   "metadata": {},
   "source": [
    "### Code"
   ]
  },
  {
   "cell_type": "code",
   "execution_count": 16,
   "metadata": {},
   "outputs": [],
   "source": [
    "# Converting the format to datetime\n",
    "df_cleaned.start_time = pd.to_datetime(df_cleaned.start_time)\n",
    "df_cleaned.end_time = pd.to_datetime(df_cleaned.end_time)"
   ]
  },
  {
   "cell_type": "markdown",
   "metadata": {},
   "source": [
    "### Test "
   ]
  },
  {
   "cell_type": "code",
   "execution_count": 17,
   "metadata": {},
   "outputs": [
    {
     "name": "stdout",
     "output_type": "stream",
     "text": [
      "<class 'pandas.core.frame.DataFrame'>\n",
      "RangeIndex: 2506983 entries, 0 to 2506982\n",
      "Data columns (total 17 columns):\n",
      "bike_id                    2506983 non-null int64\n",
      "bike_share_for_all_trip    2263724 non-null object\n",
      "duration_sec               2506983 non-null int64\n",
      "end_station_id             2424081 non-null float64\n",
      "end_station_latitude       2506983 non-null float64\n",
      "end_station_longitude      2506983 non-null float64\n",
      "end_station_name           2424633 non-null object\n",
      "end_time                   2506983 non-null datetime64[ns]\n",
      "rental_access_method       120838 non-null object\n",
      "start_station_id           2426249 non-null float64\n",
      "start_station_latitude     2506983 non-null float64\n",
      "start_station_longitude    2506983 non-null float64\n",
      "start_station_name         2426850 non-null object\n",
      "start_time                 2506983 non-null datetime64[ns]\n",
      "user_type                  2506983 non-null object\n",
      "distance_km                2506983 non-null float64\n",
      "distance_miles             2506983 non-null float64\n",
      "dtypes: datetime64[ns](2), float64(8), int64(2), object(5)\n",
      "memory usage: 325.2+ MB\n"
     ]
    }
   ],
   "source": [
    "df_cleaned.info(null_counts = True)"
   ]
  },
  {
   "cell_type": "markdown",
   "metadata": {},
   "source": [
    "## Define \n",
    "\n",
    ">Converting the User type and rental_access_method for all to category format\n"
   ]
  },
  {
   "cell_type": "markdown",
   "metadata": {},
   "source": [
    "## Code"
   ]
  },
  {
   "cell_type": "code",
   "execution_count": 18,
   "metadata": {},
   "outputs": [],
   "source": [
    "# Converting the user_type and rental_access_method to category format\n",
    "df_cleaned.user_type = df_cleaned.user_type.astype('category')\n",
    "df_cleaned.rental_access_method = df_cleaned.rental_access_method.astype('category')"
   ]
  },
  {
   "cell_type": "markdown",
   "metadata": {},
   "source": [
    "## Test"
   ]
  },
  {
   "cell_type": "code",
   "execution_count": 19,
   "metadata": {},
   "outputs": [
    {
     "name": "stdout",
     "output_type": "stream",
     "text": [
      "<class 'pandas.core.frame.DataFrame'>\n",
      "RangeIndex: 2506983 entries, 0 to 2506982\n",
      "Data columns (total 17 columns):\n",
      "bike_id                    2506983 non-null int64\n",
      "bike_share_for_all_trip    2263724 non-null object\n",
      "duration_sec               2506983 non-null int64\n",
      "end_station_id             2424081 non-null float64\n",
      "end_station_latitude       2506983 non-null float64\n",
      "end_station_longitude      2506983 non-null float64\n",
      "end_station_name           2424633 non-null object\n",
      "end_time                   2506983 non-null datetime64[ns]\n",
      "rental_access_method       120838 non-null category\n",
      "start_station_id           2426249 non-null float64\n",
      "start_station_latitude     2506983 non-null float64\n",
      "start_station_longitude    2506983 non-null float64\n",
      "start_station_name         2426850 non-null object\n",
      "start_time                 2506983 non-null datetime64[ns]\n",
      "user_type                  2506983 non-null category\n",
      "distance_km                2506983 non-null float64\n",
      "distance_miles             2506983 non-null float64\n",
      "dtypes: category(2), datetime64[ns](2), float64(8), int64(2), object(3)\n",
      "memory usage: 291.7+ MB\n"
     ]
    }
   ],
   "source": [
    "df_cleaned.info(null_counts = True)"
   ]
  },
  {
   "cell_type": "markdown",
   "metadata": {},
   "source": [
    "## Define\n",
    "\n",
    "> Convertng the bike_id, start_station_id, and end_station_id to object\n"
   ]
  },
  {
   "cell_type": "markdown",
   "metadata": {},
   "source": [
    "## Code"
   ]
  },
  {
   "cell_type": "code",
   "execution_count": 20,
   "metadata": {},
   "outputs": [],
   "source": [
    "# Convertng the bike_id, start_station_id, and end_station_id to object\n",
    "df_cleaned.bike_id = df_cleaned.bike_id.astype(str)\n",
    "df_cleaned.start_station_id = df_cleaned.start_station_id.astype(str)\n",
    "df_cleaned.end_station_id = df_cleaned.end_station_id.astype(str)"
   ]
  },
  {
   "cell_type": "markdown",
   "metadata": {},
   "source": [
    "## Test"
   ]
  },
  {
   "cell_type": "code",
   "execution_count": 21,
   "metadata": {},
   "outputs": [
    {
     "name": "stdout",
     "output_type": "stream",
     "text": [
      "<class 'pandas.core.frame.DataFrame'>\n",
      "RangeIndex: 2506983 entries, 0 to 2506982\n",
      "Data columns (total 17 columns):\n",
      "bike_id                    2506983 non-null object\n",
      "bike_share_for_all_trip    2263724 non-null object\n",
      "duration_sec               2506983 non-null int64\n",
      "end_station_id             2506983 non-null object\n",
      "end_station_latitude       2506983 non-null float64\n",
      "end_station_longitude      2506983 non-null float64\n",
      "end_station_name           2424633 non-null object\n",
      "end_time                   2506983 non-null datetime64[ns]\n",
      "rental_access_method       120838 non-null category\n",
      "start_station_id           2506983 non-null object\n",
      "start_station_latitude     2506983 non-null float64\n",
      "start_station_longitude    2506983 non-null float64\n",
      "start_station_name         2426850 non-null object\n",
      "start_time                 2506983 non-null datetime64[ns]\n",
      "user_type                  2506983 non-null category\n",
      "distance_km                2506983 non-null float64\n",
      "distance_miles             2506983 non-null float64\n",
      "dtypes: category(2), datetime64[ns](2), float64(6), int64(1), object(6)\n",
      "memory usage: 291.7+ MB\n"
     ]
    }
   ],
   "source": [
    "df_cleaned.info(null_counts = True)"
   ]
  },
  {
   "cell_type": "markdown",
   "metadata": {},
   "source": [
    "###  Define\n",
    "\n",
    ">Adding columns for the start month, days of the week to create data visualisations. "
   ]
  },
  {
   "cell_type": "markdown",
   "metadata": {},
   "source": [
    "### Code"
   ]
  },
  {
   "cell_type": "code",
   "execution_count": 22,
   "metadata": {},
   "outputs": [],
   "source": [
    "# Start time month from January through to December 2019\n",
    "df_cleaned['start_time_month'] = df_cleaned['start_time'].dt.strftime('%B')\n",
    "df_cleaned['start_time_month_number'] = df_cleaned['start_time'].dt.month.astype(int)\n",
    "df_cleaned['start_time_weekday'] = df_cleaned['start_time'].dt.strftime('%a')"
   ]
  },
  {
   "cell_type": "markdown",
   "metadata": {},
   "source": [
    "### Test"
   ]
  },
  {
   "cell_type": "code",
   "execution_count": 23,
   "metadata": {},
   "outputs": [
    {
     "data": {
      "text/html": [
       "<div>\n",
       "<style scoped>\n",
       "    .dataframe tbody tr th:only-of-type {\n",
       "        vertical-align: middle;\n",
       "    }\n",
       "\n",
       "    .dataframe tbody tr th {\n",
       "        vertical-align: top;\n",
       "    }\n",
       "\n",
       "    .dataframe thead th {\n",
       "        text-align: right;\n",
       "    }\n",
       "</style>\n",
       "<table border=\"1\" class=\"dataframe\">\n",
       "  <thead>\n",
       "    <tr style=\"text-align: right;\">\n",
       "      <th></th>\n",
       "      <th>bike_id</th>\n",
       "      <th>bike_share_for_all_trip</th>\n",
       "      <th>duration_sec</th>\n",
       "      <th>end_station_id</th>\n",
       "      <th>end_station_latitude</th>\n",
       "      <th>end_station_longitude</th>\n",
       "      <th>end_station_name</th>\n",
       "      <th>end_time</th>\n",
       "      <th>rental_access_method</th>\n",
       "      <th>start_station_id</th>\n",
       "      <th>start_station_latitude</th>\n",
       "      <th>start_station_longitude</th>\n",
       "      <th>start_station_name</th>\n",
       "      <th>start_time</th>\n",
       "      <th>user_type</th>\n",
       "      <th>distance_km</th>\n",
       "      <th>distance_miles</th>\n",
       "      <th>start_time_month</th>\n",
       "      <th>start_time_month_number</th>\n",
       "      <th>start_time_weekday</th>\n",
       "    </tr>\n",
       "  </thead>\n",
       "  <tbody>\n",
       "    <tr>\n",
       "      <td>2256523</td>\n",
       "      <td>12258</td>\n",
       "      <td>No</td>\n",
       "      <td>531</td>\n",
       "      <td>239.0</td>\n",
       "      <td>37.868813</td>\n",
       "      <td>-122.258764</td>\n",
       "      <td>Bancroft Way at Telegraph Ave</td>\n",
       "      <td>2019-11-14 20:30:57.315</td>\n",
       "      <td>NaN</td>\n",
       "      <td>245.0</td>\n",
       "      <td>37.870139</td>\n",
       "      <td>-122.268422</td>\n",
       "      <td>Downtown Berkeley BART</td>\n",
       "      <td>2019-11-14 20:22:05.497</td>\n",
       "      <td>Subscriber</td>\n",
       "      <td>0.860499</td>\n",
       "      <td>0.534689</td>\n",
       "      <td>November</td>\n",
       "      <td>11</td>\n",
       "      <td>Thu</td>\n",
       "    </tr>\n",
       "    <tr>\n",
       "      <td>1930081</td>\n",
       "      <td>9817</td>\n",
       "      <td>No</td>\n",
       "      <td>3823</td>\n",
       "      <td>377.0</td>\n",
       "      <td>37.771951</td>\n",
       "      <td>-122.453705</td>\n",
       "      <td>Fell St at Stanyan St</td>\n",
       "      <td>2019-09-01 14:02:45.440</td>\n",
       "      <td>NaN</td>\n",
       "      <td>29.0</td>\n",
       "      <td>37.782405</td>\n",
       "      <td>-122.439446</td>\n",
       "      <td>O'Farrell St at Divisadero St</td>\n",
       "      <td>2019-09-01 12:59:02.288</td>\n",
       "      <td>Customer</td>\n",
       "      <td>1.709274</td>\n",
       "      <td>1.062093</td>\n",
       "      <td>September</td>\n",
       "      <td>9</td>\n",
       "      <td>Sun</td>\n",
       "    </tr>\n",
       "    <tr>\n",
       "      <td>1829101</td>\n",
       "      <td>400</td>\n",
       "      <td>No</td>\n",
       "      <td>1309</td>\n",
       "      <td>350.0</td>\n",
       "      <td>37.771431</td>\n",
       "      <td>-122.405787</td>\n",
       "      <td>8th St at Brannan St</td>\n",
       "      <td>2019-09-15 19:51:33.722</td>\n",
       "      <td>NaN</td>\n",
       "      <td>386.0</td>\n",
       "      <td>37.752105</td>\n",
       "      <td>-122.419724</td>\n",
       "      <td>24th St at Bartlett St</td>\n",
       "      <td>2019-09-15 19:29:44.691</td>\n",
       "      <td>Subscriber</td>\n",
       "      <td>2.473688</td>\n",
       "      <td>1.537078</td>\n",
       "      <td>September</td>\n",
       "      <td>9</td>\n",
       "      <td>Sun</td>\n",
       "    </tr>\n",
       "  </tbody>\n",
       "</table>\n",
       "</div>"
      ],
      "text/plain": [
       "        bike_id bike_share_for_all_trip  duration_sec end_station_id  \\\n",
       "2256523   12258                      No           531          239.0   \n",
       "1930081    9817                      No          3823          377.0   \n",
       "1829101     400                      No          1309          350.0   \n",
       "\n",
       "         end_station_latitude  end_station_longitude  \\\n",
       "2256523             37.868813            -122.258764   \n",
       "1930081             37.771951            -122.453705   \n",
       "1829101             37.771431            -122.405787   \n",
       "\n",
       "                      end_station_name                end_time  \\\n",
       "2256523  Bancroft Way at Telegraph Ave 2019-11-14 20:30:57.315   \n",
       "1930081          Fell St at Stanyan St 2019-09-01 14:02:45.440   \n",
       "1829101           8th St at Brannan St 2019-09-15 19:51:33.722   \n",
       "\n",
       "        rental_access_method start_station_id  start_station_latitude  \\\n",
       "2256523                  NaN            245.0               37.870139   \n",
       "1930081                  NaN             29.0               37.782405   \n",
       "1829101                  NaN            386.0               37.752105   \n",
       "\n",
       "         start_station_longitude             start_station_name  \\\n",
       "2256523              -122.268422         Downtown Berkeley BART   \n",
       "1930081              -122.439446  O'Farrell St at Divisadero St   \n",
       "1829101              -122.419724         24th St at Bartlett St   \n",
       "\n",
       "                     start_time   user_type  distance_km  distance_miles  \\\n",
       "2256523 2019-11-14 20:22:05.497  Subscriber     0.860499        0.534689   \n",
       "1930081 2019-09-01 12:59:02.288    Customer     1.709274        1.062093   \n",
       "1829101 2019-09-15 19:29:44.691  Subscriber     2.473688        1.537078   \n",
       "\n",
       "        start_time_month  start_time_month_number start_time_weekday  \n",
       "2256523         November                       11                Thu  \n",
       "1930081        September                        9                Sun  \n",
       "1829101        September                        9                Sun  "
      ]
     },
     "execution_count": 23,
     "metadata": {},
     "output_type": "execute_result"
    }
   ],
   "source": [
    "df_cleaned.sample(3)"
   ]
  },
  {
   "cell_type": "markdown",
   "metadata": {},
   "source": [
    "###  Define\n",
    "\n",
    ">Adding columns for the  of the week to create data visualisations. "
   ]
  },
  {
   "cell_type": "markdown",
   "metadata": {},
   "source": [
    "### Code"
   ]
  },
  {
   "cell_type": "code",
   "execution_count": 24,
   "metadata": {},
   "outputs": [],
   "source": [
    "# Start and end time hour and # Duration in seconds to duration in minutes\n",
    "df_cleaned['start_time_hour'] = df_cleaned['start_time'].dt.hour\n",
    "df_cleaned['end_time_hour'] = df_cleaned['end_time'].dt.hour\n",
    "df_cleaned['duration_min'] = df_cleaned['duration_sec']/60\n",
    "df_cleaned['duration_min'] = df_cleaned['duration_min'].astype(int)"
   ]
  },
  {
   "cell_type": "markdown",
   "metadata": {},
   "source": [
    "### Test"
   ]
  },
  {
   "cell_type": "code",
   "execution_count": 25,
   "metadata": {},
   "outputs": [
    {
     "data": {
      "text/html": [
       "<div>\n",
       "<style scoped>\n",
       "    .dataframe tbody tr th:only-of-type {\n",
       "        vertical-align: middle;\n",
       "    }\n",
       "\n",
       "    .dataframe tbody tr th {\n",
       "        vertical-align: top;\n",
       "    }\n",
       "\n",
       "    .dataframe thead th {\n",
       "        text-align: right;\n",
       "    }\n",
       "</style>\n",
       "<table border=\"1\" class=\"dataframe\">\n",
       "  <thead>\n",
       "    <tr style=\"text-align: right;\">\n",
       "      <th></th>\n",
       "      <th>bike_id</th>\n",
       "      <th>bike_share_for_all_trip</th>\n",
       "      <th>duration_sec</th>\n",
       "      <th>end_station_id</th>\n",
       "      <th>end_station_latitude</th>\n",
       "      <th>end_station_longitude</th>\n",
       "      <th>end_station_name</th>\n",
       "      <th>end_time</th>\n",
       "      <th>rental_access_method</th>\n",
       "      <th>start_station_id</th>\n",
       "      <th>...</th>\n",
       "      <th>start_time</th>\n",
       "      <th>user_type</th>\n",
       "      <th>distance_km</th>\n",
       "      <th>distance_miles</th>\n",
       "      <th>start_time_month</th>\n",
       "      <th>start_time_month_number</th>\n",
       "      <th>start_time_weekday</th>\n",
       "      <th>start_time_hour</th>\n",
       "      <th>end_time_hour</th>\n",
       "      <th>duration_min</th>\n",
       "    </tr>\n",
       "  </thead>\n",
       "  <tbody>\n",
       "    <tr>\n",
       "      <td>501973</td>\n",
       "      <td>6279</td>\n",
       "      <td>No</td>\n",
       "      <td>315</td>\n",
       "      <td>37.0</td>\n",
       "      <td>37.785377</td>\n",
       "      <td>-122.396906</td>\n",
       "      <td>2nd St at Folsom St</td>\n",
       "      <td>2019-03-17 15:04:31.728</td>\n",
       "      <td>NaN</td>\n",
       "      <td>16.0</td>\n",
       "      <td>...</td>\n",
       "      <td>2019-03-17 14:59:16.219</td>\n",
       "      <td>Subscriber</td>\n",
       "      <td>0.997356</td>\n",
       "      <td>0.619728</td>\n",
       "      <td>March</td>\n",
       "      <td>3</td>\n",
       "      <td>Sun</td>\n",
       "      <td>14</td>\n",
       "      <td>15</td>\n",
       "      <td>5</td>\n",
       "    </tr>\n",
       "    <tr>\n",
       "      <td>104829</td>\n",
       "      <td>5097</td>\n",
       "      <td>Yes</td>\n",
       "      <td>1871</td>\n",
       "      <td>99.0</td>\n",
       "      <td>37.767037</td>\n",
       "      <td>-122.415442</td>\n",
       "      <td>Folsom St at 15th St</td>\n",
       "      <td>2019-01-17 21:51:37.325</td>\n",
       "      <td>NaN</td>\n",
       "      <td>112.0</td>\n",
       "      <td>...</td>\n",
       "      <td>2019-01-17 21:20:26.283</td>\n",
       "      <td>Subscriber</td>\n",
       "      <td>0.414484</td>\n",
       "      <td>0.257548</td>\n",
       "      <td>January</td>\n",
       "      <td>1</td>\n",
       "      <td>Thu</td>\n",
       "      <td>21</td>\n",
       "      <td>21</td>\n",
       "      <td>31</td>\n",
       "    </tr>\n",
       "    <tr>\n",
       "      <td>1350344</td>\n",
       "      <td>785</td>\n",
       "      <td>No</td>\n",
       "      <td>406</td>\n",
       "      <td>27.0</td>\n",
       "      <td>37.788059</td>\n",
       "      <td>-122.391865</td>\n",
       "      <td>Beale St at Harrison St</td>\n",
       "      <td>2019-07-12 10:08:15.490</td>\n",
       "      <td>NaN</td>\n",
       "      <td>81.0</td>\n",
       "      <td>...</td>\n",
       "      <td>2019-07-12 10:01:28.500</td>\n",
       "      <td>Subscriber</td>\n",
       "      <td>1.359125</td>\n",
       "      <td>0.844521</td>\n",
       "      <td>July</td>\n",
       "      <td>7</td>\n",
       "      <td>Fri</td>\n",
       "      <td>10</td>\n",
       "      <td>10</td>\n",
       "      <td>6</td>\n",
       "    </tr>\n",
       "  </tbody>\n",
       "</table>\n",
       "<p>3 rows × 23 columns</p>\n",
       "</div>"
      ],
      "text/plain": [
       "        bike_id bike_share_for_all_trip  duration_sec end_station_id  \\\n",
       "501973     6279                      No           315           37.0   \n",
       "104829     5097                     Yes          1871           99.0   \n",
       "1350344     785                      No           406           27.0   \n",
       "\n",
       "         end_station_latitude  end_station_longitude         end_station_name  \\\n",
       "501973              37.785377            -122.396906      2nd St at Folsom St   \n",
       "104829              37.767037            -122.415442     Folsom St at 15th St   \n",
       "1350344             37.788059            -122.391865  Beale St at Harrison St   \n",
       "\n",
       "                       end_time rental_access_method start_station_id  ...  \\\n",
       "501973  2019-03-17 15:04:31.728                  NaN             16.0  ...   \n",
       "104829  2019-01-17 21:51:37.325                  NaN            112.0  ...   \n",
       "1350344 2019-07-12 10:08:15.490                  NaN             81.0  ...   \n",
       "\n",
       "                     start_time   user_type distance_km distance_miles  \\\n",
       "501973  2019-03-17 14:59:16.219  Subscriber    0.997356       0.619728   \n",
       "104829  2019-01-17 21:20:26.283  Subscriber    0.414484       0.257548   \n",
       "1350344 2019-07-12 10:01:28.500  Subscriber    1.359125       0.844521   \n",
       "\n",
       "        start_time_month  start_time_month_number  start_time_weekday  \\\n",
       "501973             March                        3                 Sun   \n",
       "104829           January                        1                 Thu   \n",
       "1350344             July                        7                 Fri   \n",
       "\n",
       "        start_time_hour  end_time_hour duration_min  \n",
       "501973               14             15            5  \n",
       "104829               21             21           31  \n",
       "1350344              10             10            6  \n",
       "\n",
       "[3 rows x 23 columns]"
      ]
     },
     "execution_count": 25,
     "metadata": {},
     "output_type": "execute_result"
    }
   ],
   "source": [
    "df_cleaned.sample(3)"
   ]
  },
  {
   "cell_type": "markdown",
   "metadata": {},
   "source": [
    "### Store Data"
   ]
  },
  {
   "cell_type": "code",
   "execution_count": 26,
   "metadata": {},
   "outputs": [],
   "source": [
    "#Store data into Master file ('baywheels_master_clean.csv)\n",
    "df_cleaned.to_csv('baywheels_master_clean.csv', index = False)"
   ]
  },
  {
   "cell_type": "markdown",
   "metadata": {},
   "source": [
    "### What is the structure of your dataset?\n",
    "\n",
    "The FordGoBike and BayWheels Datasets provide a valuable collection of data to work with in order draw data findings and a conclusion. This notebook uses data collected from January 2019 which the organisation was still using the naming structure FordGoBike until May 2019 and then changed its naming structure December 2019. There have been some anomity changes in the dataset and can no longer be distinguish by genderm work or ethnicity data. \n",
    "\n",
    "\n",
    "> The dataset has 25000+ bike rides that had happened in 2019. \n",
    "\n",
    "### The dataset contained features about:\n",
    "\n",
    "* trip duration\n",
    "* start time/end time\n",
    "* stations: start/end station, name, geolocation (latitude/longitude)\n",
    "* anonymized customer data: The users are divided into two user types: Subscriber and Customer\n",
    "* rented bikes: bike_id \n",
    "\n",
    "\n",
    "### The following columns that were added in the data cleaning phase:\n",
    "\n",
    "\n",
    "* Start Time Month\n",
    "* Start Time Month Number\n",
    "* Start Time Day of the Week\n",
    "* Start Time Hour\n",
    "* Distance (km)\n",
    "* Distance (miles)\n",
    "  \n",
    "\n",
    "### What is/are the main feature(s) of interest in your dataset?\n",
    "\n",
    "> I am interested in investigate the main features which include data that is related to the start time and end time of a ride. \n",
    "\n",
    "### What features in the dataset do you think will help support your investigation into your feature(s) of interest?\n",
    "\n",
    "> The features in the dataset that I think will ehance my investigation would be looking at the start times and end times as well as any related time-based information. "
   ]
  },
  {
   "cell_type": "markdown",
   "metadata": {},
   "source": [
    "## Step 4. Univariate Exploration\n",
    "\n",
    "> In this section, investigate distributions of individual variables. If\n",
    "you see unusual points or outliers, take a deeper look to clean things up\n",
    "and prepare yourself to look at relationships between variables."
   ]
  },
  {
   "cell_type": "code",
   "execution_count": 27,
   "metadata": {},
   "outputs": [
    {
     "data": {
      "text/plain": [
       "<seaborn.axisgrid.FacetGrid at 0x270590c5788>"
      ]
     },
     "execution_count": 27,
     "metadata": {},
     "output_type": "execute_result"
    },
    {
     "data": {
      "image/png": "[encoded data removed]",
      "text/plain": [
       "<Figure size 648x360 with 1 Axes>"
      ]
     },
     "metadata": {
      "needs_background": "light"
     },
     "output_type": "display_data"
    }
   ],
   "source": [
    "#Display mFord GoBikes System Monthly Usage in 2019\n",
    "graph = sb.catplot(data = df_cleaned, x = 'start_time_month', \n",
    "                   kind = 'count', aspect = 1.8);\n",
    "graph.set_axis_labels('Months in 2019','Number of Trips'),\n",
    "graph.fig.suptitle('Ford GoBikes System Monthly Usage in 2019',\n",
    "                   y = 1.07, fontsize = 18, fontweight = 'bold');\n",
    "graph.set_xticklabels(rotation=80)"
   ]
  },
  {
   "cell_type": "markdown",
   "metadata": {},
   "source": [
    "### Ford GoBikes System Monthly Usage in 2019\n",
    "\n",
    "> In the Bay Area, July which is in Summer in the Northen Hemispher is the most popular time to use the Ford Go Bike sharing system. March is also the second most popular time to use the Ford Go Bike sharing system in the Bay Area. \n",
    "\n",
    ">While December which is Winter time in the Northern Hemisphere, is the least popular time to use the Ford Go Bike Sharing System. Therefore, there will be more bikes available due to the usuage of bikes not been used around the Christmas Holidays. "
   ]
  },
  {
   "cell_type": "code",
   "execution_count": 45,
   "metadata": {},
   "outputs": [
    {
     "data": {
      "image/png": "[encoded data removed]",
      "text/plain": [
       "<Figure size 360x360 with 1 Axes>"
      ]
     },
     "metadata": {
      "needs_background": "light"
     },
     "output_type": "display_data"
    }
   ],
   "source": [
    "# Ford GoBikes System Wekkly Usage in 2019\n",
    "days_of_the_week = ['Mon', 'Tue', 'Wed', 'Thu', 'Fri', 'Sat', 'Sun']\n",
    "graph = sb.catplot(data=df_cleaned, x='start_time_weekday', \n",
    "                   kind='count', order = days_of_the_week)\n",
    "graph.set_axis_labels('Days of the Week', 'Number of Trips')\n",
    "graph.fig.suptitle('Ford GoBikes System Weekly Usage in 2019',\n",
    "                   y=1.07, fontsize=16, fontweight='bold');\n",
    "graph.set_xticklabels(rotation=80);"
   ]
  },
  {
   "cell_type": "markdown",
   "metadata": {},
   "source": [
    "### Ford GoBikes System Weekly Usage in 2019\n",
    "\n",
    "In 2019, Monday through Friday has heavy usage in hiring bikes from the Ford Go Bike sharing system in the Bay Area. \n",
    "The usage drops significantly on the weekend where Saturday and Sunday. The data suggests that the Ford Go Bike sharing system is mainly used during the week. "
   ]
  },
  {
   "cell_type": "code",
   "execution_count": 29,
   "metadata": {},
   "outputs": [
    {
     "data": {
      "text/plain": [
       "count    2.506983e+06\n",
       "mean     1.296946e+01\n",
       "std      3.291311e+01\n",
       "min      1.000000e+00\n",
       "25%      5.000000e+00\n",
       "50%      9.000000e+00\n",
       "75%      1.400000e+01\n",
       "max      1.520100e+04\n",
       "Name: duration_min, dtype: float64"
      ]
     },
     "execution_count": 29,
     "metadata": {},
     "output_type": "execute_result"
    }
   ],
   "source": [
    "#Finding the duration \n",
    "df_cleaned.duration_min.describe(percentiles = [.95])\n",
    "df_cleaned.duration_min.describe()"
   ]
  },
  {
   "cell_type": "code",
   "execution_count": 30,
   "metadata": {},
   "outputs": [
    {
     "data": {
      "text/plain": [
       "12.969462497352396"
      ]
     },
     "execution_count": 30,
     "metadata": {},
     "output_type": "execute_result"
    }
   ],
   "source": [
    "#Find out the average trip\n",
    "df_cleaned.duration_min.mean()"
   ]
  },
  {
   "cell_type": "code",
   "execution_count": 31,
   "metadata": {},
   "outputs": [
    {
     "data": {
      "image/png": "[encoded data removed]",
      "text/plain": [
       "<Figure size 432x288 with 1 Axes>"
      ]
     },
     "metadata": {
      "needs_background": "light"
     },
     "output_type": "display_data"
    }
   ],
   "source": [
    "# Display the duration bike rides in minutes \n",
    "bins = 10**np.arange(0 , 3 + 0.1 , 0.1)\n",
    "ticks =  [ 1 , 3, 10, 30, 100, 300, 1000]\n",
    "labels = ['{}'.format(t) for t in ticks]\n",
    "plt.hist(data = df_cleaned , x = 'duration_min' , bins = bins);\n",
    "plt.xscale('log');\n",
    "plt.xticks(ticks,labels);\n",
    "plt.xlabel('Duration in Minutes');\n",
    "plt.title('2019 Ford GoBikes Average Bike Trip Duration in Minutes');\n",
    "plt.ylabel('Number of Trips');"
   ]
  },
  {
   "cell_type": "markdown",
   "metadata": {},
   "source": [
    "### 2019 Duration of Bike Trips in Ford GoBikes System\n",
    "\n",
    "> In 2019, the average duration of bike trips was under 12.96 minutes. \n"
   ]
  },
  {
   "cell_type": "code",
   "execution_count": 32,
   "metadata": {},
   "outputs": [
    {
     "data": {
      "image/png": "[encoded data removed]",
      "text/plain": [
       "<Figure size 612x360 with 1 Axes>"
      ]
     },
     "metadata": {
      "needs_background": "light"
     },
     "output_type": "display_data"
    }
   ],
   "source": [
    "# Ford GoBike System Hourly Usage in 2019\n",
    "graph = sb.catplot(data = df_cleaned, x='start_time_hour', kind='count', aspect = 1.7)\n",
    "graph.set_axis_labels('Number of Hours', 'Number of Trips')\n",
    "graph.fig.suptitle('Ford GoBikes System Hourly Usage in 2019', \n",
    "                   y=1.07, fontsize=16, fontweight='bold');"
   ]
  },
  {
   "cell_type": "markdown",
   "metadata": {},
   "source": [
    "### Ford GoBikes Hourly Usage in 2019\n",
    "\n",
    "> In 2019, through observing the peak-times of when users use the Ford GoBike System. The hours are mainly high between the morning from 8-9am and from 1700-1800 (5-6 pm) in the afternoon.\n"
   ]
  },
  {
   "cell_type": "markdown",
   "metadata": {},
   "source": [
    "### Talk about some of the relationships you observed in this part of the investigation. How did the feature(s) of interest vary with other features in the dataset?\n",
    "\n",
    "> There were six observations that were made with the duration of the bike ride data. As the data was cleaned, through the data cleaning phase. The data visualisation of the duration of the bike ride and the distance helped to form a story. The trip duration takes a large amount of values and is concentrated.\n",
    "\n",
    "\n",
    "### Did you observe any interesting relationships between the other features (not the main feature(s) of interest)?\n",
    "\n",
    "> Looking at the cleaned dataset, the average duration of bike trips was under 12.96 minutes. I want to look at the comparison between Subscriber and Customer. In 2019, through observing the peak-times of when users use the Ford GoBike System. The hours are mainly high between the morning from 8-9am and from 1700-1800 (5-6 pm) in the afternoon. I would like further investigate if that varies by user type. \n"
   ]
  },
  {
   "cell_type": "markdown",
   "metadata": {},
   "source": [
    "## Bivariate Exploration\n",
    "\n",
    "> In this section, I investigate relationships between pairs of variables in the data."
   ]
  },
  {
   "cell_type": "code",
   "execution_count": 33,
   "metadata": {},
   "outputs": [],
   "source": [
    "# Clean the User Type data for data visualisation\n",
    "customer = df_cleaned.query('user_type == \"Customer\"')['bike_id'].count()\n",
    "subscriber = df_cleaned.query('user_type == \"Subscriber\"')['bike_id'].count()\n",
    "customer_prop = customer / df_cleaned['bike_id'].count()\n",
    "subscriber_prop = subscriber / df_cleaned['bike_id'].count()"
   ]
  },
  {
   "cell_type": "code",
   "execution_count": 34,
   "metadata": {},
   "outputs": [
    {
     "data": {
      "image/png": "[encoded data removed]",
      "text/plain": [
       "<Figure size 720x360 with 1 Axes>"
      ]
     },
     "metadata": {
      "needs_background": "light"
     },
     "output_type": "display_data"
    }
   ],
   "source": [
    "# Plot Number of Customers vs Subscribers in the Ford GoBike System to make a comparison.\n",
    "plt.figure(figsize = [10, 5])\n",
    "graph = sb.countplot(data = df_cleaned, x = \"user_type\", \n",
    "                     order = df_cleaned.user_type.value_counts().index);\n",
    "graph.set_xlabel('User Type');\n",
    "graph.set_ylabel('Number of Bike Trips');\n",
    "plt.suptitle('Ford GoBikes Sharing System Customers vs. Subscribers', \n",
    "             y=1.07, fontsize=16, fontweight='bold');"
   ]
  },
  {
   "cell_type": "markdown",
   "metadata": {},
   "source": [
    "### Ford GoBike Sharing System Customers vs. Subscribers\n",
    "\n",
    "> There are more than 200,000 Subscribers as displayed in the Customers vs. Subscribers in Ford GoBike Sharing System chart."
   ]
  },
  {
   "cell_type": "code",
   "execution_count": 35,
   "metadata": {},
   "outputs": [
    {
     "data": {
      "image/png": "[encoded data removed]",
      "text/plain": [
       "<Figure size 720x360 with 1 Axes>"
      ]
     },
     "metadata": {},
     "output_type": "display_data"
    }
   ],
   "source": [
    "# Plot a pie chart to compare the percentage of Customers vs Subscribers that are using the platform\n",
    "plt.figure(figsize = [10, 5])\n",
    "labels = ['Customer', 'Subscriber']\n",
    "size = [customer_prop, subscriber_prop]\n",
    "explode = (0, 0.3)\n",
    "plt.pie(size, explode=explode, labels = labels, autopct='%1.1f%%', \n",
    "        shadow=True, startangle=30, textprops={'color':'black'})\n",
    "plt.axis('equal')\n",
    "plt.suptitle('Ford GoBike Customers vs. Subscribers in 2019', y=1.07,\n",
    "             fontsize=16, fontweight='bold');"
   ]
  },
  {
   "cell_type": "markdown",
   "metadata": {},
   "source": [
    "### Ford GoBikes System Customers vs. Subscribers in 2019\n",
    "\n",
    "> In 2019, 80.6% of the user types in the Ford GoBikes sharing platform were Subscribers. 19.4% of the user types in the Ford GoBikes Sharing Platform were Customers. \n",
    "\n"
   ]
  },
  {
   "cell_type": "code",
   "execution_count": 36,
   "metadata": {},
   "outputs": [
    {
     "data": {
      "text/plain": [
       "<Figure size 864x360 with 0 Axes>"
      ]
     },
     "metadata": {},
     "output_type": "display_data"
    },
    {
     "data": {
      "image/png": "[encoded data removed]",
      "text/plain": [
       "<Figure size 720x360 with 2 Axes>"
      ]
     },
     "metadata": {
      "needs_background": "light"
     },
     "output_type": "display_data"
    }
   ],
   "source": [
    "# Plot comparison of usage between Customers vs Subscribersin 2019\n",
    "plt.figure(figsize = [12, 5])\n",
    "graph = sb.catplot(data=df_cleaned, x='start_time_month', \n",
    "                   col=\"user_type\", kind='count', sharey = True);\n",
    "graph.set_axis_labels(\"Month\", \"Number of Bike Trips\");\n",
    "graph.set_titles(\"{col_name}\");\n",
    "graph.fig.suptitle('Ford GoBike System Customers vs. Subscribers in 2019',\n",
    "                   y=1.07, fontsize=16, fontweight='bold');\n",
    "graph.set_xticklabels(rotation=80);"
   ]
  },
  {
   "cell_type": "markdown",
   "metadata": {},
   "source": [
    "### Customers vs. Subscribers Usage in Ford GoBikes Sharing\n",
    "\n",
    "> There are more than 200,000 Subscribers as displayed in the Customers vs. Subscribers in Ford GoBike Sharing System chart. \n",
    "\n",
    "Customers: The demand is high during December. However, the frequency is high betwen the months of July - October 2019.\n",
    "\n",
    "Subscribers: The demand is highest in March 2019. THis is followed by July 2019 which is Summer time in the Bay Area and April which is Spring. \n",
    "\n",
    "\n"
   ]
  },
  {
   "cell_type": "code",
   "execution_count": 37,
   "metadata": {},
   "outputs": [
    {
     "data": {
      "image/png": "[encoded data removed]",
      "text/plain": [
       "<Figure size 864x360 with 1 Axes>"
      ]
     },
     "metadata": {
      "needs_background": "light"
     },
     "output_type": "display_data"
    }
   ],
   "source": [
    "plt.figure(figsize=(12, 5))\n",
    "df_cleaned_user_week = df_cleaned.groupby(['start_time_weekday', 'user_type']).size().reset_index()\n",
    "weekday = ['Mon', 'Tue', 'Wed', 'Thu', 'Fri', 'Sat', 'Sun']\n",
    "ax = sb.pointplot(data=df_cleaned_user_week, x='start_time_weekday', \n",
    "                  y=0, hue = 'user_type', scale=.7, order = weekday);\n",
    "plt.title('Ford GoBikes Sharing Customer vs. Subscribers Trends in 2019', y=1.07, \n",
    "          fontsize=16, fontweight='bold')\n",
    "plt.xlabel('Weekdays')\n",
    "plt.ylabel('Number of Bike Trips');\n",
    "plt.grid()"
   ]
  },
  {
   "cell_type": "markdown",
   "metadata": {},
   "source": [
    "### Ford GoBikes Sharing Customer vs. Subscribers Trends in 2019\n",
    " \n",
    "In 2019, customers usage is quite low and consistant staying under 10,000 bike trips during the week. While Subscribers frequently used the the Ford GoBikes Sharing platform during Monday - Thursday with a drop of the number of bike trips on Friday and a significant drop through to Saturday and Sunday. \n"
   ]
  },
  {
   "cell_type": "markdown",
   "metadata": {},
   "source": [
    "### Talk about some of the relationships you observed in this part of the investigation. How did the feature(s) of interest vary with other features in the dataset?\n",
    "\n",
    "> The importance of including the user type to the data analysis revealed that there were some differences in the behaviour of the customers and subscribers using the Ford GoBikes Sharing platform. \n",
    "\n",
    "> The dataset highlights the usage trends between customers and subscribers. This suggests that Customers are casual users and the Subscribers are daily commuters that maybe working, studying etc. \n",
    "\n",
    "\n",
    "### Did you observe any interesting relationships between the other features (not the main feature(s) of interest)?\n",
    "\n",
    "> Through Observation, there is a difference in usage between customers and subscribers. The popularity of using Ford GoBikes for Customers is usually in December and increases more on Saturday as opposed to Subscribers where it decreases significantly on Saturday and during the weekend. \n",
    "> There were some limitations in this analysis, due to the anomity of customer data shighuch as gender. "
   ]
  },
  {
   "cell_type": "code",
   "execution_count": 38,
   "metadata": {},
   "outputs": [
    {
     "data": {
      "image/png": "[encoded data removed]",
      "text/plain": [
       "<Figure size 576x360 with 1 Axes>"
      ]
     },
     "metadata": {
      "needs_background": "light"
     },
     "output_type": "display_data"
    }
   ],
   "source": [
    "# Number of bike trips Customers vs. Subscriber Usage by Duration\n",
    "plt.figure(figsize = [8, 5])\n",
    "base_color = sb.color_palette()[1]\n",
    "sb.boxplot(data = df, x = 'user_type', y = 'duration_sec')\n",
    "plt.title('Ford GoBikes Customer vs. Subscribers Duration in Seconds', y=1.07, fontsize=16, fontweight='bold')\n",
    "plt.xlabel('User Type')\n",
    "plt.ylabel('Duration in sec')\n",
    "plt.show()\n",
    "\n"
   ]
  },
  {
   "cell_type": "markdown",
   "metadata": {},
   "source": [
    "### Customers vs. Subscribers Ride Duration in Seconds\n",
    "\n",
    "> In 2019, the graph above highlights that the values are vey widespread to see a box plot. In the next observation, will have a look at the box plot with the duration in minutes as opposed to seconds. \n"
   ]
  },
  {
   "cell_type": "code",
   "execution_count": 39,
   "metadata": {},
   "outputs": [
    {
     "data": {
      "image/png": "[encoded data removed]",
      "text/plain": [
       "<Figure size 720x360 with 2 Axes>"
      ]
     },
     "metadata": {
      "needs_background": "light"
     },
     "output_type": "display_data"
    }
   ],
   "source": [
    "data = df_cleaned.query('duration_min < 30')\n",
    "x = sb.catplot(data=data, y='duration_min', \n",
    "               col=\"user_type\", kind='box')\n",
    "x.set_titles(col_template = '{col_name}')\n",
    "x.set_axis_labels(\"\", \"Duration in Minutes\")\n",
    "x.fig.suptitle('Ford GoBikes Duration in Minutes by Customers vs. Subcribers',\n",
    "               y=1.05, fontsize=16, fontweight='bold');"
   ]
  },
  {
   "cell_type": "markdown",
   "metadata": {},
   "source": [
    "###  Duration in Minutes by User Type \n",
    "\n",
    "> The Duration in Minutes by User Type plot highlights that Customers normally have longer trip durations. Customers normally ride between 8 minutes and 18 minutes. Subscriber trips are normally shorter and last anywhere between 5-13 minutes. \n"
   ]
  },
  {
   "cell_type": "markdown",
   "metadata": {},
   "source": [
    "## Step 5. Multivariate Exploration\n",
    "\n",
    "> In this section, I plot more graphs in order to investigate the duration of the Ford Go Bike data.\n"
   ]
  },
  {
   "cell_type": "code",
   "execution_count": 40,
   "metadata": {},
   "outputs": [
    {
     "data": {
      "image/png": "[encoded data removed]",
      "text/plain": [
       "<Figure size 432x288 with 2 Axes>"
      ]
     },
     "metadata": {
      "needs_background": "light"
     },
     "output_type": "display_data"
    }
   ],
   "source": [
    "#Ford GoBikes Customer \n",
    "weekday = ['Mon', 'Tue', 'Wed', 'Thu', 'Fri', 'Sat', 'Sun']\n",
    "df_cleaned['start_time_weekday'] = pd.Categorical(df_cleaned['start_time_weekday'], \n",
    "                                                  categories= ['Mon', 'Tue', 'Wed', 'Thu', 'Fri', 'Sat', 'Sun'], ordered=True);\n",
    "df_customer = df_cleaned.query('user_type == \"Customer\"').groupby(['start_time_hour', 'start_time_weekday'])['bike_id'].size().reset_index();\n",
    "df_customer = df_customer.pivot('start_time_hour', 'start_time_weekday', 'bike_id')\n",
    "heat_map = sb.heatmap(df_customer, cmap = 'twilight')\n",
    "plt.title('Ford GoBikes Customer Weekly Trends in 2019', y=1.07, fontweight='bold')\n",
    "plt.xlabel('Days of the Week', labelpad = 17)\n",
    "plt.ylabel('Start Time in Hour',  labelpad = 17)\n",
    "plt.show()\n"
   ]
  },
  {
   "cell_type": "code",
   "execution_count": 41,
   "metadata": {},
   "outputs": [
    {
     "data": {
      "image/png": "[encoded data removed]",
      "text/plain": [
       "<Figure size 432x288 with 2 Axes>"
      ]
     },
     "metadata": {
      "needs_background": "light"
     },
     "output_type": "display_data"
    }
   ],
   "source": [
    "#Heat Map for Ford GoBikes Subscriber Information\n",
    "df_subscriber = df_cleaned.query('user_type == \"Subscriber\"').groupby(['start_time_hour', 'start_time_weekday'])['bike_id'].size().reset_index();\n",
    "df_subscriber = df_subscriber.pivot('start_time_hour', 'start_time_weekday', 'bike_id')\n",
    "hot_maps = sb.heatmap(df_subscriber, cmap = 'twilight')\n",
    "plt.title(\"Ford GoBike Subscribers Weekly Trends in 2019\", y=1.07, fontweight='bold')\n",
    "plt.xlabel('Days of the Week', labelpad = 17)\n",
    "plt.ylabel('Start Time in Hours', labelpad = 17);\n",
    "plt.show()"
   ]
  },
  {
   "cell_type": "markdown",
   "metadata": {},
   "source": [
    "## Ford GoBike HeatMap\n",
    "\n",
    "> As per the heat map above, Customers who use the Ford Gobikes sharing system mainly on the weekends. While, Subscriber normally ride bikes during the weekday from Monday through to Friday, around 8-9am and 4-6pm. In the weekends, there is a significant drop in the number of rented bikes."
   ]
  },
  {
   "cell_type": "code",
   "execution_count": 44,
   "metadata": {},
   "outputs": [
    {
     "data": {
      "image/png": "[encoded data removed]",
      "text/plain": [
       "<Figure size 1440x360 with 2 Axes>"
      ]
     },
     "metadata": {
      "needs_background": "light"
     },
     "output_type": "display_data"
    }
   ],
   "source": [
    "# Monthly usage by user type \n",
    "graph = sb.catplot(data=df_cleaned, x='start_time_month', col=\"user_type\", kind='count', sharey = False, height=5, aspect=2);\n",
    "graph.set_axis_labels(\"Month\", \"Number of Bike Trips\")\n",
    "graph.set_titles(\"{col_name}\")\n",
    "graph.fig.suptitle('Ford GoBike System Monthly Usage Per User Type', y=1.07, fontsize=16, fontweight='bold');\n",
    "graph.set_xticklabels(rotation=80);"
   ]
  },
  {
   "cell_type": "markdown",
   "metadata": {},
   "source": [
    "## Ford GoBike Monthly Usage Per User Type\n",
    "\n",
    "> As per the graph above, in 2019 the Ford GoBike Monthly Usage per User Type. There are two types of users who use the Ford GoBike which is between Customer and Subscriber. \n",
    "\n",
    "> Customers saw an increase of usage in December while Subscribers would frequently use the the Ford GoBike system in March, July and April. While the Monthly usage for Subscribers would decrease in December. \n"
   ]
  },
  {
   "cell_type": "markdown",
   "metadata": {},
   "source": [
    "### Talk about some of the relationships you observed in this part of the investigation. Were there features that strengthened each other in terms of looking at your feature(s) of interest?\n",
    "\n",
    "> Through further observation between Customer and Supplier behaviours, Customers saw an increase of usage in December while Subscribers would frequently use the the Ford GoBike system in March, July and April. While the Monthly usage for Subscribers would decrease in December. \n",
    "\n",
    "### Were there any interesting or surprising interactions between features?\n",
    "\n",
    "> Through observation of the heatmap, Customers who use the Ford Gobikes sharing system mainly on the weekends. While, Subscriber normally ride bikes during the weekday from Monday through to Friday, around 8-9am and 4-6pm. In the weekends, there is a significant drop in the number of bikes used in the weekends from the subscribers.\n"
   ]
  },
  {
   "cell_type": "markdown",
   "metadata": {},
   "source": [
    "# References\n",
    "\n",
    "1. How To Combine Multiple CSV Files In Python: https://sempioneer.com/python-for-seo/how-to-combine-multiple-csv-files-in-python/\n",
    "2. FordGoBike Data Set: https://www.lyft.com/bikes/bay-wheels/system-data\n",
    "3. Github: https://github.com/ijdev/Ford-GoBike-System-Data---Data-Analysis/blob/master/exploration_template.ipynb, \n",
    "4. Github: https://github.com/satyarajreddy/Udacity-Data-Visualization/blob/master/Visualize_Data.ipynb \n",
    "5. Github: https://gist.github.com/rochacbruno/2883505\n",
    "6. Github: https://github.com/chelseymarie6/Communicate-Data-Findings\n",
    "7. Github: https://github.com/rishusingh121/fordgobike/blob/master/slide_deck_template.ipynb\n",
    "8. Keggle: https://www.kaggle.com/chirag02/ford-gobike-data-analysis\n",
    "9. seaborn catplot: https://seaborn.pydata.org/generated/seaborn.catplot.html\n",
    "10. matplotlib Documentation: https://matplotlib.org/api/_as_gen/matplotlib.pyplot.hist.html\n",
    "\n"
   ]
  }
 ],
 "metadata": {
  "kernelspec": {
   "display_name": "Python 3",
   "language": "python",
   "name": "python3"
  },
  "language_info": {
   "codemirror_mode": {
    "name": "ipython",
    "version": 3
   },
   "file_extension": ".py",
   "mimetype": "text/x-python",
   "name": "python",
   "nbconvert_exporter": "python",
   "pygments_lexer": "ipython3",
   "version": "3.7.4"
  }
 },
 "nbformat": 4,
 "nbformat_minor": 2
}
