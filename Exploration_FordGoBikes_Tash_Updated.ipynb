{
 "cells": [
  {
   "cell_type": "markdown",
   "metadata": {},
   "source": [
    "# Analyzing Ford GoBikes System Data¶\n",
    "## By Tash Bettridge \n",
    "\n",
    "## Preliminary Wrangling\n",
    "\n",
    ">Formerly known as Ford GoBike, renamed Lyft Bikes is a regional public bicycle sharing system in the San Francisco Bay Area, California.\n",
    "\n",
    "### Data\n",
    "\n",
    "The data will be analysed from the following:\n",
    "\n",
    "* 2019 FordGo Bike and Baywheels Tripdata\n",
    "\n",
    "### Process\n",
    "\n",
    "The data wrangling steps that were involved in this project were:\n",
    "- Step 1. Assessing the Data \n",
    "- Step 2. Preliminary Wrangling\n",
    "- Step 3. Cleaning data\n",
    "- Step 4. Univariate Exploration\n",
    "- Step 5. Multivariate Exploration\n",
    "\n"
   ]
  },
  {
   "cell_type": "markdown",
   "metadata": {},
   "source": [
    "### Step 1. Assessing the Data \n",
    "\n",
    "Data Analysis, storing data and data visualization of the wrangled data\n"
   ]
  },
  {
   "cell_type": "code",
   "execution_count": 1,
   "metadata": {},
   "outputs": [],
   "source": [
    "# import all packages and set plots to be embedded inline\n",
    "import numpy as np\n",
    "import pandas as pd\n",
    "import matplotlib.pyplot as plt\n",
    "import seaborn as sb\n",
    "import glob\n",
    "import os\n",
    "import datetime\n",
    "import matplotlib.ticker as tick\n",
    "%matplotlib inline"
   ]
  },
  {
   "cell_type": "code",
   "execution_count": 2,
   "metadata": {},
   "outputs": [],
   "source": [
    "#Retrieve the datasets from the User directory \n",
    "path = r'C:\\Users\\tash_\\Desktop\\Udacity\\dataset'\n",
    "# detect all of the files ending with a .csv name within a specific working directory\n",
    "files = glob.glob(os.path.join(path, \"*.csv\"))"
   ]
  },
  {
   "cell_type": "code",
   "execution_count": 3,
   "metadata": {},
   "outputs": [
    {
     "name": "stderr",
     "output_type": "stream",
     "text": [
      "C:\\ProgramData\\Anaconda3\\lib\\site-packages\\ipykernel_launcher.py:2: DtypeWarning: Columns (14) have mixed types. Specify dtype option on import or set low_memory=False.\n",
      "  \n",
      "C:\\ProgramData\\Anaconda3\\lib\\site-packages\\ipykernel_launcher.py:2: DtypeWarning: Columns (13,14) have mixed types. Specify dtype option on import or set low_memory=False.\n",
      "  \n",
      "C:\\ProgramData\\Anaconda3\\lib\\site-packages\\ipykernel_launcher.py:2: DtypeWarning: Columns (13) have mixed types. Specify dtype option on import or set low_memory=False.\n",
      "  \n",
      "C:\\ProgramData\\Anaconda3\\lib\\site-packages\\ipykernel_launcher.py:2: FutureWarning: Sorting because non-concatenation axis is not aligned. A future version\n",
      "of pandas will change to not sort by default.\n",
      "\n",
      "To accept the future behavior, pass 'sort=False'.\n",
      "\n",
      "To retain the current behavior and silence the warning, pass 'sort=True'.\n",
      "\n",
      "  \n"
     ]
    }
   ],
   "source": [
    "#use the pd.concat() method to stack every dataframe one on top of another.\n",
    "df = pd.concat((pd.read_csv(f) for f in files), ignore_index = False)\n"
   ]
  },
  {
   "cell_type": "code",
   "execution_count": 4,
   "metadata": {},
   "outputs": [],
   "source": [
    "#Save a Copy To Master File\n",
    "df.to_csv('baywheels_master.csv', index = False)\n",
    "\n"
   ]
  },
  {
   "cell_type": "markdown",
   "metadata": {},
   "source": [
    "### Step 2. Preliminary Wrangling"
   ]
  },
  {
   "cell_type": "code",
   "execution_count": 5,
   "metadata": {},
   "outputs": [
    {
     "name": "stderr",
     "output_type": "stream",
     "text": [
      "C:\\ProgramData\\Anaconda3\\lib\\site-packages\\IPython\\core\\interactiveshell.py:3058: DtypeWarning: Columns (1,8) have mixed types. Specify dtype option on import or set low_memory=False.\n",
      "  interactivity=interactivity, compiler=compiler, result=result)\n"
     ]
    }
   ],
   "source": [
    "# Read contents of Master File\n",
    "df = pd.read_csv('baywheels_master.csv')\n"
   ]
  },
  {
   "cell_type": "code",
   "execution_count": 6,
   "metadata": {},
   "outputs": [
    {
     "data": {
      "text/html": [
       "<div>\n",
       "<style scoped>\n",
       "    .dataframe tbody tr th:only-of-type {\n",
       "        vertical-align: middle;\n",
       "    }\n",
       "\n",
       "    .dataframe tbody tr th {\n",
       "        vertical-align: top;\n",
       "    }\n",
       "\n",
       "    .dataframe thead th {\n",
       "        text-align: right;\n",
       "    }\n",
       "</style>\n",
       "<table border=\"1\" class=\"dataframe\">\n",
       "  <thead>\n",
       "    <tr style=\"text-align: right;\">\n",
       "      <th></th>\n",
       "      <th>bike_id</th>\n",
       "      <th>duration_sec</th>\n",
       "      <th>end_station_id</th>\n",
       "      <th>end_station_latitude</th>\n",
       "      <th>end_station_longitude</th>\n",
       "      <th>start_station_id</th>\n",
       "      <th>start_station_latitude</th>\n",
       "      <th>start_station_longitude</th>\n",
       "    </tr>\n",
       "  </thead>\n",
       "  <tbody>\n",
       "    <tr>\n",
       "      <td>count</td>\n",
       "      <td>2.506983e+06</td>\n",
       "      <td>2.506983e+06</td>\n",
       "      <td>2.424081e+06</td>\n",
       "      <td>2.506983e+06</td>\n",
       "      <td>2.506983e+06</td>\n",
       "      <td>2.426249e+06</td>\n",
       "      <td>2.506983e+06</td>\n",
       "      <td>2.506983e+06</td>\n",
       "    </tr>\n",
       "    <tr>\n",
       "      <td>mean</td>\n",
       "      <td>2.789833e+04</td>\n",
       "      <td>8.076483e+02</td>\n",
       "      <td>1.427044e+02</td>\n",
       "      <td>3.776422e+01</td>\n",
       "      <td>-1.223459e+02</td>\n",
       "      <td>1.465047e+02</td>\n",
       "      <td>3.776506e+01</td>\n",
       "      <td>-1.223499e+02</td>\n",
       "    </tr>\n",
       "    <tr>\n",
       "      <td>std</td>\n",
       "      <td>1.146067e+05</td>\n",
       "      <td>1.974714e+03</td>\n",
       "      <td>1.214296e+02</td>\n",
       "      <td>2.392885e-01</td>\n",
       "      <td>7.080417e-01</td>\n",
       "      <td>1.223171e+02</td>\n",
       "      <td>1.363698e-01</td>\n",
       "      <td>3.089648e-01</td>\n",
       "    </tr>\n",
       "    <tr>\n",
       "      <td>min</td>\n",
       "      <td>4.000000e+00</td>\n",
       "      <td>6.000000e+01</td>\n",
       "      <td>3.000000e+00</td>\n",
       "      <td>0.000000e+00</td>\n",
       "      <td>-1.225143e+02</td>\n",
       "      <td>3.000000e+00</td>\n",
       "      <td>0.000000e+00</td>\n",
       "      <td>-1.225143e+02</td>\n",
       "    </tr>\n",
       "    <tr>\n",
       "      <td>25%</td>\n",
       "      <td>1.952000e+03</td>\n",
       "      <td>3.590000e+02</td>\n",
       "      <td>4.300000e+01</td>\n",
       "      <td>3.777003e+01</td>\n",
       "      <td>-1.224117e+02</td>\n",
       "      <td>4.700000e+01</td>\n",
       "      <td>3.776931e+01</td>\n",
       "      <td>-1.224130e+02</td>\n",
       "    </tr>\n",
       "    <tr>\n",
       "      <td>50%</td>\n",
       "      <td>4.420000e+03</td>\n",
       "      <td>5.710000e+02</td>\n",
       "      <td>1.010000e+02</td>\n",
       "      <td>3.778076e+01</td>\n",
       "      <td>-1.223981e+02</td>\n",
       "      <td>1.050000e+02</td>\n",
       "      <td>3.778053e+01</td>\n",
       "      <td>-1.223983e+02</td>\n",
       "    </tr>\n",
       "    <tr>\n",
       "      <td>75%</td>\n",
       "      <td>9.682000e+03</td>\n",
       "      <td>8.870000e+02</td>\n",
       "      <td>2.390000e+02</td>\n",
       "      <td>3.779587e+01</td>\n",
       "      <td>-1.222934e+02</td>\n",
       "      <td>2.430000e+02</td>\n",
       "      <td>3.779539e+01</td>\n",
       "      <td>-1.222914e+02</td>\n",
       "    </tr>\n",
       "    <tr>\n",
       "      <td>max</td>\n",
       "      <td>9.999410e+05</td>\n",
       "      <td>9.121100e+05</td>\n",
       "      <td>4.980000e+02</td>\n",
       "      <td>4.551000e+01</td>\n",
       "      <td>0.000000e+00</td>\n",
       "      <td>4.980000e+02</td>\n",
       "      <td>4.551000e+01</td>\n",
       "      <td>0.000000e+00</td>\n",
       "    </tr>\n",
       "  </tbody>\n",
       "</table>\n",
       "</div>"
      ],
      "text/plain": [
       "            bike_id  duration_sec  end_station_id  end_station_latitude  \\\n",
       "count  2.506983e+06  2.506983e+06    2.424081e+06          2.506983e+06   \n",
       "mean   2.789833e+04  8.076483e+02    1.427044e+02          3.776422e+01   \n",
       "std    1.146067e+05  1.974714e+03    1.214296e+02          2.392885e-01   \n",
       "min    4.000000e+00  6.000000e+01    3.000000e+00          0.000000e+00   \n",
       "25%    1.952000e+03  3.590000e+02    4.300000e+01          3.777003e+01   \n",
       "50%    4.420000e+03  5.710000e+02    1.010000e+02          3.778076e+01   \n",
       "75%    9.682000e+03  8.870000e+02    2.390000e+02          3.779587e+01   \n",
       "max    9.999410e+05  9.121100e+05    4.980000e+02          4.551000e+01   \n",
       "\n",
       "       end_station_longitude  start_station_id  start_station_latitude  \\\n",
       "count           2.506983e+06      2.426249e+06            2.506983e+06   \n",
       "mean           -1.223459e+02      1.465047e+02            3.776506e+01   \n",
       "std             7.080417e-01      1.223171e+02            1.363698e-01   \n",
       "min            -1.225143e+02      3.000000e+00            0.000000e+00   \n",
       "25%            -1.224117e+02      4.700000e+01            3.776931e+01   \n",
       "50%            -1.223981e+02      1.050000e+02            3.778053e+01   \n",
       "75%            -1.222934e+02      2.430000e+02            3.779539e+01   \n",
       "max             0.000000e+00      4.980000e+02            4.551000e+01   \n",
       "\n",
       "       start_station_longitude  \n",
       "count             2.506983e+06  \n",
       "mean             -1.223499e+02  \n",
       "std               3.089648e-01  \n",
       "min              -1.225143e+02  \n",
       "25%              -1.224130e+02  \n",
       "50%              -1.223983e+02  \n",
       "75%              -1.222914e+02  \n",
       "max               0.000000e+00  "
      ]
     },
     "execution_count": 6,
     "metadata": {},
     "output_type": "execute_result"
    }
   ],
   "source": [
    "# Showing the first five rows of the newly combined dataset\n",
    "df.describe()\n"
   ]
  },
  {
   "cell_type": "code",
   "execution_count": 7,
   "metadata": {},
   "outputs": [
    {
     "data": {
      "text/html": [
       "<div>\n",
       "<style scoped>\n",
       "    .dataframe tbody tr th:only-of-type {\n",
       "        vertical-align: middle;\n",
       "    }\n",
       "\n",
       "    .dataframe tbody tr th {\n",
       "        vertical-align: top;\n",
       "    }\n",
       "\n",
       "    .dataframe thead th {\n",
       "        text-align: right;\n",
       "    }\n",
       "</style>\n",
       "<table border=\"1\" class=\"dataframe\">\n",
       "  <thead>\n",
       "    <tr style=\"text-align: right;\">\n",
       "      <th></th>\n",
       "      <th>bike_id</th>\n",
       "      <th>bike_share_for_all_trip</th>\n",
       "      <th>duration_sec</th>\n",
       "      <th>end_station_id</th>\n",
       "      <th>end_station_latitude</th>\n",
       "      <th>end_station_longitude</th>\n",
       "      <th>end_station_name</th>\n",
       "      <th>end_time</th>\n",
       "      <th>rental_access_method</th>\n",
       "      <th>start_station_id</th>\n",
       "      <th>start_station_latitude</th>\n",
       "      <th>start_station_longitude</th>\n",
       "      <th>start_station_name</th>\n",
       "      <th>start_time</th>\n",
       "      <th>user_type</th>\n",
       "    </tr>\n",
       "  </thead>\n",
       "  <tbody>\n",
       "    <tr>\n",
       "      <td>1614329</td>\n",
       "      <td>3510</td>\n",
       "      <td>No</td>\n",
       "      <td>1118</td>\n",
       "      <td>4.0</td>\n",
       "      <td>37.785881</td>\n",
       "      <td>-122.408915</td>\n",
       "      <td>Cyril Magnin St at Ellis St</td>\n",
       "      <td>2019-08-15 18:29:08.9110</td>\n",
       "      <td>NaN</td>\n",
       "      <td>81.0</td>\n",
       "      <td>37.775880</td>\n",
       "      <td>-122.393170</td>\n",
       "      <td>Berry St at 4th St</td>\n",
       "      <td>2019-08-15 18:10:30.4570</td>\n",
       "      <td>Subscriber</td>\n",
       "    </tr>\n",
       "    <tr>\n",
       "      <td>217524</td>\n",
       "      <td>6252</td>\n",
       "      <td>No</td>\n",
       "      <td>671</td>\n",
       "      <td>324.0</td>\n",
       "      <td>37.788300</td>\n",
       "      <td>-122.408531</td>\n",
       "      <td>Union Square (Powell St at Post St)</td>\n",
       "      <td>2019-02-25 17:06:46.9550</td>\n",
       "      <td>NaN</td>\n",
       "      <td>66.0</td>\n",
       "      <td>37.778742</td>\n",
       "      <td>-122.392741</td>\n",
       "      <td>3rd St at Townsend St</td>\n",
       "      <td>2019-02-25 16:55:35.6630</td>\n",
       "      <td>Subscriber</td>\n",
       "    </tr>\n",
       "    <tr>\n",
       "      <td>1310482</td>\n",
       "      <td>3427</td>\n",
       "      <td>No</td>\n",
       "      <td>923</td>\n",
       "      <td>206.0</td>\n",
       "      <td>37.838127</td>\n",
       "      <td>-122.251271</td>\n",
       "      <td>College Ave at Bryant Ave</td>\n",
       "      <td>2019-07-18 22:06:55.2060</td>\n",
       "      <td>NaN</td>\n",
       "      <td>243.0</td>\n",
       "      <td>37.869360</td>\n",
       "      <td>-122.254337</td>\n",
       "      <td>Bancroft Way at College Ave</td>\n",
       "      <td>2019-07-18 21:51:31.4650</td>\n",
       "      <td>Customer</td>\n",
       "    </tr>\n",
       "    <tr>\n",
       "      <td>1456072</td>\n",
       "      <td>217959</td>\n",
       "      <td>NaN</td>\n",
       "      <td>1022</td>\n",
       "      <td>NaN</td>\n",
       "      <td>37.781045</td>\n",
       "      <td>-122.391193</td>\n",
       "      <td>NaN</td>\n",
       "      <td>2019-07-21 12:31:49</td>\n",
       "      <td>app</td>\n",
       "      <td>NaN</td>\n",
       "      <td>37.777041</td>\n",
       "      <td>-122.421811</td>\n",
       "      <td>NaN</td>\n",
       "      <td>2019-07-21 12:14:47</td>\n",
       "      <td>Customer</td>\n",
       "    </tr>\n",
       "    <tr>\n",
       "      <td>1119131</td>\n",
       "      <td>2738</td>\n",
       "      <td>No</td>\n",
       "      <td>656</td>\n",
       "      <td>19.0</td>\n",
       "      <td>37.788975</td>\n",
       "      <td>-122.403452</td>\n",
       "      <td>Post St at Kearny St</td>\n",
       "      <td>2019-06-20 09:04:21.7960</td>\n",
       "      <td>NaN</td>\n",
       "      <td>371.0</td>\n",
       "      <td>37.802746</td>\n",
       "      <td>-122.413579</td>\n",
       "      <td>Lombard St at Columbus Ave</td>\n",
       "      <td>2019-06-20 08:53:25.7150</td>\n",
       "      <td>Subscriber</td>\n",
       "    </tr>\n",
       "    <tr>\n",
       "      <td>241058</td>\n",
       "      <td>2266</td>\n",
       "      <td>No</td>\n",
       "      <td>246</td>\n",
       "      <td>27.0</td>\n",
       "      <td>37.788059</td>\n",
       "      <td>-122.391865</td>\n",
       "      <td>Beale St at Harrison St</td>\n",
       "      <td>2019-02-22 06:05:38.6480</td>\n",
       "      <td>NaN</td>\n",
       "      <td>17.0</td>\n",
       "      <td>37.792251</td>\n",
       "      <td>-122.397086</td>\n",
       "      <td>Embarcadero BART Station (Beale St at Market St)</td>\n",
       "      <td>2019-02-22 06:01:31.9440</td>\n",
       "      <td>Subscriber</td>\n",
       "    </tr>\n",
       "    <tr>\n",
       "      <td>2355938</td>\n",
       "      <td>759094</td>\n",
       "      <td>NaN</td>\n",
       "      <td>281</td>\n",
       "      <td>277.0</td>\n",
       "      <td>37.333677</td>\n",
       "      <td>-121.908618</td>\n",
       "      <td>W Julian St at N Morrison St</td>\n",
       "      <td>2019-11-28 18:56:20</td>\n",
       "      <td>app</td>\n",
       "      <td>277.0</td>\n",
       "      <td>37.333677</td>\n",
       "      <td>-121.908618</td>\n",
       "      <td>W Julian St at N Morrison St</td>\n",
       "      <td>2019-11-28 18:51:39</td>\n",
       "      <td>Subscriber</td>\n",
       "    </tr>\n",
       "    <tr>\n",
       "      <td>1155972</td>\n",
       "      <td>896</td>\n",
       "      <td>No</td>\n",
       "      <td>610</td>\n",
       "      <td>30.0</td>\n",
       "      <td>37.776598</td>\n",
       "      <td>-122.395282</td>\n",
       "      <td>San Francisco Caltrain (Townsend St at 4th St)</td>\n",
       "      <td>2019-06-14 07:41:33.4230</td>\n",
       "      <td>NaN</td>\n",
       "      <td>75.0</td>\n",
       "      <td>37.773793</td>\n",
       "      <td>-122.421239</td>\n",
       "      <td>Market St at Franklin St</td>\n",
       "      <td>2019-06-14 07:31:23.3570</td>\n",
       "      <td>Subscriber</td>\n",
       "    </tr>\n",
       "    <tr>\n",
       "      <td>2232390</td>\n",
       "      <td>9632</td>\n",
       "      <td>No</td>\n",
       "      <td>678</td>\n",
       "      <td>14.0</td>\n",
       "      <td>37.795001</td>\n",
       "      <td>-122.399970</td>\n",
       "      <td>Clay St at Battery St</td>\n",
       "      <td>2019-11-18 17:55:30.1760</td>\n",
       "      <td>NaN</td>\n",
       "      <td>44.0</td>\n",
       "      <td>37.781074</td>\n",
       "      <td>-122.411738</td>\n",
       "      <td>Civic Center/UN Plaza BART Station (Market St ...</td>\n",
       "      <td>2019-11-18 17:44:12.0030</td>\n",
       "      <td>Subscriber</td>\n",
       "    </tr>\n",
       "    <tr>\n",
       "      <td>135503</td>\n",
       "      <td>4487</td>\n",
       "      <td>No</td>\n",
       "      <td>213</td>\n",
       "      <td>242.0</td>\n",
       "      <td>37.860125</td>\n",
       "      <td>-122.269384</td>\n",
       "      <td>Milvia St at Derby St</td>\n",
       "      <td>2019-01-11 16:24:29.8690</td>\n",
       "      <td>NaN</td>\n",
       "      <td>246.0</td>\n",
       "      <td>37.869060</td>\n",
       "      <td>-122.270556</td>\n",
       "      <td>Berkeley Civic Center</td>\n",
       "      <td>2019-01-11 16:20:56.3420</td>\n",
       "      <td>Subscriber</td>\n",
       "    </tr>\n",
       "  </tbody>\n",
       "</table>\n",
       "</div>"
      ],
      "text/plain": [
       "         bike_id bike_share_for_all_trip  duration_sec  end_station_id  \\\n",
       "1614329     3510                      No          1118             4.0   \n",
       "217524      6252                      No           671           324.0   \n",
       "1310482     3427                      No           923           206.0   \n",
       "1456072   217959                     NaN          1022             NaN   \n",
       "1119131     2738                      No           656            19.0   \n",
       "241058      2266                      No           246            27.0   \n",
       "2355938   759094                     NaN           281           277.0   \n",
       "1155972      896                      No           610            30.0   \n",
       "2232390     9632                      No           678            14.0   \n",
       "135503      4487                      No           213           242.0   \n",
       "\n",
       "         end_station_latitude  end_station_longitude  \\\n",
       "1614329             37.785881            -122.408915   \n",
       "217524              37.788300            -122.408531   \n",
       "1310482             37.838127            -122.251271   \n",
       "1456072             37.781045            -122.391193   \n",
       "1119131             37.788975            -122.403452   \n",
       "241058              37.788059            -122.391865   \n",
       "2355938             37.333677            -121.908618   \n",
       "1155972             37.776598            -122.395282   \n",
       "2232390             37.795001            -122.399970   \n",
       "135503              37.860125            -122.269384   \n",
       "\n",
       "                                       end_station_name  \\\n",
       "1614329                     Cyril Magnin St at Ellis St   \n",
       "217524              Union Square (Powell St at Post St)   \n",
       "1310482                       College Ave at Bryant Ave   \n",
       "1456072                                             NaN   \n",
       "1119131                            Post St at Kearny St   \n",
       "241058                          Beale St at Harrison St   \n",
       "2355938                    W Julian St at N Morrison St   \n",
       "1155972  San Francisco Caltrain (Townsend St at 4th St)   \n",
       "2232390                           Clay St at Battery St   \n",
       "135503                            Milvia St at Derby St   \n",
       "\n",
       "                         end_time rental_access_method  start_station_id  \\\n",
       "1614329  2019-08-15 18:29:08.9110                  NaN              81.0   \n",
       "217524   2019-02-25 17:06:46.9550                  NaN              66.0   \n",
       "1310482  2019-07-18 22:06:55.2060                  NaN             243.0   \n",
       "1456072       2019-07-21 12:31:49                  app               NaN   \n",
       "1119131  2019-06-20 09:04:21.7960                  NaN             371.0   \n",
       "241058   2019-02-22 06:05:38.6480                  NaN              17.0   \n",
       "2355938       2019-11-28 18:56:20                  app             277.0   \n",
       "1155972  2019-06-14 07:41:33.4230                  NaN              75.0   \n",
       "2232390  2019-11-18 17:55:30.1760                  NaN              44.0   \n",
       "135503   2019-01-11 16:24:29.8690                  NaN             246.0   \n",
       "\n",
       "         start_station_latitude  start_station_longitude  \\\n",
       "1614329               37.775880              -122.393170   \n",
       "217524                37.778742              -122.392741   \n",
       "1310482               37.869360              -122.254337   \n",
       "1456072               37.777041              -122.421811   \n",
       "1119131               37.802746              -122.413579   \n",
       "241058                37.792251              -122.397086   \n",
       "2355938               37.333677              -121.908618   \n",
       "1155972               37.773793              -122.421239   \n",
       "2232390               37.781074              -122.411738   \n",
       "135503                37.869060              -122.270556   \n",
       "\n",
       "                                        start_station_name  \\\n",
       "1614329                                 Berry St at 4th St   \n",
       "217524                               3rd St at Townsend St   \n",
       "1310482                        Bancroft Way at College Ave   \n",
       "1456072                                                NaN   \n",
       "1119131                         Lombard St at Columbus Ave   \n",
       "241058    Embarcadero BART Station (Beale St at Market St)   \n",
       "2355938                       W Julian St at N Morrison St   \n",
       "1155972                           Market St at Franklin St   \n",
       "2232390  Civic Center/UN Plaza BART Station (Market St ...   \n",
       "135503                               Berkeley Civic Center   \n",
       "\n",
       "                       start_time   user_type  \n",
       "1614329  2019-08-15 18:10:30.4570  Subscriber  \n",
       "217524   2019-02-25 16:55:35.6630  Subscriber  \n",
       "1310482  2019-07-18 21:51:31.4650    Customer  \n",
       "1456072       2019-07-21 12:14:47    Customer  \n",
       "1119131  2019-06-20 08:53:25.7150  Subscriber  \n",
       "241058   2019-02-22 06:01:31.9440  Subscriber  \n",
       "2355938       2019-11-28 18:51:39  Subscriber  \n",
       "1155972  2019-06-14 07:31:23.3570  Subscriber  \n",
       "2232390  2019-11-18 17:44:12.0030  Subscriber  \n",
       "135503   2019-01-11 16:20:56.3420  Subscriber  "
      ]
     },
     "execution_count": 7,
     "metadata": {},
     "output_type": "execute_result"
    }
   ],
   "source": [
    "#Retrieve the first 10 samples of the data\n",
    "df.sample(10)\n"
   ]
  },
  {
   "cell_type": "code",
   "execution_count": 8,
   "metadata": {},
   "outputs": [
    {
     "name": "stdout",
     "output_type": "stream",
     "text": [
      "<class 'pandas.core.frame.DataFrame'>\n",
      "RangeIndex: 2506983 entries, 0 to 2506982\n",
      "Data columns (total 15 columns):\n",
      "bike_id                    2506983 non-null int64\n",
      "bike_share_for_all_trip    2263724 non-null object\n",
      "duration_sec               2506983 non-null int64\n",
      "end_station_id             2424081 non-null float64\n",
      "end_station_latitude       2506983 non-null float64\n",
      "end_station_longitude      2506983 non-null float64\n",
      "end_station_name           2424633 non-null object\n",
      "end_time                   2506983 non-null object\n",
      "rental_access_method       120838 non-null object\n",
      "start_station_id           2426249 non-null float64\n",
      "start_station_latitude     2506983 non-null float64\n",
      "start_station_longitude    2506983 non-null float64\n",
      "start_station_name         2426850 non-null object\n",
      "start_time                 2506983 non-null object\n",
      "user_type                  2506983 non-null object\n",
      "dtypes: float64(6), int64(2), object(7)\n",
      "memory usage: 286.9+ MB\n"
     ]
    }
   ],
   "source": [
    "df.info(null_counts = True)"
   ]
  },
  {
   "cell_type": "code",
   "execution_count": 9,
   "metadata": {},
   "outputs": [
    {
     "data": {
      "text/plain": [
       "bike_id                          0\n",
       "bike_share_for_all_trip     243259\n",
       "duration_sec                     0\n",
       "end_station_id               82902\n",
       "end_station_latitude             0\n",
       "end_station_longitude            0\n",
       "end_station_name             82350\n",
       "end_time                         0\n",
       "rental_access_method       2386145\n",
       "start_station_id             80734\n",
       "start_station_latitude           0\n",
       "start_station_longitude          0\n",
       "start_station_name           80133\n",
       "start_time                       0\n",
       "user_type                        0\n",
       "dtype: int64"
      ]
     },
     "execution_count": 9,
     "metadata": {},
     "output_type": "execute_result"
    }
   ],
   "source": [
    "df.isnull().sum()\n"
   ]
  },
  {
   "cell_type": "code",
   "execution_count": 11,
   "metadata": {},
   "outputs": [
    {
     "data": {
      "text/plain": [
       "0"
      ]
     },
     "execution_count": 11,
     "metadata": {},
     "output_type": "execute_result"
    }
   ],
   "source": [
    "# Check dataset for duplicated data\n",
    "df.duplicated().sum()\n"
   ]
  },
  {
   "cell_type": "markdown",
   "metadata": {},
   "source": [
    "### Store Data"
   ]
  },
  {
   "cell_type": "code",
   "execution_count": 12,
   "metadata": {},
   "outputs": [],
   "source": [
    "# Save the original data set and create a copy \n",
    "df_cleaned = df.copy()"
   ]
  },
  {
   "cell_type": "markdown",
   "metadata": {},
   "source": [
    "### Step 3. Cleaning Data \n",
    "There are some missing values in the dataset, such as start_station_id, start_station_name, end_station_id, end_station_name, rental_access_method. For more information please see below:\n",
    "\n",
    "* start_station_id\n",
    "* end_station_id\n",
    "* bike_id\n",
    "* user_type\n",
    "* rental_access_method\n",
    "\n"
   ]
  },
  {
   "cell_type": "markdown",
   "metadata": {},
   "source": [
    "### Define\n",
    "\n",
    ">Calculate the total distance traveled using the latitude and longitude in the data set"
   ]
  },
  {
   "cell_type": "markdown",
   "metadata": {},
   "source": [
    "### Code"
   ]
  },
  {
   "cell_type": "code",
   "execution_count": 13,
   "metadata": {},
   "outputs": [],
   "source": [
    "import math\n",
    "from math import radians, sin, cos, acos\n",
    "\n",
    "def distance(origin, destination):\n",
    "    lat1, long1 = origin\n",
    "    lat2, long2 = destination\n",
    "    radius = 6371 # this is in kms\n",
    "    dlat = math.radians(lat2 - lat1)\n",
    "    dlong = math.radians(long2 - long1)\n",
    "    x = (math.sin(dlat / 2) * math.sin(dlat / 2) + math.cos(math.radians(lat1)) \n",
    "         * math.cos(math.radians(lat2)) * math.sin(dlong / 2) * math.sin(dlong / 2))\n",
    "    y = 2 * math.atan2(math.sqrt(x), math.sqrt(1 - x))\n",
    "    z = radius * y\n",
    "    return z"
   ]
  },
  {
   "cell_type": "code",
   "execution_count": 14,
   "metadata": {},
   "outputs": [],
   "source": [
    "# Using the calcuated math on the columns for latidue and longitude\n",
    "df_cleaned['distance_km'] = df_cleaned.apply(lambda x: distance((x['start_station_latitude'], x['start_station_longitude']), (x['end_station_latitude'], x['end_station_longitude'])), axis=1)"
   ]
  },
  {
   "cell_type": "code",
   "execution_count": 15,
   "metadata": {},
   "outputs": [],
   "source": [
    "# Converting the kilometers to miles\n",
    "df_cleaned['distance_miles'] = df_cleaned['distance_km'] * 0.621371"
   ]
  },
  {
   "cell_type": "markdown",
   "metadata": {},
   "source": [
    "### Test"
   ]
  },
  {
   "cell_type": "code",
   "execution_count": 16,
   "metadata": {},
   "outputs": [
    {
     "data": {
      "text/html": [
       "<div>\n",
       "<style scoped>\n",
       "    .dataframe tbody tr th:only-of-type {\n",
       "        vertical-align: middle;\n",
       "    }\n",
       "\n",
       "    .dataframe tbody tr th {\n",
       "        vertical-align: top;\n",
       "    }\n",
       "\n",
       "    .dataframe thead th {\n",
       "        text-align: right;\n",
       "    }\n",
       "</style>\n",
       "<table border=\"1\" class=\"dataframe\">\n",
       "  <thead>\n",
       "    <tr style=\"text-align: right;\">\n",
       "      <th></th>\n",
       "      <th>bike_id</th>\n",
       "      <th>bike_share_for_all_trip</th>\n",
       "      <th>duration_sec</th>\n",
       "      <th>end_station_id</th>\n",
       "      <th>end_station_latitude</th>\n",
       "      <th>end_station_longitude</th>\n",
       "      <th>end_station_name</th>\n",
       "      <th>end_time</th>\n",
       "      <th>rental_access_method</th>\n",
       "      <th>start_station_id</th>\n",
       "      <th>start_station_latitude</th>\n",
       "      <th>start_station_longitude</th>\n",
       "      <th>start_station_name</th>\n",
       "      <th>start_time</th>\n",
       "      <th>user_type</th>\n",
       "      <th>distance_km</th>\n",
       "      <th>distance_miles</th>\n",
       "    </tr>\n",
       "  </thead>\n",
       "  <tbody>\n",
       "    <tr>\n",
       "      <td>1927173</td>\n",
       "      <td>9507</td>\n",
       "      <td>No</td>\n",
       "      <td>1158</td>\n",
       "      <td>104.0</td>\n",
       "      <td>37.767045</td>\n",
       "      <td>-122.390833</td>\n",
       "      <td>4th St at 16th St</td>\n",
       "      <td>2019-09-02 11:47:05.2130</td>\n",
       "      <td>NaN</td>\n",
       "      <td>356.0</td>\n",
       "      <td>37.769188</td>\n",
       "      <td>-122.422285</td>\n",
       "      <td>Valencia St at Clinton Park</td>\n",
       "      <td>2019-09-02 11:27:46.8050</td>\n",
       "      <td>Subscriber</td>\n",
       "      <td>2.774823</td>\n",
       "      <td>1.724195</td>\n",
       "    </tr>\n",
       "    <tr>\n",
       "      <td>1935879</td>\n",
       "      <td>336</td>\n",
       "      <td>No</td>\n",
       "      <td>204</td>\n",
       "      <td>10.0</td>\n",
       "      <td>37.795393</td>\n",
       "      <td>-122.404770</td>\n",
       "      <td>Washington St at Kearny St</td>\n",
       "      <td>2019-10-31 12:48:01.2040</td>\n",
       "      <td>NaN</td>\n",
       "      <td>19.0</td>\n",
       "      <td>37.788975</td>\n",
       "      <td>-122.403452</td>\n",
       "      <td>Post St at Kearny St</td>\n",
       "      <td>2019-10-31 12:44:37.1680</td>\n",
       "      <td>Subscriber</td>\n",
       "      <td>0.722982</td>\n",
       "      <td>0.449240</td>\n",
       "    </tr>\n",
       "    <tr>\n",
       "      <td>938474</td>\n",
       "      <td>3084</td>\n",
       "      <td>No</td>\n",
       "      <td>248</td>\n",
       "      <td>321.0</td>\n",
       "      <td>37.780146</td>\n",
       "      <td>-122.403071</td>\n",
       "      <td>5th St at Folsom</td>\n",
       "      <td>2019-05-20 18:11:00.5080</td>\n",
       "      <td>NaN</td>\n",
       "      <td>67.0</td>\n",
       "      <td>37.776639</td>\n",
       "      <td>-122.395526</td>\n",
       "      <td>San Francisco Caltrain Station 2  (Townsend St...</td>\n",
       "      <td>2019-05-20 18:06:52.1350</td>\n",
       "      <td>Subscriber</td>\n",
       "      <td>0.769210</td>\n",
       "      <td>0.477965</td>\n",
       "    </tr>\n",
       "    <tr>\n",
       "      <td>1006944</td>\n",
       "      <td>3480</td>\n",
       "      <td>Yes</td>\n",
       "      <td>423</td>\n",
       "      <td>241.0</td>\n",
       "      <td>37.852477</td>\n",
       "      <td>-122.270213</td>\n",
       "      <td>Ashby BART Station</td>\n",
       "      <td>2019-05-08 09:18:19.8620</td>\n",
       "      <td>NaN</td>\n",
       "      <td>269.0</td>\n",
       "      <td>37.862320</td>\n",
       "      <td>-122.258801</td>\n",
       "      <td>Telegraph Ave at Carleton St</td>\n",
       "      <td>2019-05-08 09:11:16.6790</td>\n",
       "      <td>Subscriber</td>\n",
       "      <td>1.483849</td>\n",
       "      <td>0.922021</td>\n",
       "    </tr>\n",
       "    <tr>\n",
       "      <td>1202021</td>\n",
       "      <td>1164</td>\n",
       "      <td>No</td>\n",
       "      <td>772</td>\n",
       "      <td>245.0</td>\n",
       "      <td>37.870139</td>\n",
       "      <td>-122.268422</td>\n",
       "      <td>Downtown Berkeley BART</td>\n",
       "      <td>2019-06-07 07:39:19.5090</td>\n",
       "      <td>NaN</td>\n",
       "      <td>271.0</td>\n",
       "      <td>37.855783</td>\n",
       "      <td>-122.283127</td>\n",
       "      <td>San Pablo Park</td>\n",
       "      <td>2019-06-07 07:26:27.4410</td>\n",
       "      <td>Customer</td>\n",
       "      <td>2.052914</td>\n",
       "      <td>1.275621</td>\n",
       "    </tr>\n",
       "  </tbody>\n",
       "</table>\n",
       "</div>"
      ],
      "text/plain": [
       "         bike_id bike_share_for_all_trip  duration_sec  end_station_id  \\\n",
       "1927173     9507                      No          1158           104.0   \n",
       "1935879      336                      No           204            10.0   \n",
       "938474      3084                      No           248           321.0   \n",
       "1006944     3480                     Yes           423           241.0   \n",
       "1202021     1164                      No           772           245.0   \n",
       "\n",
       "         end_station_latitude  end_station_longitude  \\\n",
       "1927173             37.767045            -122.390833   \n",
       "1935879             37.795393            -122.404770   \n",
       "938474              37.780146            -122.403071   \n",
       "1006944             37.852477            -122.270213   \n",
       "1202021             37.870139            -122.268422   \n",
       "\n",
       "                   end_station_name                  end_time  \\\n",
       "1927173           4th St at 16th St  2019-09-02 11:47:05.2130   \n",
       "1935879  Washington St at Kearny St  2019-10-31 12:48:01.2040   \n",
       "938474             5th St at Folsom  2019-05-20 18:11:00.5080   \n",
       "1006944          Ashby BART Station  2019-05-08 09:18:19.8620   \n",
       "1202021      Downtown Berkeley BART  2019-06-07 07:39:19.5090   \n",
       "\n",
       "        rental_access_method  start_station_id  start_station_latitude  \\\n",
       "1927173                  NaN             356.0               37.769188   \n",
       "1935879                  NaN              19.0               37.788975   \n",
       "938474                   NaN              67.0               37.776639   \n",
       "1006944                  NaN             269.0               37.862320   \n",
       "1202021                  NaN             271.0               37.855783   \n",
       "\n",
       "         start_station_longitude  \\\n",
       "1927173              -122.422285   \n",
       "1935879              -122.403452   \n",
       "938474               -122.395526   \n",
       "1006944              -122.258801   \n",
       "1202021              -122.283127   \n",
       "\n",
       "                                        start_station_name  \\\n",
       "1927173                        Valencia St at Clinton Park   \n",
       "1935879                               Post St at Kearny St   \n",
       "938474   San Francisco Caltrain Station 2  (Townsend St...   \n",
       "1006944                       Telegraph Ave at Carleton St   \n",
       "1202021                                     San Pablo Park   \n",
       "\n",
       "                       start_time   user_type  distance_km  distance_miles  \n",
       "1927173  2019-09-02 11:27:46.8050  Subscriber     2.774823        1.724195  \n",
       "1935879  2019-10-31 12:44:37.1680  Subscriber     0.722982        0.449240  \n",
       "938474   2019-05-20 18:06:52.1350  Subscriber     0.769210        0.477965  \n",
       "1006944  2019-05-08 09:11:16.6790  Subscriber     1.483849        0.922021  \n",
       "1202021  2019-06-07 07:26:27.4410    Customer     2.052914        1.275621  "
      ]
     },
     "execution_count": 16,
     "metadata": {},
     "output_type": "execute_result"
    }
   ],
   "source": [
    "df_cleaned.sample(5)"
   ]
  },
  {
   "cell_type": "markdown",
   "metadata": {},
   "source": [
    "### Define \n",
    "\n",
    "> Converting the Start_time and end_time to the timestamp format"
   ]
  },
  {
   "cell_type": "markdown",
   "metadata": {},
   "source": [
    "### Code"
   ]
  },
  {
   "cell_type": "code",
   "execution_count": 17,
   "metadata": {},
   "outputs": [],
   "source": [
    "# Converting the format to datetime\n",
    "df_cleaned.start_time = pd.to_datetime(df_cleaned.start_time)\n",
    "df_cleaned.end_time = pd.to_datetime(df_cleaned.end_time)"
   ]
  },
  {
   "cell_type": "markdown",
   "metadata": {},
   "source": [
    "### Test "
   ]
  },
  {
   "cell_type": "code",
   "execution_count": 18,
   "metadata": {},
   "outputs": [
    {
     "name": "stdout",
     "output_type": "stream",
     "text": [
      "<class 'pandas.core.frame.DataFrame'>\n",
      "RangeIndex: 2506983 entries, 0 to 2506982\n",
      "Data columns (total 17 columns):\n",
      "bike_id                    2506983 non-null int64\n",
      "bike_share_for_all_trip    2263724 non-null object\n",
      "duration_sec               2506983 non-null int64\n",
      "end_station_id             2424081 non-null float64\n",
      "end_station_latitude       2506983 non-null float64\n",
      "end_station_longitude      2506983 non-null float64\n",
      "end_station_name           2424633 non-null object\n",
      "end_time                   2506983 non-null datetime64[ns]\n",
      "rental_access_method       120838 non-null object\n",
      "start_station_id           2426249 non-null float64\n",
      "start_station_latitude     2506983 non-null float64\n",
      "start_station_longitude    2506983 non-null float64\n",
      "start_station_name         2426850 non-null object\n",
      "start_time                 2506983 non-null datetime64[ns]\n",
      "user_type                  2506983 non-null object\n",
      "distance_km                2506983 non-null float64\n",
      "distance_miles             2506983 non-null float64\n",
      "dtypes: datetime64[ns](2), float64(8), int64(2), object(5)\n",
      "memory usage: 325.2+ MB\n"
     ]
    }
   ],
   "source": [
    "df_cleaned.info(null_counts = True)\n"
   ]
  },
  {
   "cell_type": "markdown",
   "metadata": {},
   "source": [
    "## Define \n",
    "\n",
    ">Converting the User type and rental_access_method for all to category format\n"
   ]
  },
  {
   "cell_type": "markdown",
   "metadata": {},
   "source": [
    "## Code"
   ]
  },
  {
   "cell_type": "code",
   "execution_count": 19,
   "metadata": {},
   "outputs": [],
   "source": [
    "# Converting the user_type and rental_access_method to category format\n",
    "df_cleaned.user_type = df_cleaned.user_type.astype('category')\n",
    "df_cleaned.rental_access_method = df_cleaned.rental_access_method.astype('category')"
   ]
  },
  {
   "cell_type": "markdown",
   "metadata": {},
   "source": [
    "## Test"
   ]
  },
  {
   "cell_type": "code",
   "execution_count": 20,
   "metadata": {},
   "outputs": [
    {
     "name": "stdout",
     "output_type": "stream",
     "text": [
      "<class 'pandas.core.frame.DataFrame'>\n",
      "RangeIndex: 2506983 entries, 0 to 2506982\n",
      "Data columns (total 17 columns):\n",
      "bike_id                    2506983 non-null int64\n",
      "bike_share_for_all_trip    2263724 non-null object\n",
      "duration_sec               2506983 non-null int64\n",
      "end_station_id             2424081 non-null float64\n",
      "end_station_latitude       2506983 non-null float64\n",
      "end_station_longitude      2506983 non-null float64\n",
      "end_station_name           2424633 non-null object\n",
      "end_time                   2506983 non-null datetime64[ns]\n",
      "rental_access_method       120838 non-null category\n",
      "start_station_id           2426249 non-null float64\n",
      "start_station_latitude     2506983 non-null float64\n",
      "start_station_longitude    2506983 non-null float64\n",
      "start_station_name         2426850 non-null object\n",
      "start_time                 2506983 non-null datetime64[ns]\n",
      "user_type                  2506983 non-null category\n",
      "distance_km                2506983 non-null float64\n",
      "distance_miles             2506983 non-null float64\n",
      "dtypes: category(2), datetime64[ns](2), float64(8), int64(2), object(3)\n",
      "memory usage: 291.7+ MB\n"
     ]
    }
   ],
   "source": [
    "df_cleaned.info(null_counts = True)\n"
   ]
  },
  {
   "cell_type": "markdown",
   "metadata": {},
   "source": [
    "## Define\n",
    "\n",
    "> Convertng the bike_id, start_station_id, and end_station_id to object\n"
   ]
  },
  {
   "cell_type": "markdown",
   "metadata": {},
   "source": [
    "## Code"
   ]
  },
  {
   "cell_type": "code",
   "execution_count": 21,
   "metadata": {},
   "outputs": [],
   "source": [
    "# Convertng the bike_id, start_station_id, and end_station_id to object\n",
    "df_cleaned.bike_id = df_cleaned.bike_id.astype(str)\n",
    "df_cleaned.start_station_id = df_cleaned.start_station_id.astype(str)\n",
    "df_cleaned.end_station_id = df_cleaned.end_station_id.astype(str)"
   ]
  },
  {
   "cell_type": "markdown",
   "metadata": {},
   "source": [
    "## Test"
   ]
  },
  {
   "cell_type": "code",
   "execution_count": 22,
   "metadata": {},
   "outputs": [
    {
     "name": "stdout",
     "output_type": "stream",
     "text": [
      "<class 'pandas.core.frame.DataFrame'>\n",
      "RangeIndex: 2506983 entries, 0 to 2506982\n",
      "Data columns (total 17 columns):\n",
      "bike_id                    2506983 non-null object\n",
      "bike_share_for_all_trip    2263724 non-null object\n",
      "duration_sec               2506983 non-null int64\n",
      "end_station_id             2506983 non-null object\n",
      "end_station_latitude       2506983 non-null float64\n",
      "end_station_longitude      2506983 non-null float64\n",
      "end_station_name           2424633 non-null object\n",
      "end_time                   2506983 non-null datetime64[ns]\n",
      "rental_access_method       120838 non-null category\n",
      "start_station_id           2506983 non-null object\n",
      "start_station_latitude     2506983 non-null float64\n",
      "start_station_longitude    2506983 non-null float64\n",
      "start_station_name         2426850 non-null object\n",
      "start_time                 2506983 non-null datetime64[ns]\n",
      "user_type                  2506983 non-null category\n",
      "distance_km                2506983 non-null float64\n",
      "distance_miles             2506983 non-null float64\n",
      "dtypes: category(2), datetime64[ns](2), float64(6), int64(1), object(6)\n",
      "memory usage: 291.7+ MB\n"
     ]
    }
   ],
   "source": [
    "df_cleaned.info(null_counts = True)\n"
   ]
  },
  {
   "cell_type": "markdown",
   "metadata": {},
   "source": [
    "###  Define\n",
    "\n",
    ">Adding columns for the start month, days of the week to create data visualisations. "
   ]
  },
  {
   "cell_type": "markdown",
   "metadata": {},
   "source": [
    "### Code"
   ]
  },
  {
   "cell_type": "code",
   "execution_count": 23,
   "metadata": {},
   "outputs": [],
   "source": [
    "# Start time month from January through to December 2019\n",
    "df_cleaned['start_time_month'] = df_cleaned['start_time'].dt.strftime('%B')\n",
    "df_cleaned['start_time_month_number'] = df_cleaned['start_time'].dt.month.astype(int)\n",
    "df_cleaned['start_time_weekday'] = df_cleaned['start_time'].dt.strftime('%a')\n"
   ]
  },
  {
   "cell_type": "markdown",
   "metadata": {},
   "source": [
    "### Test"
   ]
  },
  {
   "cell_type": "code",
   "execution_count": 24,
   "metadata": {},
   "outputs": [
    {
     "data": {
      "text/html": [
       "<div>\n",
       "<style scoped>\n",
       "    .dataframe tbody tr th:only-of-type {\n",
       "        vertical-align: middle;\n",
       "    }\n",
       "\n",
       "    .dataframe tbody tr th {\n",
       "        vertical-align: top;\n",
       "    }\n",
       "\n",
       "    .dataframe thead th {\n",
       "        text-align: right;\n",
       "    }\n",
       "</style>\n",
       "<table border=\"1\" class=\"dataframe\">\n",
       "  <thead>\n",
       "    <tr style=\"text-align: right;\">\n",
       "      <th></th>\n",
       "      <th>bike_id</th>\n",
       "      <th>bike_share_for_all_trip</th>\n",
       "      <th>duration_sec</th>\n",
       "      <th>end_station_id</th>\n",
       "      <th>end_station_latitude</th>\n",
       "      <th>end_station_longitude</th>\n",
       "      <th>end_station_name</th>\n",
       "      <th>end_time</th>\n",
       "      <th>rental_access_method</th>\n",
       "      <th>start_station_id</th>\n",
       "      <th>start_station_latitude</th>\n",
       "      <th>start_station_longitude</th>\n",
       "      <th>start_station_name</th>\n",
       "      <th>start_time</th>\n",
       "      <th>user_type</th>\n",
       "      <th>distance_km</th>\n",
       "      <th>distance_miles</th>\n",
       "      <th>start_time_month</th>\n",
       "      <th>start_time_month_number</th>\n",
       "      <th>start_time_weekday</th>\n",
       "    </tr>\n",
       "  </thead>\n",
       "  <tbody>\n",
       "    <tr>\n",
       "      <td>1941082</td>\n",
       "      <td>10267</td>\n",
       "      <td>No</td>\n",
       "      <td>1049</td>\n",
       "      <td>285.0</td>\n",
       "      <td>37.783521</td>\n",
       "      <td>-122.431158</td>\n",
       "      <td>Webster St at O'Farrell St</td>\n",
       "      <td>2019-10-30 18:54:52.712</td>\n",
       "      <td>NaN</td>\n",
       "      <td>21.0</td>\n",
       "      <td>37.789625</td>\n",
       "      <td>-122.400811</td>\n",
       "      <td>Montgomery St BART Station (Market St at 2nd St)</td>\n",
       "      <td>2019-10-30 18:37:22.859</td>\n",
       "      <td>Subscriber</td>\n",
       "      <td>2.751828</td>\n",
       "      <td>1.709906</td>\n",
       "      <td>October</td>\n",
       "      <td>10</td>\n",
       "      <td>Wed</td>\n",
       "    </tr>\n",
       "    <tr>\n",
       "      <td>1832802</td>\n",
       "      <td>2400</td>\n",
       "      <td>No</td>\n",
       "      <td>910</td>\n",
       "      <td>178.0</td>\n",
       "      <td>37.819381</td>\n",
       "      <td>-122.261928</td>\n",
       "      <td>Broadway at 30th St</td>\n",
       "      <td>2019-09-15 08:13:46.463</td>\n",
       "      <td>NaN</td>\n",
       "      <td>202.0</td>\n",
       "      <td>37.800754</td>\n",
       "      <td>-122.274894</td>\n",
       "      <td>Washington St at 8th St</td>\n",
       "      <td>2019-09-15 07:58:35.572</td>\n",
       "      <td>Customer</td>\n",
       "      <td>2.363770</td>\n",
       "      <td>1.468778</td>\n",
       "      <td>September</td>\n",
       "      <td>9</td>\n",
       "      <td>Sun</td>\n",
       "    </tr>\n",
       "    <tr>\n",
       "      <td>2235877</td>\n",
       "      <td>11983</td>\n",
       "      <td>No</td>\n",
       "      <td>562</td>\n",
       "      <td>3.0</td>\n",
       "      <td>37.786375</td>\n",
       "      <td>-122.404904</td>\n",
       "      <td>Powell St BART Station (Market St at 4th St)</td>\n",
       "      <td>2019-11-18 09:42:41.520</td>\n",
       "      <td>NaN</td>\n",
       "      <td>42.0</td>\n",
       "      <td>37.778650</td>\n",
       "      <td>-122.418230</td>\n",
       "      <td>San Francisco City Hall (Polk St at Grove St)</td>\n",
       "      <td>2019-11-18 09:33:18.829</td>\n",
       "      <td>Subscriber</td>\n",
       "      <td>1.452355</td>\n",
       "      <td>0.902452</td>\n",
       "      <td>November</td>\n",
       "      <td>11</td>\n",
       "      <td>Mon</td>\n",
       "    </tr>\n",
       "  </tbody>\n",
       "</table>\n",
       "</div>"
      ],
      "text/plain": [
       "        bike_id bike_share_for_all_trip  duration_sec end_station_id  \\\n",
       "1941082   10267                      No          1049          285.0   \n",
       "1832802    2400                      No           910          178.0   \n",
       "2235877   11983                      No           562            3.0   \n",
       "\n",
       "         end_station_latitude  end_station_longitude  \\\n",
       "1941082             37.783521            -122.431158   \n",
       "1832802             37.819381            -122.261928   \n",
       "2235877             37.786375            -122.404904   \n",
       "\n",
       "                                     end_station_name                end_time  \\\n",
       "1941082                    Webster St at O'Farrell St 2019-10-30 18:54:52.712   \n",
       "1832802                           Broadway at 30th St 2019-09-15 08:13:46.463   \n",
       "2235877  Powell St BART Station (Market St at 4th St) 2019-11-18 09:42:41.520   \n",
       "\n",
       "        rental_access_method start_station_id  start_station_latitude  \\\n",
       "1941082                  NaN             21.0               37.789625   \n",
       "1832802                  NaN            202.0               37.800754   \n",
       "2235877                  NaN             42.0               37.778650   \n",
       "\n",
       "         start_station_longitude  \\\n",
       "1941082              -122.400811   \n",
       "1832802              -122.274894   \n",
       "2235877              -122.418230   \n",
       "\n",
       "                                       start_station_name  \\\n",
       "1941082  Montgomery St BART Station (Market St at 2nd St)   \n",
       "1832802                           Washington St at 8th St   \n",
       "2235877     San Francisco City Hall (Polk St at Grove St)   \n",
       "\n",
       "                     start_time   user_type  distance_km  distance_miles  \\\n",
       "1941082 2019-10-30 18:37:22.859  Subscriber     2.751828        1.709906   \n",
       "1832802 2019-09-15 07:58:35.572    Customer     2.363770        1.468778   \n",
       "2235877 2019-11-18 09:33:18.829  Subscriber     1.452355        0.902452   \n",
       "\n",
       "        start_time_month  start_time_month_number start_time_weekday  \n",
       "1941082          October                       10                Wed  \n",
       "1832802        September                        9                Sun  \n",
       "2235877         November                       11                Mon  "
      ]
     },
     "execution_count": 24,
     "metadata": {},
     "output_type": "execute_result"
    }
   ],
   "source": [
    "df_cleaned.sample(3)\n"
   ]
  },
  {
   "cell_type": "markdown",
   "metadata": {},
   "source": [
    "###  Define\n",
    "\n",
    ">Adding columns for the  of the week to create data visualisations. "
   ]
  },
  {
   "cell_type": "markdown",
   "metadata": {},
   "source": [
    "### Code"
   ]
  },
  {
   "cell_type": "code",
   "execution_count": 25,
   "metadata": {},
   "outputs": [],
   "source": [
    "# Start and end time hour and # Duration in seconds to duration in minutes\n",
    "df_cleaned['start_time_hour'] = df_cleaned['start_time'].dt.hour\n",
    "df_cleaned['end_time_hour'] = df_cleaned['end_time'].dt.hour\n",
    "df_cleaned['duration_min'] = df_cleaned['duration_sec']/60\n",
    "df_cleaned['duration_min'] = df_cleaned['duration_min'].astype(int)\n"
   ]
  },
  {
   "cell_type": "markdown",
   "metadata": {},
   "source": [
    "### Test"
   ]
  },
  {
   "cell_type": "code",
   "execution_count": 26,
   "metadata": {},
   "outputs": [
    {
     "data": {
      "text/html": [
       "<div>\n",
       "<style scoped>\n",
       "    .dataframe tbody tr th:only-of-type {\n",
       "        vertical-align: middle;\n",
       "    }\n",
       "\n",
       "    .dataframe tbody tr th {\n",
       "        vertical-align: top;\n",
       "    }\n",
       "\n",
       "    .dataframe thead th {\n",
       "        text-align: right;\n",
       "    }\n",
       "</style>\n",
       "<table border=\"1\" class=\"dataframe\">\n",
       "  <thead>\n",
       "    <tr style=\"text-align: right;\">\n",
       "      <th></th>\n",
       "      <th>bike_id</th>\n",
       "      <th>bike_share_for_all_trip</th>\n",
       "      <th>duration_sec</th>\n",
       "      <th>end_station_id</th>\n",
       "      <th>end_station_latitude</th>\n",
       "      <th>end_station_longitude</th>\n",
       "      <th>end_station_name</th>\n",
       "      <th>end_time</th>\n",
       "      <th>rental_access_method</th>\n",
       "      <th>start_station_id</th>\n",
       "      <th>...</th>\n",
       "      <th>start_time</th>\n",
       "      <th>user_type</th>\n",
       "      <th>distance_km</th>\n",
       "      <th>distance_miles</th>\n",
       "      <th>start_time_month</th>\n",
       "      <th>start_time_month_number</th>\n",
       "      <th>start_time_weekday</th>\n",
       "      <th>start_time_hour</th>\n",
       "      <th>end_time_hour</th>\n",
       "      <th>duration_min</th>\n",
       "    </tr>\n",
       "  </thead>\n",
       "  <tbody>\n",
       "    <tr>\n",
       "      <td>1850888</td>\n",
       "      <td>10167</td>\n",
       "      <td>No</td>\n",
       "      <td>402</td>\n",
       "      <td>90.0</td>\n",
       "      <td>37.771058</td>\n",
       "      <td>-122.402717</td>\n",
       "      <td>Townsend St at 7th St</td>\n",
       "      <td>2019-09-12 15:15:15.184</td>\n",
       "      <td>NaN</td>\n",
       "      <td>50.0</td>\n",
       "      <td>...</td>\n",
       "      <td>2019-09-12 15:08:33.100</td>\n",
       "      <td>Subscriber</td>\n",
       "      <td>1.517129</td>\n",
       "      <td>0.942700</td>\n",
       "      <td>September</td>\n",
       "      <td>9</td>\n",
       "      <td>Thu</td>\n",
       "      <td>15</td>\n",
       "      <td>15</td>\n",
       "      <td>6</td>\n",
       "    </tr>\n",
       "    <tr>\n",
       "      <td>248998</td>\n",
       "      <td>5282</td>\n",
       "      <td>No</td>\n",
       "      <td>859</td>\n",
       "      <td>363.0</td>\n",
       "      <td>37.787492</td>\n",
       "      <td>-122.398285</td>\n",
       "      <td>Salesforce Transit Center (Natoma St at 2nd St)</td>\n",
       "      <td>2019-02-21 08:49:57.350</td>\n",
       "      <td>NaN</td>\n",
       "      <td>39.0</td>\n",
       "      <td>...</td>\n",
       "      <td>2019-02-21 08:35:37.551</td>\n",
       "      <td>Subscriber</td>\n",
       "      <td>3.519185</td>\n",
       "      <td>2.186720</td>\n",
       "      <td>February</td>\n",
       "      <td>2</td>\n",
       "      <td>Thu</td>\n",
       "      <td>8</td>\n",
       "      <td>8</td>\n",
       "      <td>14</td>\n",
       "    </tr>\n",
       "    <tr>\n",
       "      <td>463565</td>\n",
       "      <td>6611</td>\n",
       "      <td>Yes</td>\n",
       "      <td>575</td>\n",
       "      <td>317.0</td>\n",
       "      <td>37.333955</td>\n",
       "      <td>-121.877349</td>\n",
       "      <td>San Salvador St at 9th St</td>\n",
       "      <td>2019-03-21 09:36:57.656</td>\n",
       "      <td>NaN</td>\n",
       "      <td>296.0</td>\n",
       "      <td>...</td>\n",
       "      <td>2019-03-21 09:27:22.566</td>\n",
       "      <td>Subscriber</td>\n",
       "      <td>0.884965</td>\n",
       "      <td>0.549892</td>\n",
       "      <td>March</td>\n",
       "      <td>3</td>\n",
       "      <td>Thu</td>\n",
       "      <td>9</td>\n",
       "      <td>9</td>\n",
       "      <td>9</td>\n",
       "    </tr>\n",
       "  </tbody>\n",
       "</table>\n",
       "<p>3 rows × 23 columns</p>\n",
       "</div>"
      ],
      "text/plain": [
       "        bike_id bike_share_for_all_trip  duration_sec end_station_id  \\\n",
       "1850888   10167                      No           402           90.0   \n",
       "248998     5282                      No           859          363.0   \n",
       "463565     6611                     Yes           575          317.0   \n",
       "\n",
       "         end_station_latitude  end_station_longitude  \\\n",
       "1850888             37.771058            -122.402717   \n",
       "248998              37.787492            -122.398285   \n",
       "463565              37.333955            -121.877349   \n",
       "\n",
       "                                        end_station_name  \\\n",
       "1850888                            Townsend St at 7th St   \n",
       "248998   Salesforce Transit Center (Natoma St at 2nd St)   \n",
       "463565                         San Salvador St at 9th St   \n",
       "\n",
       "                       end_time rental_access_method start_station_id  ...  \\\n",
       "1850888 2019-09-12 15:15:15.184                  NaN             50.0  ...   \n",
       "248998  2019-02-21 08:49:57.350                  NaN             39.0  ...   \n",
       "463565  2019-03-21 09:36:57.656                  NaN            296.0  ...   \n",
       "\n",
       "                     start_time   user_type distance_km distance_miles  \\\n",
       "1850888 2019-09-12 15:08:33.100  Subscriber    1.517129       0.942700   \n",
       "248998  2019-02-21 08:35:37.551  Subscriber    3.519185       2.186720   \n",
       "463565  2019-03-21 09:27:22.566  Subscriber    0.884965       0.549892   \n",
       "\n",
       "        start_time_month  start_time_month_number  start_time_weekday  \\\n",
       "1850888        September                        9                 Thu   \n",
       "248998          February                        2                 Thu   \n",
       "463565             March                        3                 Thu   \n",
       "\n",
       "        start_time_hour  end_time_hour duration_min  \n",
       "1850888              15             15            6  \n",
       "248998                8              8           14  \n",
       "463565                9              9            9  \n",
       "\n",
       "[3 rows x 23 columns]"
      ]
     },
     "execution_count": 26,
     "metadata": {},
     "output_type": "execute_result"
    }
   ],
   "source": [
    "df_cleaned.sample(3)\n"
   ]
  },
  {
   "cell_type": "markdown",
   "metadata": {},
   "source": [
    "### Store Data"
   ]
  },
  {
   "cell_type": "code",
   "execution_count": 27,
   "metadata": {},
   "outputs": [],
   "source": [
    "#Store data into Master file ('baywheels_master_clean.csv)\n",
    "df_cleaned.to_csv('baywheels_master_clean.csv', index = False)\n"
   ]
  },
  {
   "cell_type": "markdown",
   "metadata": {},
   "source": [
    "### What is the structure of your dataset?\n",
    "\n",
    "The FordGoBike and BayWheels Datasets provide a valuable collection of data to work with in order draw data findings and a conclusion. This notebook uses data collected from January 2019 which the organisation was still using the naming structure FordGoBike until May 2019 and then changed its naming structure December 2019. There have been some anomity changes in the dataset and can no longer be distinguish by genderm work or ethnicity data. \n",
    "\n",
    "\n",
    "> The dataset has 25000+ bike rides that had happened in 2019. \n",
    "\n",
    "### The dataset contained features about:\n",
    "\n",
    "* trip duration\n",
    "* start time/end time\n",
    "* stations: start/end station, name, geolocation (latitude/longitude)\n",
    "* anonymized customer data: The users are divided into two user types: Subscriber and Customer\n",
    "* rented bikes: bike_id \n",
    "\n",
    "\n",
    "### The following columns that were added in the data cleaning phase:\n",
    "\n",
    "\n",
    "* Start Time Month\n",
    "* Start Time Month Number\n",
    "* Start Time Day of the Week\n",
    "* Start Time Hour\n",
    "* Distance (km)\n",
    "* Distance (miles)\n",
    "  \n",
    "\n",
    "### What is/are the main feature(s) of interest in your dataset?\n",
    "\n",
    "> I am interested in investigate the main features which include data that is related to the start time and end time of a ride. \n",
    "\n",
    "### What features in the dataset do you think will help support your investigation into your feature(s) of interest?\n",
    "\n",
    "> The features in the dataset that I think will ehance my investigation would be looking at the start times and end times as well as any related time-based information. "
   ]
  },
  {
   "cell_type": "markdown",
   "metadata": {},
   "source": [
    "## Step 4. Univariate Exploration\n",
    "\n",
    "> In this section, investigate distributions of individual variables. If\n",
    "you see unusual points or outliers, take a deeper look to clean things up\n",
    "and prepare yourself to look at relationships between variables."
   ]
  },
  {
   "cell_type": "code",
   "execution_count": 28,
   "metadata": {},
   "outputs": [
    {
     "data": {
      "text/plain": [
       "<seaborn.axisgrid.FacetGrid at 0x209e8a86848>"
      ]
     },
     "execution_count": 28,
     "metadata": {},
     "output_type": "execute_result"
    },
    {
     "data": {
      "image/png": "[encoded data removed]",
      "text/plain": [
       "<Figure size 648x360 with 1 Axes>"
      ]
     },
     "metadata": {
      "needs_background": "light"
     },
     "output_type": "display_data"
    }
   ],
   "source": [
    "#Display monthly Ford Go Bike sharing system\n",
    "graph = sb.catplot(data = df_cleaned, x = 'start_time_month', \n",
    "                   kind = 'count', aspect = 1.8);\n",
    "graph.set_axis_labels('Months in 2019','Number of Trips'),\n",
    "graph.fig.suptitle('Ford GoBikes System Usage by Month',\n",
    "                   y = 1.07, fontsize = 18, fontweight = 'bold');\n",
    "graph.set_xticklabels(rotation=80)"
   ]
  },
  {
   "cell_type": "markdown",
   "metadata": {},
   "source": [
    "### Ford GoBike Usage by Month\n",
    "\n",
    "> In the Bay Area, July which is in Summer in the Northen Hemispher is the most popular time to use the Ford Go Bike sharing system. March is also the second most popular time to use the Ford Go Bike sharing system in the Bay Area. \n",
    "\n",
    ">While December which is Winter time in the Northern Hemisphere, is the least popular time to use the Ford Go Bike Sharing System. Therefore, there will be more bikes available due to the usuage of bikes not been used around the Christmas Holidays. "
   ]
  },
  {
   "cell_type": "code",
   "execution_count": 29,
   "metadata": {},
   "outputs": [
    {
     "data": {
      "image/png": "[encoded data removed]",
      "text/plain": [
       "<Figure size 360x360 with 1 Axes>"
      ]
     },
     "metadata": {
      "needs_background": "light"
     },
     "output_type": "display_data"
    }
   ],
   "source": [
    "# Weekly usage of the Ford Go bike sharing system\n",
    "days_of_the_week = ['Mon', 'Tue', 'Wed', 'Thu', 'Fri', 'Sat', 'Sun']\n",
    "graph = sb.catplot(data=df_cleaned, x='start_time_weekday', \n",
    "                   kind='count', order = days_of_the_week)\n",
    "graph.set_axis_labels('Days of the Week', 'Number of Trips')\n",
    "graph.fig.suptitle('Ford GoBikes Usage by Day of the Week ',\n",
    "                   y=1.07, fontsize=16, fontweight='bold');\n",
    "graph.set_xticklabels(rotation=80);"
   ]
  },
  {
   "cell_type": "markdown",
   "metadata": {},
   "source": [
    "### Usage by Days of the Week\n",
    "\n",
    "In 2019, Monday through Friday has heavy usage in hiring bikes from the Ford Go Bike sharing system in the Bay Area. \n",
    "The usage drops significantly on the weekend where Saturday and Sunday. The data suggests that the Ford Go Bike sharing system is mainly used during the week. "
   ]
  },
  {
   "cell_type": "code",
   "execution_count": 30,
   "metadata": {},
   "outputs": [
    {
     "data": {
      "text/plain": [
       "count    2.506983e+06\n",
       "mean     1.296946e+01\n",
       "std      3.291311e+01\n",
       "min      1.000000e+00\n",
       "25%      5.000000e+00\n",
       "50%      9.000000e+00\n",
       "75%      1.400000e+01\n",
       "max      1.520100e+04\n",
       "Name: duration_min, dtype: float64"
      ]
     },
     "execution_count": 30,
     "metadata": {},
     "output_type": "execute_result"
    }
   ],
   "source": [
    "#Finding the distribution\n",
    "df_cleaned.duration_min.describe(percentiles = [.95])\n",
    "df_cleaned.duration_min.describe()"
   ]
  },
  {
   "cell_type": "code",
   "execution_count": 33,
   "metadata": {},
   "outputs": [
    {
     "data": {
      "text/plain": [
       "12.969462497352396"
      ]
     },
     "execution_count": 33,
     "metadata": {},
     "output_type": "execute_result"
    }
   ],
   "source": [
    "#Find out the average trip\n",
    "df_cleaned.duration_min.mean()\n"
   ]
  },
  {
   "cell_type": "code",
   "execution_count": 34,
   "metadata": {},
   "outputs": [
    {
     "data": {
      "image/png": "[encoded data removed]",
      "text/plain": [
       "<Figure size 432x288 with 1 Axes>"
      ]
     },
     "metadata": {
      "needs_background": "light"
     },
     "output_type": "display_data"
    }
   ],
   "source": [
    "# Display the duration bike rides in minutes \n",
    "bins = 10**np.arange(0 , 3 + 0.1 , 0.1)\n",
    "ticks =  [ 1 , 3, 10, 30, 100, 300, 1000]\n",
    "labels = ['{}'.format(t) for t in ticks]\n",
    "plt.hist(data = df_cleaned , x = 'duration_min' , bins = bins);\n",
    "plt.xscale('log');\n",
    "plt.xticks(ticks,labels);\n",
    "plt.xlabel('Duration in Minutes');\n",
    "plt.title('Ford GoBikes Average Bike Trip Duration in Minutes');\n",
    "plt.ylabel('Number of Trips');"
   ]
  },
  {
   "cell_type": "markdown",
   "metadata": {},
   "source": [
    "### Duration of Bike Trips in Ford Go Bike System\n",
    "\n",
    "> In 2019, the average duration of bike trips was under 12.96 minutes. \n"
   ]
  },
  {
   "cell_type": "code",
   "execution_count": 40,
   "metadata": {},
   "outputs": [
    {
     "data": {
      "image/png": "[encoded data removed]",
      "text/plain": [
       "<Figure size 612x360 with 1 Axes>"
      ]
     },
     "metadata": {
      "needs_background": "light"
     },
     "output_type": "display_data"
    }
   ],
   "source": [
    "# Ford GoBike System Hourly Usage in 2019\n",
    "graph = sb.catplot(data = df_cleaned, x='start_time_hour', kind='count', aspect = 1.7)\n",
    "graph.set_axis_labels('Number of Hours', 'Number of Trips')\n",
    "graph.fig.suptitle('Ford GoBike System Hourly Usage in 2019', \n",
    "                   y=1.07, fontsize=16, fontweight='bold');"
   ]
  },
  {
   "cell_type": "markdown",
   "metadata": {},
   "source": [
    "### Ford GoBikes Hourly Usage in 2019\n",
    "\n",
    "> In 2019, through observing the peak-times of when users use the Ford GoBike System. The hours are mainly high between the morning from 8-9am and from 1700-1800 (5-6 pm) in the afternoon.\n"
   ]
  },
  {
   "cell_type": "markdown",
   "metadata": {},
   "source": [
    "### Talk about some of the relationships you observed in this part of the investigation. How did the feature(s) of interest vary with other features in the dataset?\n",
    "\n",
    "> There were six observations that were made with the duration of the bike ride data. As the data was cleaned, through the data cleaning phase. The data visualisation of the duration of the bike ride and the distance helped to form a story. The trip duration takes a large amount of values and is concentrated.\n",
    "\n",
    "\n",
    "### Did you observe any interesting relationships between the other features (not the main feature(s) of interest)?\n",
    "\n",
    "> Looking at the cleaned dataset, the average duration of bike trips was under 12.96 minutes. I want to look at the comparison between Subscriber and Customer. In 2019, through observing the peak-times of when users use the Ford GoBike System. The hours are mainly high between the morning from 8-9am and from 1700-1800 (5-6 pm) in the afternoon. I would like further investigate if that varies by user type. \n"
   ]
  },
  {
   "cell_type": "markdown",
   "metadata": {},
   "source": [
    "## Bivariate Exploration\n",
    "\n",
    "> In this section, I investigate relationships between pairs of variables in the data."
   ]
  },
  {
   "cell_type": "code",
   "execution_count": 41,
   "metadata": {},
   "outputs": [],
   "source": [
    "# Clean the User Type data for data visualisation\n",
    "customer = df_cleaned.query('user_type == \"Customer\"')['bike_id'].count()\n",
    "subscriber = df_cleaned.query('user_type == \"Subscriber\"')['bike_id'].count()\n",
    "customer_prop = customer / df_cleaned['bike_id'].count()\n",
    "subscriber_prop = subscriber / df_cleaned['bike_id'].count()"
   ]
  },
  {
   "cell_type": "code",
   "execution_count": 43,
   "metadata": {},
   "outputs": [
    {
     "data": {
      "image/png": "[encoded data removed]",
      "text/plain": [
       "<Figure size 720x360 with 1 Axes>"
      ]
     },
     "metadata": {
      "needs_background": "light"
     },
     "output_type": "display_data"
    }
   ],
   "source": [
    "# Plot Number of Customers vs Subscribers in the Ford GoBike System to make a comparison.\n",
    "plt.figure(figsize = [10, 5])\n",
    "graph = sb.countplot(data = df_cleaned, x = \"user_type\", \n",
    "                     order = df_cleaned.user_type.value_counts().index);\n",
    "graph.set_xlabel('User Type');\n",
    "graph.set_ylabel('Number of Bike Trips');\n",
    "plt.suptitle('Comparing Customers vs. Subscribers in The Ford GoBike Sharing System', \n",
    "             y=1.07, fontsize=16, fontweight='bold');"
   ]
  },
  {
   "cell_type": "markdown",
   "metadata": {},
   "source": [
    "### Customers vs. Subscribers Usage in Ford GoBikes Sharing\n",
    "\n",
    "> There are more than 200,000 Subscribers as displayed in the Customers vs. Subscribers in Ford GoBike Sharing System chart."
   ]
  },
  {
   "cell_type": "code",
   "execution_count": 44,
   "metadata": {},
   "outputs": [
    {
     "data": {
      "image/png": "[encoded data removed]",
      "text/plain": [
       "<Figure size 720x360 with 1 Axes>"
      ]
     },
     "metadata": {},
     "output_type": "display_data"
    }
   ],
   "source": [
    "# Plot a pie chart to compare the percentage of Customers vs Subscribers that are using the platform\n",
    "plt.figure(figsize = [10, 5])\n",
    "labels = ['Customer', 'Subscriber']\n",
    "size = [customer_prop, subscriber_prop]\n",
    "explode = (0, 0.3)\n",
    "plt.pie(size, explode=explode, labels = labels, autopct='%1.1f%%', \n",
    "        shadow=True, startangle=30, textprops={'color':'black'})\n",
    "plt.axis('equal')\n",
    "plt.suptitle('Ford GoBike Customers vs. Subscribers in ', y=1.07,\n",
    "             fontsize=16, fontweight='bold');"
   ]
  },
  {
   "cell_type": "markdown",
   "metadata": {},
   "source": [
    "### Customers vs. Subscribers in Ford GoBikes Sharing\n",
    "\n",
    "> In 2019, 80.6% of the user types in the Ford GoBikes sharing platform were Subscribers. 19.4% of the user types in the Ford GoBikes Sharing Platform were Customers. \n",
    "\n"
   ]
  },
  {
   "cell_type": "code",
   "execution_count": 45,
   "metadata": {},
   "outputs": [
    {
     "data": {
      "text/plain": [
       "<Figure size 864x360 with 0 Axes>"
      ]
     },
     "metadata": {},
     "output_type": "display_data"
    },
    {
     "data": {
      "image/png": "[encoded data removed]",
      "text/plain": [
       "<Figure size 720x360 with 2 Axes>"
      ]
     },
     "metadata": {
      "needs_background": "light"
     },
     "output_type": "display_data"
    }
   ],
   "source": [
    "# Plot comparison of usage between Customers vs Subscribersin 2019\n",
    "plt.figure(figsize = [12, 5])\n",
    "graph = sb.catplot(data=df_cleaned, x='start_time_month', \n",
    "                   col=\"user_type\", kind='count', sharey = True);\n",
    "graph.set_axis_labels(\"Month\", \"Number of Bike Trips\");\n",
    "graph.set_titles(\"{col_name}\");\n",
    "graph.fig.suptitle('Customers vs. Subscribers in Ford GoBike Sharing System',\n",
    "                   y=1.07, fontsize=16, fontweight='bold');\n",
    "graph.set_xticklabels(rotation=80);"
   ]
  },
  {
   "cell_type": "markdown",
   "metadata": {},
   "source": [
    "### Customers vs. Subscribers Usage in Ford GoBikes Sharing\n",
    "\n",
    "> There are more than 200,000 Subscribers as displayed in the Customers vs. Subscribers in Ford GoBike Sharing System chart. \n",
    "\n",
    "Customers: The demand is high during December. However, the frequency is high betwen the months of July - October 2019.\n",
    "\n",
    "Subscribers: The demand is highest in March 2019. THis is followed by July 2019 which is Summer time in the Bay Area and April which is Spring. \n",
    "\n",
    "\n"
   ]
  },
  {
   "cell_type": "code",
   "execution_count": 46,
   "metadata": {},
   "outputs": [
    {
     "data": {
      "image/png": "[encoded data removed]",
      "text/plain": [
       "<Figure size 864x360 with 1 Axes>"
      ]
     },
     "metadata": {
      "needs_background": "light"
     },
     "output_type": "display_data"
    }
   ],
   "source": [
    "plt.figure(figsize=(12, 5))\n",
    "df_cleaned_user_week = df_cleaned.groupby(['start_time_weekday', 'user_type']).size().reset_index()\n",
    "weekday = ['Mon', 'Tue', 'Wed', 'Thu', 'Fri', 'Sat', 'Sun']\n",
    "ax = sb.pointplot(data=df_cleaned_user_week, x='start_time_weekday', \n",
    "                  y=0, hue = 'user_type', scale=.7, order = weekday);\n",
    "plt.title('Customer vs. Subscribers Trends in the Ford GoBike Sharing', y=1.07, \n",
    "          fontsize=16, fontweight='bold')\n",
    "plt.xlabel('Weekdays')\n",
    "plt.ylabel('Number of Bike Trips');\n",
    "plt.grid()"
   ]
  },
  {
   "cell_type": "markdown",
   "metadata": {},
   "source": [
    "### Customers vs. Subscribers Trends in the Ford GoBikes Sharing\n",
    " \n",
    "In 2019, customers usage is quite low and consistant staying under 10,000 bike trips during the week. While Subscribers frequently used the the Ford GoBikes Sharing platform during Monday - Thursday with a drop of the number of bike trips on Friday and a significant drop through to Saturday and Sunday. \n"
   ]
  },
  {
   "cell_type": "markdown",
   "metadata": {},
   "source": [
    "### Talk about some of the relationships you observed in this part of the investigation. How did the feature(s) of interest vary with other features in the dataset?\n",
    "\n",
    "> The importance of including the user type to the data analysis revealed that there were some differences in the behaviour of the customers and subscribers using the Ford GoBikes Sharing platform. \n",
    "\n",
    "> The dataset highlights the usage trends between customers and subscribers. This suggests that Customers are casual users and the Subscribers are daily commuters that maybe working, studying etc. \n",
    "\n",
    "\n",
    "### Did you observe any interesting relationships between the other features (not the main feature(s) of interest)?\n",
    "\n",
    "> Through Observation, there is a difference in usage between customers and subscribers. The popularity of using Ford GoBikes for Customers is usually in December and increases more on Saturday as opposed to Subscribers where it decreases significantly on Saturday and during the weekend. \n",
    "> There were some limitations in this analysis, due to the anomity of customer data shighuch as gender. "
   ]
  },
  {
   "cell_type": "code",
   "execution_count": 47,
   "metadata": {},
   "outputs": [
    {
     "data": {
      "image/png": "[encoded data removed]",
      "text/plain": [
       "<Figure size 576x360 with 1 Axes>"
      ]
     },
     "metadata": {
      "needs_background": "light"
     },
     "output_type": "display_data"
    }
   ],
   "source": [
    "# Number of bike trips Customers vs. Subscriber Usage by Duration\n",
    "plt.figure(figsize = [8, 5])\n",
    "base_color = sb.color_palette()[1]\n",
    "sb.boxplot(data = df, x = 'user_type', y = 'duration_sec')\n",
    "plt.title('Ford GoBike Customer vs. Subscribers Duration in Seconds', y=1.07, fontsize=16, fontweight='bold')\n",
    "plt.xlabel('User Type')\n",
    "plt.ylabel('Duration in sec')\n",
    "plt.show()\n",
    "\n"
   ]
  },
  {
   "cell_type": "markdown",
   "metadata": {},
   "source": [
    "### Customers vs. Subscribers Ride Duration in Seconds\n",
    "\n",
    "> In 2019, the graph above highlights that the values are vey widespread to see a box plot. In the next observation, will have a look at the box plot with the duration in minutes as opposed to seconds. \n"
   ]
  },
  {
   "cell_type": "code",
   "execution_count": 48,
   "metadata": {},
   "outputs": [
    {
     "data": {
      "image/png": "[encoded data removed]",
      "text/plain": [
       "<Figure size 720x360 with 2 Axes>"
      ]
     },
     "metadata": {
      "needs_background": "light"
     },
     "output_type": "display_data"
    }
   ],
   "source": [
    "data = df_cleaned.query('duration_min < 30')\n",
    "x = sb.catplot(data=data, y='duration_min', \n",
    "               col=\"user_type\", kind='box')\n",
    "x.set_titles(col_template = '{col_name}')\n",
    "x.set_axis_labels(\"\", \"Duration in Minutes\")\n",
    "x.fig.suptitle('Ford GoBikes Duration in Minutes by Customer vs. Subcriber',\n",
    "               y=1.05, fontsize=16, fontweight='bold');"
   ]
  },
  {
   "cell_type": "markdown",
   "metadata": {},
   "source": [
    "###  Duration in Minutes by User Type \n",
    "\n",
    "> The Duration in Minutes by User Type plot highlights that Customers normally have longer trip durations. Customers normally ride between 8 minutes and 18 minutes. Subscriber trips are normally shorter and last anywhere between 5-13 minutes. \n"
   ]
  },
  {
   "cell_type": "markdown",
   "metadata": {},
   "source": [
    "## Step 5. Multivariate Exploration\n",
    "\n",
    "> In this section, I plot more graphs in order to investigate the duration of the Ford Go Bike data.\n"
   ]
  },
  {
   "cell_type": "code",
   "execution_count": 49,
   "metadata": {},
   "outputs": [
    {
     "data": {
      "image/png": "[encoded data removed]",
      "text/plain": [
       "<Figure size 432x288 with 2 Axes>"
      ]
     },
     "metadata": {
      "needs_background": "light"
     },
     "output_type": "display_data"
    }
   ],
   "source": [
    "#Ford GoBikes Customer \n",
    "weekday = ['Mon', 'Tue', 'Wed', 'Thu', 'Fri', 'Sat', 'Sun']\n",
    "df_cleaned['start_time_weekday'] = pd.Categorical(df_cleaned['start_time_weekday'], \n",
    "                                                  categories= ['Mon', 'Tue', 'Wed', 'Thu', 'Fri', 'Sat', 'Sun'], ordered=True);\n",
    "df_customer = df_cleaned.query('user_type == \"Customer\"').groupby(['start_time_hour', 'start_time_weekday'])['bike_id'].size().reset_index();\n",
    "df_customer = df_customer.pivot('start_time_hour', 'start_time_weekday', 'bike_id')\n",
    "heat_map = sb.heatmap(df_customer, cmap = 'twilight')\n",
    "plt.title('Ford GoBike Customer Weekly Trends in 2019', y=1.07, fontweight='bold')\n",
    "plt.xlabel('Days of the Week', labelpad = 17)\n",
    "plt.ylabel('Start Time in Hour',  labelpad = 17)\n",
    "plt.show()\n"
   ]
  },
  {
   "cell_type": "code",
   "execution_count": 73,
   "metadata": {},
   "outputs": [
    {
     "data": {
      "image/png": "[encoded data removed]",
      "text/plain": [
       "<Figure size 432x288 with 2 Axes>"
      ]
     },
     "metadata": {
      "needs_background": "light"
     },
     "output_type": "display_data"
    }
   ],
   "source": [
    "#Heat Map for Ford GoBikes Subscriber Information\n",
    "df_subscriber = df_cleaned.query('user_type == \"Subscriber\"').groupby(['start_time_hour', 'start_time_weekday'])['bike_id'].size().reset_index();\n",
    "df_subscriber = df_subscriber.pivot('start_time_hour', 'start_time_weekday', 'bike_id')\n",
    "hot_maps = sb.heatmap(df_subscriber, cmap = 'twilight')\n",
    "plt.title(\"Ford GoBike Subscriber Weekly Trends in 2019\", y=1.07, fontweight='bold')\n",
    "plt.xlabel('Days of the Week', labelpad = 17)\n",
    "plt.ylabel('Start Time in Hours', labelpad = 17);\n",
    "plt.show()"
   ]
  },
  {
   "cell_type": "markdown",
   "metadata": {},
   "source": [
    "## Ford GoBike HeatMap\n",
    "\n",
    "> As per the heat map above, Customers who use the Ford Gobikes sharing system mainly on the weekends. While, Subscriber normally ride bikes during the weekday from Monday through to Friday, around 8-9am and 4-6pm. In the weekends, there is a significant drop in the number of rented bikes."
   ]
  },
  {
   "cell_type": "code",
   "execution_count": 50,
   "metadata": {},
   "outputs": [
    {
     "data": {
      "image/png": "[encoded data removed]",
      "text/plain": [
       "<Figure size 2592x432 with 2 Axes>"
      ]
     },
     "metadata": {
      "needs_background": "light"
     },
     "output_type": "display_data"
    }
   ],
   "source": [
    "# Monthly usage by user type \n",
    "graph = sb.catplot(data=df_cleaned, x='start_time_month', col=\"user_type\", kind='count', sharey = False, height=6, aspect=3);\n",
    "graph.set_axis_labels(\"Month\", \"Number of Bike Trips\")\n",
    "graph.set_titles(\"{col_name}\")\n",
    "graph.fig.suptitle('Ford GoBike System Monthly Usage Per User Type', y=1.07, fontsize=16, fontweight='bold');\n",
    "graph.set_xticklabels(rotation=80);"
   ]
  },
  {
   "cell_type": "markdown",
   "metadata": {},
   "source": [
    "## Ford GoBike Monthly Usager Per User Type\n",
    "\n",
    "> As per the graph above, in 2019 the Ford GoBike Monthly Usage per User Type. There are two types of users who use the Ford GoBike which is between Customer and Subscriber. \n",
    "\n",
    "> Customers saw an increase of usage in December while Subscribers would frequently use the the Ford GoBike system in March, July and April. While the Monthly usage for Subscribers would decrease in December. \n"
   ]
  },
  {
   "cell_type": "markdown",
   "metadata": {},
   "source": [
    "### Talk about some of the relationships you observed in this part of the investigation. Were there features that strengthened each other in terms of looking at your feature(s) of interest?\n",
    "\n",
    "> Through further observation between Customer and Supplier behaviours, Customers saw an increase of usage in December while Subscribers would frequently use the the Ford GoBike system in March, July and April. While the Monthly usage for Subscribers would decrease in December. \n",
    "\n",
    "### Were there any interesting or surprising interactions between features?\n",
    "\n",
    "> Through observation of the heatmap, Customers who use the Ford Gobikes sharing system mainly on the weekends. While, Subscriber normally ride bikes during the weekday from Monday through to Friday, around 8-9am and 4-6pm. In the weekends, there is a significant drop in the number of bikes used in the weekends from the subscribers.\n"
   ]
  },
  {
   "cell_type": "markdown",
   "metadata": {},
   "source": [
    "# References\n",
    "\n",
    "1. How To Combine Multiple CSV Files In Python: https://sempioneer.com/python-for-seo/how-to-combine-multiple-csv-files-in-python/\n",
    "2. FordGoBike Data Set: https://www.lyft.com/bikes/bay-wheels/system-data\n",
    "3. Github: https://github.com/ijdev/Ford-GoBike-System-Data---Data-Analysis/blob/master/exploration_template.ipynb, \n",
    "4. Github: https://github.com/satyarajreddy/Udacity-Data-Visualization/blob/master/Visualize_Data.ipynb \n",
    "5. Github: https://gist.github.com/rochacbruno/2883505\n",
    "6. Github: https://github.com/chelseymarie6/Communicate-Data-Findings\n",
    "7. Github: https://github.com/rishusingh121/fordgobike/blob/master/slide_deck_template.ipynb\n",
    "8. Keggle: https://www.kaggle.com/chirag02/ford-gobike-data-analysis\n",
    "9. seaborn catplot: https://seaborn.pydata.org/generated/seaborn.catplot.html\n",
    "10. matplotlib Documentation: https://matplotlib.org/api/_as_gen/matplotlib.pyplot.hist.html\n",
    "\n"
   ]
  }
 ],
 "metadata": {
  "kernelspec": {
   "display_name": "Python 3",
   "language": "python",
   "name": "python3"
  },
  "language_info": {
   "codemirror_mode": {
    "name": "ipython",
    "version": 3
   },
   "file_extension": ".py",
   "mimetype": "text/x-python",
   "name": "python",
   "nbconvert_exporter": "python",
   "pygments_lexer": "ipython3",
   "version": "3.7.4"
  }
 },
 "nbformat": 4,
 "nbformat_minor": 2
}
