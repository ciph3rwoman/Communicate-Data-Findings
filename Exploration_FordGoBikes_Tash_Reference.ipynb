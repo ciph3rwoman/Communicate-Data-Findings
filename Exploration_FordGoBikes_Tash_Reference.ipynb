{
 "cells": [
  {
   "cell_type": "markdown",
   "metadata": {},
   "source": [
    "# Analyzing Ford GoBikes System Data¶\n",
    "## By Tash Bettridge \n",
    "\n",
    "## Preliminary Wrangling\n",
    "\n",
    ">Formerly known as Ford GoBike, renamed Lyft Bikes is a regional public bicycle sharing system in the San Francisco Bay Area, California.\n",
    "\n",
    "### Data\n",
    "\n",
    "The data will be analysed from the following:\n",
    "\n",
    "* 2019 FordGo Bike and Baywheels Tripdata\n",
    "\n",
    "### Process\n",
    "\n",
    "The data wrangling steps that were involved in this project were:\n",
    "- Step 1. Assessing the Data \n",
    "- Step 2. Preliminary Wrangling\n",
    "- Step 3. Cleaning data\n",
    "- Step 4. Univariate Exploration\n",
    "- Step 5. Multivariate Exploration\n",
    "\n"
   ]
  },
  {
   "cell_type": "markdown",
   "metadata": {},
   "source": [
    "### Step 1. Assessing the Data \n",
    "\n",
    "Data Analysis, storing data and data visualization of the wrangled data\n"
   ]
  },
  {
   "cell_type": "code",
   "execution_count": 1,
   "metadata": {},
   "outputs": [],
   "source": [
    "# import all packages and set plots to be embedded inline\n",
    "import numpy as np\n",
    "import pandas as pd\n",
    "import matplotlib.pyplot as plt\n",
    "import seaborn as sb\n",
    "import glob\n",
    "import os\n",
    "import datetime\n",
    "import matplotlib.ticker as tick\n",
    "%matplotlib inline"
   ]
  },
  {
   "cell_type": "code",
   "execution_count": 2,
   "metadata": {},
   "outputs": [],
   "source": [
    "#Retrieve the datasets from the User directory \n",
    "path = r'C:\\Users\\tash_\\Desktop\\Udacity\\dataset'\n",
    "# detect all of the files ending with a .csv name within a specific working directory\n",
    "files = glob.glob(os.path.join(path, \"*.csv\"))"
   ]
  },
  {
   "cell_type": "code",
   "execution_count": 3,
   "metadata": {},
   "outputs": [
    {
     "name": "stderr",
     "output_type": "stream",
     "text": [
      "C:\\ProgramData\\Anaconda3\\lib\\site-packages\\ipykernel_launcher.py:2: DtypeWarning: Columns (14) have mixed types. Specify dtype option on import or set low_memory=False.\n",
      "  \n",
      "C:\\ProgramData\\Anaconda3\\lib\\site-packages\\ipykernel_launcher.py:2: DtypeWarning: Columns (13,14) have mixed types. Specify dtype option on import or set low_memory=False.\n",
      "  \n",
      "C:\\ProgramData\\Anaconda3\\lib\\site-packages\\ipykernel_launcher.py:2: DtypeWarning: Columns (13) have mixed types. Specify dtype option on import or set low_memory=False.\n",
      "  \n",
      "C:\\ProgramData\\Anaconda3\\lib\\site-packages\\ipykernel_launcher.py:2: FutureWarning: Sorting because non-concatenation axis is not aligned. A future version\n",
      "of pandas will change to not sort by default.\n",
      "\n",
      "To accept the future behavior, pass 'sort=False'.\n",
      "\n",
      "To retain the current behavior and silence the warning, pass 'sort=True'.\n",
      "\n",
      "  \n"
     ]
    }
   ],
   "source": [
    "#use the pd.concat() method to stack every dataframe one on top of another.\n",
    "df = pd.concat((pd.read_csv(f) for f in files), ignore_index = False)\n"
   ]
  },
  {
   "cell_type": "code",
   "execution_count": 4,
   "metadata": {},
   "outputs": [],
   "source": [
    "#Save a Copy To Master File\n",
    "df.to_csv('baywheels_master.csv', index = False)\n",
    "\n"
   ]
  },
  {
   "cell_type": "markdown",
   "metadata": {},
   "source": [
    "### Step 2. Preliminary Wrangling"
   ]
  },
  {
   "cell_type": "code",
   "execution_count": 5,
   "metadata": {},
   "outputs": [
    {
     "name": "stderr",
     "output_type": "stream",
     "text": [
      "C:\\ProgramData\\Anaconda3\\lib\\site-packages\\IPython\\core\\interactiveshell.py:3058: DtypeWarning: Columns (1,8) have mixed types. Specify dtype option on import or set low_memory=False.\n",
      "  interactivity=interactivity, compiler=compiler, result=result)\n"
     ]
    }
   ],
   "source": [
    "# Read contents of Master File\n",
    "df = pd.read_csv('baywheels_master.csv')\n"
   ]
  },
  {
   "cell_type": "code",
   "execution_count": 6,
   "metadata": {},
   "outputs": [
    {
     "data": {
      "text/html": [
       "<div>\n",
       "<style scoped>\n",
       "    .dataframe tbody tr th:only-of-type {\n",
       "        vertical-align: middle;\n",
       "    }\n",
       "\n",
       "    .dataframe tbody tr th {\n",
       "        vertical-align: top;\n",
       "    }\n",
       "\n",
       "    .dataframe thead th {\n",
       "        text-align: right;\n",
       "    }\n",
       "</style>\n",
       "<table border=\"1\" class=\"dataframe\">\n",
       "  <thead>\n",
       "    <tr style=\"text-align: right;\">\n",
       "      <th></th>\n",
       "      <th>bike_id</th>\n",
       "      <th>duration_sec</th>\n",
       "      <th>end_station_id</th>\n",
       "      <th>end_station_latitude</th>\n",
       "      <th>end_station_longitude</th>\n",
       "      <th>start_station_id</th>\n",
       "      <th>start_station_latitude</th>\n",
       "      <th>start_station_longitude</th>\n",
       "    </tr>\n",
       "  </thead>\n",
       "  <tbody>\n",
       "    <tr>\n",
       "      <td>count</td>\n",
       "      <td>2.506983e+06</td>\n",
       "      <td>2.506983e+06</td>\n",
       "      <td>2.424081e+06</td>\n",
       "      <td>2.506983e+06</td>\n",
       "      <td>2.506983e+06</td>\n",
       "      <td>2.426249e+06</td>\n",
       "      <td>2.506983e+06</td>\n",
       "      <td>2.506983e+06</td>\n",
       "    </tr>\n",
       "    <tr>\n",
       "      <td>mean</td>\n",
       "      <td>2.789833e+04</td>\n",
       "      <td>8.076483e+02</td>\n",
       "      <td>1.427044e+02</td>\n",
       "      <td>3.776422e+01</td>\n",
       "      <td>-1.223459e+02</td>\n",
       "      <td>1.465047e+02</td>\n",
       "      <td>3.776506e+01</td>\n",
       "      <td>-1.223499e+02</td>\n",
       "    </tr>\n",
       "    <tr>\n",
       "      <td>std</td>\n",
       "      <td>1.146067e+05</td>\n",
       "      <td>1.974714e+03</td>\n",
       "      <td>1.214296e+02</td>\n",
       "      <td>2.392885e-01</td>\n",
       "      <td>7.080417e-01</td>\n",
       "      <td>1.223171e+02</td>\n",
       "      <td>1.363698e-01</td>\n",
       "      <td>3.089648e-01</td>\n",
       "    </tr>\n",
       "    <tr>\n",
       "      <td>min</td>\n",
       "      <td>4.000000e+00</td>\n",
       "      <td>6.000000e+01</td>\n",
       "      <td>3.000000e+00</td>\n",
       "      <td>0.000000e+00</td>\n",
       "      <td>-1.225143e+02</td>\n",
       "      <td>3.000000e+00</td>\n",
       "      <td>0.000000e+00</td>\n",
       "      <td>-1.225143e+02</td>\n",
       "    </tr>\n",
       "    <tr>\n",
       "      <td>25%</td>\n",
       "      <td>1.952000e+03</td>\n",
       "      <td>3.590000e+02</td>\n",
       "      <td>4.300000e+01</td>\n",
       "      <td>3.777003e+01</td>\n",
       "      <td>-1.224117e+02</td>\n",
       "      <td>4.700000e+01</td>\n",
       "      <td>3.776931e+01</td>\n",
       "      <td>-1.224130e+02</td>\n",
       "    </tr>\n",
       "    <tr>\n",
       "      <td>50%</td>\n",
       "      <td>4.420000e+03</td>\n",
       "      <td>5.710000e+02</td>\n",
       "      <td>1.010000e+02</td>\n",
       "      <td>3.778076e+01</td>\n",
       "      <td>-1.223981e+02</td>\n",
       "      <td>1.050000e+02</td>\n",
       "      <td>3.778053e+01</td>\n",
       "      <td>-1.223983e+02</td>\n",
       "    </tr>\n",
       "    <tr>\n",
       "      <td>75%</td>\n",
       "      <td>9.682000e+03</td>\n",
       "      <td>8.870000e+02</td>\n",
       "      <td>2.390000e+02</td>\n",
       "      <td>3.779587e+01</td>\n",
       "      <td>-1.222934e+02</td>\n",
       "      <td>2.430000e+02</td>\n",
       "      <td>3.779539e+01</td>\n",
       "      <td>-1.222914e+02</td>\n",
       "    </tr>\n",
       "    <tr>\n",
       "      <td>max</td>\n",
       "      <td>9.999410e+05</td>\n",
       "      <td>9.121100e+05</td>\n",
       "      <td>4.980000e+02</td>\n",
       "      <td>4.551000e+01</td>\n",
       "      <td>0.000000e+00</td>\n",
       "      <td>4.980000e+02</td>\n",
       "      <td>4.551000e+01</td>\n",
       "      <td>0.000000e+00</td>\n",
       "    </tr>\n",
       "  </tbody>\n",
       "</table>\n",
       "</div>"
      ],
      "text/plain": [
       "            bike_id  duration_sec  end_station_id  end_station_latitude  \\\n",
       "count  2.506983e+06  2.506983e+06    2.424081e+06          2.506983e+06   \n",
       "mean   2.789833e+04  8.076483e+02    1.427044e+02          3.776422e+01   \n",
       "std    1.146067e+05  1.974714e+03    1.214296e+02          2.392885e-01   \n",
       "min    4.000000e+00  6.000000e+01    3.000000e+00          0.000000e+00   \n",
       "25%    1.952000e+03  3.590000e+02    4.300000e+01          3.777003e+01   \n",
       "50%    4.420000e+03  5.710000e+02    1.010000e+02          3.778076e+01   \n",
       "75%    9.682000e+03  8.870000e+02    2.390000e+02          3.779587e+01   \n",
       "max    9.999410e+05  9.121100e+05    4.980000e+02          4.551000e+01   \n",
       "\n",
       "       end_station_longitude  start_station_id  start_station_latitude  \\\n",
       "count           2.506983e+06      2.426249e+06            2.506983e+06   \n",
       "mean           -1.223459e+02      1.465047e+02            3.776506e+01   \n",
       "std             7.080417e-01      1.223171e+02            1.363698e-01   \n",
       "min            -1.225143e+02      3.000000e+00            0.000000e+00   \n",
       "25%            -1.224117e+02      4.700000e+01            3.776931e+01   \n",
       "50%            -1.223981e+02      1.050000e+02            3.778053e+01   \n",
       "75%            -1.222934e+02      2.430000e+02            3.779539e+01   \n",
       "max             0.000000e+00      4.980000e+02            4.551000e+01   \n",
       "\n",
       "       start_station_longitude  \n",
       "count             2.506983e+06  \n",
       "mean             -1.223499e+02  \n",
       "std               3.089648e-01  \n",
       "min              -1.225143e+02  \n",
       "25%              -1.224130e+02  \n",
       "50%              -1.223983e+02  \n",
       "75%              -1.222914e+02  \n",
       "max               0.000000e+00  "
      ]
     },
     "execution_count": 6,
     "metadata": {},
     "output_type": "execute_result"
    }
   ],
   "source": [
    "# Showing the first five rows of the newly combined dataset\n",
    "df.describe()\n"
   ]
  },
  {
   "cell_type": "code",
   "execution_count": 7,
   "metadata": {},
   "outputs": [
    {
     "data": {
      "text/html": [
       "<div>\n",
       "<style scoped>\n",
       "    .dataframe tbody tr th:only-of-type {\n",
       "        vertical-align: middle;\n",
       "    }\n",
       "\n",
       "    .dataframe tbody tr th {\n",
       "        vertical-align: top;\n",
       "    }\n",
       "\n",
       "    .dataframe thead th {\n",
       "        text-align: right;\n",
       "    }\n",
       "</style>\n",
       "<table border=\"1\" class=\"dataframe\">\n",
       "  <thead>\n",
       "    <tr style=\"text-align: right;\">\n",
       "      <th></th>\n",
       "      <th>bike_id</th>\n",
       "      <th>bike_share_for_all_trip</th>\n",
       "      <th>duration_sec</th>\n",
       "      <th>end_station_id</th>\n",
       "      <th>end_station_latitude</th>\n",
       "      <th>end_station_longitude</th>\n",
       "      <th>end_station_name</th>\n",
       "      <th>end_time</th>\n",
       "      <th>rental_access_method</th>\n",
       "      <th>start_station_id</th>\n",
       "      <th>start_station_latitude</th>\n",
       "      <th>start_station_longitude</th>\n",
       "      <th>start_station_name</th>\n",
       "      <th>start_time</th>\n",
       "      <th>user_type</th>\n",
       "    </tr>\n",
       "  </thead>\n",
       "  <tbody>\n",
       "    <tr>\n",
       "      <td>1793480</td>\n",
       "      <td>10929</td>\n",
       "      <td>No</td>\n",
       "      <td>788</td>\n",
       "      <td>66.0</td>\n",
       "      <td>37.778742</td>\n",
       "      <td>-122.392741</td>\n",
       "      <td>3rd St at Townsend St</td>\n",
       "      <td>2019-09-20 08:16:37.8430</td>\n",
       "      <td>NaN</td>\n",
       "      <td>76.0</td>\n",
       "      <td>37.771662</td>\n",
       "      <td>-122.422423</td>\n",
       "      <td>McCoppin St at Valencia St</td>\n",
       "      <td>2019-09-20 08:03:28.8610</td>\n",
       "      <td>Subscriber</td>\n",
       "    </tr>\n",
       "    <tr>\n",
       "      <td>2032561</td>\n",
       "      <td>76</td>\n",
       "      <td>No</td>\n",
       "      <td>535</td>\n",
       "      <td>66.0</td>\n",
       "      <td>37.778742</td>\n",
       "      <td>-122.392741</td>\n",
       "      <td>3rd St at Townsend St</td>\n",
       "      <td>2019-10-18 14:55:31.8500</td>\n",
       "      <td>NaN</td>\n",
       "      <td>78.0</td>\n",
       "      <td>37.773717</td>\n",
       "      <td>-122.411647</td>\n",
       "      <td>Folsom St at 9th St</td>\n",
       "      <td>2019-10-18 14:46:35.9990</td>\n",
       "      <td>Subscriber</td>\n",
       "    </tr>\n",
       "    <tr>\n",
       "      <td>1621706</td>\n",
       "      <td>2966</td>\n",
       "      <td>No</td>\n",
       "      <td>1561</td>\n",
       "      <td>10.0</td>\n",
       "      <td>37.795393</td>\n",
       "      <td>-122.404770</td>\n",
       "      <td>Washington St at Kearny St</td>\n",
       "      <td>2019-08-14 19:21:19.4540</td>\n",
       "      <td>NaN</td>\n",
       "      <td>60.0</td>\n",
       "      <td>37.774520</td>\n",
       "      <td>-122.409449</td>\n",
       "      <td>8th St at Ringold St</td>\n",
       "      <td>2019-08-14 18:55:18.1330</td>\n",
       "      <td>Customer</td>\n",
       "    </tr>\n",
       "    <tr>\n",
       "      <td>840748</td>\n",
       "      <td>5041</td>\n",
       "      <td>No</td>\n",
       "      <td>330</td>\n",
       "      <td>43.0</td>\n",
       "      <td>37.778768</td>\n",
       "      <td>-122.415929</td>\n",
       "      <td>San Francisco Public Library (Grove St at Hyde...</td>\n",
       "      <td>2019-04-04 07:14:00.3520</td>\n",
       "      <td>NaN</td>\n",
       "      <td>365.0</td>\n",
       "      <td>37.780450</td>\n",
       "      <td>-122.431946</td>\n",
       "      <td>Turk St at Fillmore St</td>\n",
       "      <td>2019-04-04 07:08:30.2020</td>\n",
       "      <td>Subscriber</td>\n",
       "    </tr>\n",
       "    <tr>\n",
       "      <td>1166578</td>\n",
       "      <td>2101</td>\n",
       "      <td>No</td>\n",
       "      <td>542</td>\n",
       "      <td>41.0</td>\n",
       "      <td>37.781270</td>\n",
       "      <td>-122.418740</td>\n",
       "      <td>Golden Gate Ave at Polk St</td>\n",
       "      <td>2019-06-12 17:13:35.8590</td>\n",
       "      <td>NaN</td>\n",
       "      <td>88.0</td>\n",
       "      <td>37.770030</td>\n",
       "      <td>-122.411726</td>\n",
       "      <td>11th St at Bryant St</td>\n",
       "      <td>2019-06-12 17:04:33.1250</td>\n",
       "      <td>Subscriber</td>\n",
       "    </tr>\n",
       "    <tr>\n",
       "      <td>470990</td>\n",
       "      <td>6759</td>\n",
       "      <td>No</td>\n",
       "      <td>1238</td>\n",
       "      <td>109.0</td>\n",
       "      <td>37.763316</td>\n",
       "      <td>-122.421904</td>\n",
       "      <td>17th St at Valencia St</td>\n",
       "      <td>2019-03-20 17:07:11.7310</td>\n",
       "      <td>NaN</td>\n",
       "      <td>20.0</td>\n",
       "      <td>37.791300</td>\n",
       "      <td>-122.399051</td>\n",
       "      <td>Mechanics Monument Plaza (Market St at Bush St)</td>\n",
       "      <td>2019-03-20 16:46:33.5430</td>\n",
       "      <td>Subscriber</td>\n",
       "    </tr>\n",
       "    <tr>\n",
       "      <td>447073</td>\n",
       "      <td>361</td>\n",
       "      <td>No</td>\n",
       "      <td>7712</td>\n",
       "      <td>74.0</td>\n",
       "      <td>37.776435</td>\n",
       "      <td>-122.426244</td>\n",
       "      <td>Laguna St at Hayes St</td>\n",
       "      <td>2019-03-23 12:53:46.2190</td>\n",
       "      <td>NaN</td>\n",
       "      <td>108.0</td>\n",
       "      <td>37.764710</td>\n",
       "      <td>-122.419957</td>\n",
       "      <td>16th St Mission BART</td>\n",
       "      <td>2019-03-23 10:45:14.1170</td>\n",
       "      <td>Customer</td>\n",
       "    </tr>\n",
       "    <tr>\n",
       "      <td>942190</td>\n",
       "      <td>2955</td>\n",
       "      <td>No</td>\n",
       "      <td>653</td>\n",
       "      <td>10.0</td>\n",
       "      <td>37.795393</td>\n",
       "      <td>-122.404770</td>\n",
       "      <td>Washington St at Kearny St</td>\n",
       "      <td>2019-05-20 09:20:01.6240</td>\n",
       "      <td>NaN</td>\n",
       "      <td>3.0</td>\n",
       "      <td>37.786375</td>\n",
       "      <td>-122.404904</td>\n",
       "      <td>Powell St BART Station (Market St at 4th St)</td>\n",
       "      <td>2019-05-20 09:09:08.1820</td>\n",
       "      <td>Customer</td>\n",
       "    </tr>\n",
       "    <tr>\n",
       "      <td>1530661</td>\n",
       "      <td>289</td>\n",
       "      <td>Yes</td>\n",
       "      <td>1022</td>\n",
       "      <td>253.0</td>\n",
       "      <td>37.866418</td>\n",
       "      <td>-122.253799</td>\n",
       "      <td>Haste St at College Ave</td>\n",
       "      <td>2019-08-27 21:06:17.9050</td>\n",
       "      <td>NaN</td>\n",
       "      <td>252.0</td>\n",
       "      <td>37.865847</td>\n",
       "      <td>-122.267443</td>\n",
       "      <td>Channing Way at Shattuck Ave</td>\n",
       "      <td>2019-08-27 20:49:15.6360</td>\n",
       "      <td>Subscriber</td>\n",
       "    </tr>\n",
       "    <tr>\n",
       "      <td>2264502</td>\n",
       "      <td>10281</td>\n",
       "      <td>No</td>\n",
       "      <td>867</td>\n",
       "      <td>242.0</td>\n",
       "      <td>37.860125</td>\n",
       "      <td>-122.269384</td>\n",
       "      <td>Milvia St at Derby St</td>\n",
       "      <td>2019-11-13 20:54:28.8460</td>\n",
       "      <td>NaN</td>\n",
       "      <td>244.0</td>\n",
       "      <td>37.873676</td>\n",
       "      <td>-122.268487</td>\n",
       "      <td>Shattuck Ave at Hearst Ave</td>\n",
       "      <td>2019-11-13 20:40:01.1150</td>\n",
       "      <td>Subscriber</td>\n",
       "    </tr>\n",
       "  </tbody>\n",
       "</table>\n",
       "</div>"
      ],
      "text/plain": [
       "         bike_id bike_share_for_all_trip  duration_sec  end_station_id  \\\n",
       "1793480    10929                      No           788            66.0   \n",
       "2032561       76                      No           535            66.0   \n",
       "1621706     2966                      No          1561            10.0   \n",
       "840748      5041                      No           330            43.0   \n",
       "1166578     2101                      No           542            41.0   \n",
       "470990      6759                      No          1238           109.0   \n",
       "447073       361                      No          7712            74.0   \n",
       "942190      2955                      No           653            10.0   \n",
       "1530661      289                     Yes          1022           253.0   \n",
       "2264502    10281                      No           867           242.0   \n",
       "\n",
       "         end_station_latitude  end_station_longitude  \\\n",
       "1793480             37.778742            -122.392741   \n",
       "2032561             37.778742            -122.392741   \n",
       "1621706             37.795393            -122.404770   \n",
       "840748              37.778768            -122.415929   \n",
       "1166578             37.781270            -122.418740   \n",
       "470990              37.763316            -122.421904   \n",
       "447073              37.776435            -122.426244   \n",
       "942190              37.795393            -122.404770   \n",
       "1530661             37.866418            -122.253799   \n",
       "2264502             37.860125            -122.269384   \n",
       "\n",
       "                                          end_station_name  \\\n",
       "1793480                              3rd St at Townsend St   \n",
       "2032561                              3rd St at Townsend St   \n",
       "1621706                         Washington St at Kearny St   \n",
       "840748   San Francisco Public Library (Grove St at Hyde...   \n",
       "1166578                         Golden Gate Ave at Polk St   \n",
       "470990                              17th St at Valencia St   \n",
       "447073                               Laguna St at Hayes St   \n",
       "942190                          Washington St at Kearny St   \n",
       "1530661                            Haste St at College Ave   \n",
       "2264502                              Milvia St at Derby St   \n",
       "\n",
       "                         end_time rental_access_method  start_station_id  \\\n",
       "1793480  2019-09-20 08:16:37.8430                  NaN              76.0   \n",
       "2032561  2019-10-18 14:55:31.8500                  NaN              78.0   \n",
       "1621706  2019-08-14 19:21:19.4540                  NaN              60.0   \n",
       "840748   2019-04-04 07:14:00.3520                  NaN             365.0   \n",
       "1166578  2019-06-12 17:13:35.8590                  NaN              88.0   \n",
       "470990   2019-03-20 17:07:11.7310                  NaN              20.0   \n",
       "447073   2019-03-23 12:53:46.2190                  NaN             108.0   \n",
       "942190   2019-05-20 09:20:01.6240                  NaN               3.0   \n",
       "1530661  2019-08-27 21:06:17.9050                  NaN             252.0   \n",
       "2264502  2019-11-13 20:54:28.8460                  NaN             244.0   \n",
       "\n",
       "         start_station_latitude  start_station_longitude  \\\n",
       "1793480               37.771662              -122.422423   \n",
       "2032561               37.773717              -122.411647   \n",
       "1621706               37.774520              -122.409449   \n",
       "840748                37.780450              -122.431946   \n",
       "1166578               37.770030              -122.411726   \n",
       "470990                37.791300              -122.399051   \n",
       "447073                37.764710              -122.419957   \n",
       "942190                37.786375              -122.404904   \n",
       "1530661               37.865847              -122.267443   \n",
       "2264502               37.873676              -122.268487   \n",
       "\n",
       "                                      start_station_name  \\\n",
       "1793480                       McCoppin St at Valencia St   \n",
       "2032561                              Folsom St at 9th St   \n",
       "1621706                             8th St at Ringold St   \n",
       "840748                            Turk St at Fillmore St   \n",
       "1166578                             11th St at Bryant St   \n",
       "470990   Mechanics Monument Plaza (Market St at Bush St)   \n",
       "447073                              16th St Mission BART   \n",
       "942190      Powell St BART Station (Market St at 4th St)   \n",
       "1530661                     Channing Way at Shattuck Ave   \n",
       "2264502                       Shattuck Ave at Hearst Ave   \n",
       "\n",
       "                       start_time   user_type  \n",
       "1793480  2019-09-20 08:03:28.8610  Subscriber  \n",
       "2032561  2019-10-18 14:46:35.9990  Subscriber  \n",
       "1621706  2019-08-14 18:55:18.1330    Customer  \n",
       "840748   2019-04-04 07:08:30.2020  Subscriber  \n",
       "1166578  2019-06-12 17:04:33.1250  Subscriber  \n",
       "470990   2019-03-20 16:46:33.5430  Subscriber  \n",
       "447073   2019-03-23 10:45:14.1170    Customer  \n",
       "942190   2019-05-20 09:09:08.1820    Customer  \n",
       "1530661  2019-08-27 20:49:15.6360  Subscriber  \n",
       "2264502  2019-11-13 20:40:01.1150  Subscriber  "
      ]
     },
     "execution_count": 7,
     "metadata": {},
     "output_type": "execute_result"
    }
   ],
   "source": [
    "#Retrieve the first 10 samples of the data\n",
    "df.sample(10)\n"
   ]
  },
  {
   "cell_type": "code",
   "execution_count": 8,
   "metadata": {},
   "outputs": [
    {
     "name": "stdout",
     "output_type": "stream",
     "text": [
      "<class 'pandas.core.frame.DataFrame'>\n",
      "RangeIndex: 2506983 entries, 0 to 2506982\n",
      "Data columns (total 15 columns):\n",
      "bike_id                    2506983 non-null int64\n",
      "bike_share_for_all_trip    2263724 non-null object\n",
      "duration_sec               2506983 non-null int64\n",
      "end_station_id             2424081 non-null float64\n",
      "end_station_latitude       2506983 non-null float64\n",
      "end_station_longitude      2506983 non-null float64\n",
      "end_station_name           2424633 non-null object\n",
      "end_time                   2506983 non-null object\n",
      "rental_access_method       120838 non-null object\n",
      "start_station_id           2426249 non-null float64\n",
      "start_station_latitude     2506983 non-null float64\n",
      "start_station_longitude    2506983 non-null float64\n",
      "start_station_name         2426850 non-null object\n",
      "start_time                 2506983 non-null object\n",
      "user_type                  2506983 non-null object\n",
      "dtypes: float64(6), int64(2), object(7)\n",
      "memory usage: 286.9+ MB\n"
     ]
    }
   ],
   "source": [
    "df.info(null_counts = True)"
   ]
  },
  {
   "cell_type": "code",
   "execution_count": 9,
   "metadata": {},
   "outputs": [
    {
     "data": {
      "text/plain": [
       "bike_id                          0\n",
       "bike_share_for_all_trip     243259\n",
       "duration_sec                     0\n",
       "end_station_id               82902\n",
       "end_station_latitude             0\n",
       "end_station_longitude            0\n",
       "end_station_name             82350\n",
       "end_time                         0\n",
       "rental_access_method       2386145\n",
       "start_station_id             80734\n",
       "start_station_latitude           0\n",
       "start_station_longitude          0\n",
       "start_station_name           80133\n",
       "start_time                       0\n",
       "user_type                        0\n",
       "dtype: int64"
      ]
     },
     "execution_count": 9,
     "metadata": {},
     "output_type": "execute_result"
    }
   ],
   "source": [
    "df.isnull().sum()\n"
   ]
  },
  {
   "cell_type": "code",
   "execution_count": 10,
   "metadata": {},
   "outputs": [
    {
     "data": {
      "text/plain": [
       "0"
      ]
     },
     "execution_count": 10,
     "metadata": {},
     "output_type": "execute_result"
    }
   ],
   "source": [
    "# Check dataset for duplicated data\n",
    "df.duplicated().sum()\n"
   ]
  },
  {
   "cell_type": "markdown",
   "metadata": {},
   "source": [
    "### Store Data"
   ]
  },
  {
   "cell_type": "code",
   "execution_count": 11,
   "metadata": {},
   "outputs": [],
   "source": [
    "# Save the original data set and create a copy \n",
    "df_cleaned = df.copy()"
   ]
  },
  {
   "cell_type": "markdown",
   "metadata": {},
   "source": [
    "### Step 3. Cleaning Data \n",
    "There are some missing values in the dataset, such as start_station_id, start_station_name, end_station_id, end_station_name, rental_access_method. For more information please see below:\n",
    "\n",
    "* start_station_id\n",
    "* end_station_id\n",
    "* bike_id\n",
    "* user_type\n",
    "* rental_access_method\n",
    "\n"
   ]
  },
  {
   "cell_type": "markdown",
   "metadata": {},
   "source": [
    "### Define\n",
    "\n",
    ">Calculate the total distance traveled using the latitude and longitude in the data set"
   ]
  },
  {
   "cell_type": "markdown",
   "metadata": {},
   "source": [
    "### Code"
   ]
  },
  {
   "cell_type": "code",
   "execution_count": 13,
   "metadata": {},
   "outputs": [],
   "source": [
    "import math\n",
    "from math import radians, sin, cos, acos\n",
    "\n",
    "def distance(origin, destination):\n",
    "    lat1, long1 = origin\n",
    "    lat2, long2 = destination\n",
    "    radius = 6371 # this is in kms\n",
    "    dlat = math.radians(lat2 - lat1)\n",
    "    dlong = math.radians(long2 - long1)\n",
    "    x = (math.sin(dlat / 2) * math.sin(dlat / 2) + math.cos(math.radians(lat1)) \n",
    "         * math.cos(math.radians(lat2)) * math.sin(dlong / 2) * math.sin(dlong / 2))\n",
    "    y = 2 * math.atan2(math.sqrt(x), math.sqrt(1 - x))\n",
    "    z = radius * y\n",
    "    return z"
   ]
  },
  {
   "cell_type": "code",
   "execution_count": 14,
   "metadata": {},
   "outputs": [],
   "source": [
    "# Using the calcuated math on the columns for latidue and longitude\n",
    "df_cleaned['distance_km'] = df_cleaned.apply(lambda x: distance((x['start_station_latitude'], x['start_station_longitude']), (x['end_station_latitude'], x['end_station_longitude'])), axis=1)"
   ]
  },
  {
   "cell_type": "code",
   "execution_count": 15,
   "metadata": {},
   "outputs": [],
   "source": [
    "# Converting the kilometers to miles\n",
    "df_cleaned['distance_miles'] = df_cleaned['distance_km'] * 0.621371"
   ]
  },
  {
   "cell_type": "markdown",
   "metadata": {},
   "source": [
    "### Test"
   ]
  },
  {
   "cell_type": "code",
   "execution_count": 16,
   "metadata": {},
   "outputs": [
    {
     "data": {
      "text/html": [
       "<div>\n",
       "<style scoped>\n",
       "    .dataframe tbody tr th:only-of-type {\n",
       "        vertical-align: middle;\n",
       "    }\n",
       "\n",
       "    .dataframe tbody tr th {\n",
       "        vertical-align: top;\n",
       "    }\n",
       "\n",
       "    .dataframe thead th {\n",
       "        text-align: right;\n",
       "    }\n",
       "</style>\n",
       "<table border=\"1\" class=\"dataframe\">\n",
       "  <thead>\n",
       "    <tr style=\"text-align: right;\">\n",
       "      <th></th>\n",
       "      <th>bike_id</th>\n",
       "      <th>bike_share_for_all_trip</th>\n",
       "      <th>duration_sec</th>\n",
       "      <th>end_station_id</th>\n",
       "      <th>end_station_latitude</th>\n",
       "      <th>end_station_longitude</th>\n",
       "      <th>end_station_name</th>\n",
       "      <th>end_time</th>\n",
       "      <th>rental_access_method</th>\n",
       "      <th>start_station_id</th>\n",
       "      <th>start_station_latitude</th>\n",
       "      <th>start_station_longitude</th>\n",
       "      <th>start_station_name</th>\n",
       "      <th>start_time</th>\n",
       "      <th>user_type</th>\n",
       "      <th>distance_km</th>\n",
       "      <th>distance_miles</th>\n",
       "    </tr>\n",
       "  </thead>\n",
       "  <tbody>\n",
       "    <tr>\n",
       "      <td>660077</td>\n",
       "      <td>75</td>\n",
       "      <td>Yes</td>\n",
       "      <td>591</td>\n",
       "      <td>363.0</td>\n",
       "      <td>37.787492</td>\n",
       "      <td>-122.398285</td>\n",
       "      <td>Salesforce Transit Center (Natoma St at 2nd St)</td>\n",
       "      <td>2019-04-26 09:24:01.7690</td>\n",
       "      <td>NaN</td>\n",
       "      <td>368.0</td>\n",
       "      <td>37.785434</td>\n",
       "      <td>-122.419622</td>\n",
       "      <td>Myrtle St at Polk St</td>\n",
       "      <td>2019-04-26 09:14:10.7530</td>\n",
       "      <td>Subscriber</td>\n",
       "      <td>1.888953</td>\n",
       "      <td>1.173740</td>\n",
       "    </tr>\n",
       "    <tr>\n",
       "      <td>1336261</td>\n",
       "      <td>1543</td>\n",
       "      <td>No</td>\n",
       "      <td>585</td>\n",
       "      <td>90.0</td>\n",
       "      <td>37.771058</td>\n",
       "      <td>-122.402717</td>\n",
       "      <td>Townsend St at 7th St</td>\n",
       "      <td>2019-07-15 10:27:06.1870</td>\n",
       "      <td>NaN</td>\n",
       "      <td>23.0</td>\n",
       "      <td>37.791464</td>\n",
       "      <td>-122.391034</td>\n",
       "      <td>The Embarcadero at Steuart St</td>\n",
       "      <td>2019-07-15 10:17:20.9640</td>\n",
       "      <td>Subscriber</td>\n",
       "      <td>2.490534</td>\n",
       "      <td>1.547546</td>\n",
       "    </tr>\n",
       "    <tr>\n",
       "      <td>497723</td>\n",
       "      <td>5935</td>\n",
       "      <td>No</td>\n",
       "      <td>177</td>\n",
       "      <td>44.0</td>\n",
       "      <td>37.781074</td>\n",
       "      <td>-122.411738</td>\n",
       "      <td>Civic Center/UN Plaza BART Station (Market St ...</td>\n",
       "      <td>2019-03-18 07:48:46.6960</td>\n",
       "      <td>NaN</td>\n",
       "      <td>44.0</td>\n",
       "      <td>37.781074</td>\n",
       "      <td>-122.411738</td>\n",
       "      <td>Civic Center/UN Plaza BART Station (Market St ...</td>\n",
       "      <td>2019-03-18 07:45:49.4540</td>\n",
       "      <td>Subscriber</td>\n",
       "      <td>0.000000</td>\n",
       "      <td>0.000000</td>\n",
       "    </tr>\n",
       "    <tr>\n",
       "      <td>987539</td>\n",
       "      <td>498</td>\n",
       "      <td>No</td>\n",
       "      <td>1165</td>\n",
       "      <td>3.0</td>\n",
       "      <td>37.786375</td>\n",
       "      <td>-122.404904</td>\n",
       "      <td>Powell St BART Station (Market St at 4th St)</td>\n",
       "      <td>2019-05-10 20:29:18.3070</td>\n",
       "      <td>NaN</td>\n",
       "      <td>6.0</td>\n",
       "      <td>37.804770</td>\n",
       "      <td>-122.403234</td>\n",
       "      <td>The Embarcadero at Sansome St</td>\n",
       "      <td>2019-05-10 20:09:52.8890</td>\n",
       "      <td>Subscriber</td>\n",
       "      <td>2.050660</td>\n",
       "      <td>1.274221</td>\n",
       "    </tr>\n",
       "    <tr>\n",
       "      <td>50779</td>\n",
       "      <td>5493</td>\n",
       "      <td>No</td>\n",
       "      <td>369</td>\n",
       "      <td>266.0</td>\n",
       "      <td>37.862464</td>\n",
       "      <td>-122.264791</td>\n",
       "      <td>Parker St at Fulton St</td>\n",
       "      <td>2019-01-25 17:33:56.8760</td>\n",
       "      <td>NaN</td>\n",
       "      <td>241.0</td>\n",
       "      <td>37.852477</td>\n",
       "      <td>-122.270213</td>\n",
       "      <td>Ashby BART Station</td>\n",
       "      <td>2019-01-25 17:27:47.8030</td>\n",
       "      <td>Subscriber</td>\n",
       "      <td>1.208310</td>\n",
       "      <td>0.750809</td>\n",
       "    </tr>\n",
       "  </tbody>\n",
       "</table>\n",
       "</div>"
      ],
      "text/plain": [
       "         bike_id bike_share_for_all_trip  duration_sec  end_station_id  \\\n",
       "660077        75                     Yes           591           363.0   \n",
       "1336261     1543                      No           585            90.0   \n",
       "497723      5935                      No           177            44.0   \n",
       "987539       498                      No          1165             3.0   \n",
       "50779       5493                      No           369           266.0   \n",
       "\n",
       "         end_station_latitude  end_station_longitude  \\\n",
       "660077              37.787492            -122.398285   \n",
       "1336261             37.771058            -122.402717   \n",
       "497723              37.781074            -122.411738   \n",
       "987539              37.786375            -122.404904   \n",
       "50779               37.862464            -122.264791   \n",
       "\n",
       "                                          end_station_name  \\\n",
       "660077     Salesforce Transit Center (Natoma St at 2nd St)   \n",
       "1336261                              Townsend St at 7th St   \n",
       "497723   Civic Center/UN Plaza BART Station (Market St ...   \n",
       "987539        Powell St BART Station (Market St at 4th St)   \n",
       "50779                               Parker St at Fulton St   \n",
       "\n",
       "                         end_time rental_access_method  start_station_id  \\\n",
       "660077   2019-04-26 09:24:01.7690                  NaN             368.0   \n",
       "1336261  2019-07-15 10:27:06.1870                  NaN              23.0   \n",
       "497723   2019-03-18 07:48:46.6960                  NaN              44.0   \n",
       "987539   2019-05-10 20:29:18.3070                  NaN               6.0   \n",
       "50779    2019-01-25 17:33:56.8760                  NaN             241.0   \n",
       "\n",
       "         start_station_latitude  start_station_longitude  \\\n",
       "660077                37.785434              -122.419622   \n",
       "1336261               37.791464              -122.391034   \n",
       "497723                37.781074              -122.411738   \n",
       "987539                37.804770              -122.403234   \n",
       "50779                 37.852477              -122.270213   \n",
       "\n",
       "                                        start_station_name  \\\n",
       "660077                                Myrtle St at Polk St   \n",
       "1336261                      The Embarcadero at Steuart St   \n",
       "497723   Civic Center/UN Plaza BART Station (Market St ...   \n",
       "987539                       The Embarcadero at Sansome St   \n",
       "50779                                   Ashby BART Station   \n",
       "\n",
       "                       start_time   user_type  distance_km  distance_miles  \n",
       "660077   2019-04-26 09:14:10.7530  Subscriber     1.888953        1.173740  \n",
       "1336261  2019-07-15 10:17:20.9640  Subscriber     2.490534        1.547546  \n",
       "497723   2019-03-18 07:45:49.4540  Subscriber     0.000000        0.000000  \n",
       "987539   2019-05-10 20:09:52.8890  Subscriber     2.050660        1.274221  \n",
       "50779    2019-01-25 17:27:47.8030  Subscriber     1.208310        0.750809  "
      ]
     },
     "execution_count": 16,
     "metadata": {},
     "output_type": "execute_result"
    }
   ],
   "source": [
    "df_cleaned.sample(5)"
   ]
  },
  {
   "cell_type": "markdown",
   "metadata": {},
   "source": [
    "### Define \n",
    "\n",
    "> Converting the Start_time and end_time to the timestamp format"
   ]
  },
  {
   "cell_type": "markdown",
   "metadata": {},
   "source": [
    "### Code"
   ]
  },
  {
   "cell_type": "code",
   "execution_count": 23,
   "metadata": {},
   "outputs": [],
   "source": [
    "# Converting the format to datetime\n",
    "df_cleaned.start_time = pd.to_datetime(df_cleaned.start_time)\n",
    "df_cleaned.end_time = pd.to_datetime(df_cleaned.end_time)"
   ]
  },
  {
   "cell_type": "markdown",
   "metadata": {},
   "source": [
    "### Test "
   ]
  },
  {
   "cell_type": "code",
   "execution_count": 24,
   "metadata": {},
   "outputs": [
    {
     "name": "stdout",
     "output_type": "stream",
     "text": [
      "<class 'pandas.core.frame.DataFrame'>\n",
      "RangeIndex: 2506983 entries, 0 to 2506982\n",
      "Data columns (total 17 columns):\n",
      "bike_id                    2506983 non-null int64\n",
      "bike_share_for_all_trip    2263724 non-null object\n",
      "duration_sec               2506983 non-null int64\n",
      "end_station_id             2424081 non-null float64\n",
      "end_station_latitude       2506983 non-null float64\n",
      "end_station_longitude      2506983 non-null float64\n",
      "end_station_name           2424633 non-null object\n",
      "end_time                   2506983 non-null datetime64[ns]\n",
      "rental_access_method       120838 non-null object\n",
      "start_station_id           2426249 non-null float64\n",
      "start_station_latitude     2506983 non-null float64\n",
      "start_station_longitude    2506983 non-null float64\n",
      "start_station_name         2426850 non-null object\n",
      "start_time                 2506983 non-null datetime64[ns]\n",
      "user_type                  2506983 non-null object\n",
      "distance_km                2506983 non-null float64\n",
      "distance_miles             2506983 non-null float64\n",
      "dtypes: datetime64[ns](2), float64(8), int64(2), object(5)\n",
      "memory usage: 325.2+ MB\n"
     ]
    }
   ],
   "source": [
    "df_cleaned.info(null_counts = True)\n"
   ]
  },
  {
   "cell_type": "markdown",
   "metadata": {},
   "source": [
    "## Define \n",
    "\n",
    ">Converting the User type and rental_access_method for all to category format\n"
   ]
  },
  {
   "cell_type": "markdown",
   "metadata": {},
   "source": [
    "## Code"
   ]
  },
  {
   "cell_type": "code",
   "execution_count": 26,
   "metadata": {},
   "outputs": [],
   "source": [
    "# Converting the user_type and rental_access_method to category format\n",
    "df_cleaned.user_type = df_cleaned.user_type.astype('category')\n",
    "df_cleaned.rental_access_method = df_cleaned.rental_access_method.astype('category')"
   ]
  },
  {
   "cell_type": "markdown",
   "metadata": {},
   "source": [
    "## Test"
   ]
  },
  {
   "cell_type": "code",
   "execution_count": 27,
   "metadata": {},
   "outputs": [
    {
     "name": "stdout",
     "output_type": "stream",
     "text": [
      "<class 'pandas.core.frame.DataFrame'>\n",
      "RangeIndex: 2506983 entries, 0 to 2506982\n",
      "Data columns (total 17 columns):\n",
      "bike_id                    2506983 non-null int64\n",
      "bike_share_for_all_trip    2263724 non-null object\n",
      "duration_sec               2506983 non-null int64\n",
      "end_station_id             2424081 non-null float64\n",
      "end_station_latitude       2506983 non-null float64\n",
      "end_station_longitude      2506983 non-null float64\n",
      "end_station_name           2424633 non-null object\n",
      "end_time                   2506983 non-null datetime64[ns]\n",
      "rental_access_method       120838 non-null category\n",
      "start_station_id           2426249 non-null float64\n",
      "start_station_latitude     2506983 non-null float64\n",
      "start_station_longitude    2506983 non-null float64\n",
      "start_station_name         2426850 non-null object\n",
      "start_time                 2506983 non-null datetime64[ns]\n",
      "user_type                  2506983 non-null category\n",
      "distance_km                2506983 non-null float64\n",
      "distance_miles             2506983 non-null float64\n",
      "dtypes: category(2), datetime64[ns](2), float64(8), int64(2), object(3)\n",
      "memory usage: 291.7+ MB\n"
     ]
    }
   ],
   "source": [
    "df_cleaned.info(null_counts = True)\n"
   ]
  },
  {
   "cell_type": "markdown",
   "metadata": {},
   "source": [
    "## Define\n",
    "\n",
    "> Convertng the bike_id, start_station_id, and end_station_id to object\n"
   ]
  },
  {
   "cell_type": "markdown",
   "metadata": {},
   "source": [
    "## Code"
   ]
  },
  {
   "cell_type": "code",
   "execution_count": 28,
   "metadata": {},
   "outputs": [],
   "source": [
    "# Convertng the bike_id, start_station_id, and end_station_id to object\n",
    "df_cleaned.bike_id = df_cleaned.bike_id.astype(str)\n",
    "df_cleaned.start_station_id = df_cleaned.start_station_id.astype(str)\n",
    "df_cleaned.end_station_id = df_cleaned.end_station_id.astype(str)"
   ]
  },
  {
   "cell_type": "markdown",
   "metadata": {},
   "source": [
    "## Test"
   ]
  },
  {
   "cell_type": "code",
   "execution_count": 29,
   "metadata": {},
   "outputs": [
    {
     "name": "stdout",
     "output_type": "stream",
     "text": [
      "<class 'pandas.core.frame.DataFrame'>\n",
      "RangeIndex: 2506983 entries, 0 to 2506982\n",
      "Data columns (total 17 columns):\n",
      "bike_id                    2506983 non-null object\n",
      "bike_share_for_all_trip    2263724 non-null object\n",
      "duration_sec               2506983 non-null int64\n",
      "end_station_id             2506983 non-null object\n",
      "end_station_latitude       2506983 non-null float64\n",
      "end_station_longitude      2506983 non-null float64\n",
      "end_station_name           2424633 non-null object\n",
      "end_time                   2506983 non-null datetime64[ns]\n",
      "rental_access_method       120838 non-null category\n",
      "start_station_id           2506983 non-null object\n",
      "start_station_latitude     2506983 non-null float64\n",
      "start_station_longitude    2506983 non-null float64\n",
      "start_station_name         2426850 non-null object\n",
      "start_time                 2506983 non-null datetime64[ns]\n",
      "user_type                  2506983 non-null category\n",
      "distance_km                2506983 non-null float64\n",
      "distance_miles             2506983 non-null float64\n",
      "dtypes: category(2), datetime64[ns](2), float64(6), int64(1), object(6)\n",
      "memory usage: 291.7+ MB\n"
     ]
    }
   ],
   "source": [
    "df_cleaned.info(null_counts = True)\n"
   ]
  },
  {
   "cell_type": "markdown",
   "metadata": {},
   "source": [
    "###  Define\n",
    "\n",
    ">Adding columns for the start month, days of the week to create data visualisations. "
   ]
  },
  {
   "cell_type": "markdown",
   "metadata": {},
   "source": [
    "### Code"
   ]
  },
  {
   "cell_type": "code",
   "execution_count": 34,
   "metadata": {},
   "outputs": [],
   "source": [
    "# Start time month from January through to December 2019\n",
    "df_cleaned['start_time_month'] = df_cleaned['start_time'].dt.strftime('%B')\n",
    "df_cleaned['start_time_month_number'] = df_cleaned['start_time'].dt.month.astype(int)\n",
    "df_cleaned['start_time_weekday'] = df_cleaned['start_time'].dt.strftime('%a')\n"
   ]
  },
  {
   "cell_type": "markdown",
   "metadata": {},
   "source": [
    "### Test"
   ]
  },
  {
   "cell_type": "code",
   "execution_count": 35,
   "metadata": {},
   "outputs": [
    {
     "data": {
      "text/html": [
       "<div>\n",
       "<style scoped>\n",
       "    .dataframe tbody tr th:only-of-type {\n",
       "        vertical-align: middle;\n",
       "    }\n",
       "\n",
       "    .dataframe tbody tr th {\n",
       "        vertical-align: top;\n",
       "    }\n",
       "\n",
       "    .dataframe thead th {\n",
       "        text-align: right;\n",
       "    }\n",
       "</style>\n",
       "<table border=\"1\" class=\"dataframe\">\n",
       "  <thead>\n",
       "    <tr style=\"text-align: right;\">\n",
       "      <th></th>\n",
       "      <th>bike_id</th>\n",
       "      <th>bike_share_for_all_trip</th>\n",
       "      <th>duration_sec</th>\n",
       "      <th>end_station_id</th>\n",
       "      <th>end_station_latitude</th>\n",
       "      <th>end_station_longitude</th>\n",
       "      <th>end_station_name</th>\n",
       "      <th>end_time</th>\n",
       "      <th>rental_access_method</th>\n",
       "      <th>start_station_id</th>\n",
       "      <th>...</th>\n",
       "      <th>start_station_longitude</th>\n",
       "      <th>start_station_name</th>\n",
       "      <th>start_time</th>\n",
       "      <th>user_type</th>\n",
       "      <th>distance_km</th>\n",
       "      <th>distance_miles</th>\n",
       "      <th>startTime_month</th>\n",
       "      <th>start_time_month</th>\n",
       "      <th>start_time_month_number</th>\n",
       "      <th>start_time_weekday</th>\n",
       "    </tr>\n",
       "  </thead>\n",
       "  <tbody>\n",
       "    <tr>\n",
       "      <td>376055</td>\n",
       "      <td>6571</td>\n",
       "      <td>No</td>\n",
       "      <td>1289</td>\n",
       "      <td>44.0</td>\n",
       "      <td>37.781074</td>\n",
       "      <td>-122.411738</td>\n",
       "      <td>Civic Center/UN Plaza BART Station (Market St ...</td>\n",
       "      <td>2019-03-31 20:29:17.591</td>\n",
       "      <td>NaN</td>\n",
       "      <td>95.0</td>\n",
       "      <td>...</td>\n",
       "      <td>-122.43106</td>\n",
       "      <td>Sanchez St at 15th St</td>\n",
       "      <td>2019-03-31 20:07:48.212</td>\n",
       "      <td>Subscriber</td>\n",
       "      <td>2.369062</td>\n",
       "      <td>1.472067</td>\n",
       "      <td>March</td>\n",
       "      <td>March</td>\n",
       "      <td>3</td>\n",
       "      <td>Sun</td>\n",
       "    </tr>\n",
       "    <tr>\n",
       "      <td>1786777</td>\n",
       "      <td>1546</td>\n",
       "      <td>No</td>\n",
       "      <td>683</td>\n",
       "      <td>212.0</td>\n",
       "      <td>37.824893</td>\n",
       "      <td>-122.260437</td>\n",
       "      <td>Mosswood Park</td>\n",
       "      <td>2019-09-20 19:02:28.270</td>\n",
       "      <td>NaN</td>\n",
       "      <td>171.0</td>\n",
       "      <td>...</td>\n",
       "      <td>-122.25190</td>\n",
       "      <td>Rockridge BART Station</td>\n",
       "      <td>2019-09-20 18:51:04.754</td>\n",
       "      <td>Customer</td>\n",
       "      <td>2.282277</td>\n",
       "      <td>1.418141</td>\n",
       "      <td>September</td>\n",
       "      <td>September</td>\n",
       "      <td>9</td>\n",
       "      <td>Fri</td>\n",
       "    </tr>\n",
       "    <tr>\n",
       "      <td>606011</td>\n",
       "      <td>6255</td>\n",
       "      <td>No</td>\n",
       "      <td>452</td>\n",
       "      <td>16.0</td>\n",
       "      <td>37.794130</td>\n",
       "      <td>-122.394430</td>\n",
       "      <td>Steuart St at Market St</td>\n",
       "      <td>2019-03-05 08:04:26.088</td>\n",
       "      <td>NaN</td>\n",
       "      <td>36.0</td>\n",
       "      <td>...</td>\n",
       "      <td>-122.39887</td>\n",
       "      <td>Folsom St at 3rd St</td>\n",
       "      <td>2019-03-05 07:56:53.929</td>\n",
       "      <td>Subscriber</td>\n",
       "      <td>1.209941</td>\n",
       "      <td>0.751822</td>\n",
       "      <td>March</td>\n",
       "      <td>March</td>\n",
       "      <td>3</td>\n",
       "      <td>Tue</td>\n",
       "    </tr>\n",
       "  </tbody>\n",
       "</table>\n",
       "<p>3 rows × 21 columns</p>\n",
       "</div>"
      ],
      "text/plain": [
       "        bike_id bike_share_for_all_trip  duration_sec end_station_id  \\\n",
       "376055     6571                      No          1289           44.0   \n",
       "1786777    1546                      No           683          212.0   \n",
       "606011     6255                      No           452           16.0   \n",
       "\n",
       "         end_station_latitude  end_station_longitude  \\\n",
       "376055              37.781074            -122.411738   \n",
       "1786777             37.824893            -122.260437   \n",
       "606011              37.794130            -122.394430   \n",
       "\n",
       "                                          end_station_name  \\\n",
       "376055   Civic Center/UN Plaza BART Station (Market St ...   \n",
       "1786777                                      Mosswood Park   \n",
       "606011                             Steuart St at Market St   \n",
       "\n",
       "                       end_time rental_access_method start_station_id  ...  \\\n",
       "376055  2019-03-31 20:29:17.591                  NaN             95.0  ...   \n",
       "1786777 2019-09-20 19:02:28.270                  NaN            171.0  ...   \n",
       "606011  2019-03-05 08:04:26.088                  NaN             36.0  ...   \n",
       "\n",
       "         start_station_longitude      start_station_name  \\\n",
       "376055                -122.43106   Sanchez St at 15th St   \n",
       "1786777               -122.25190  Rockridge BART Station   \n",
       "606011                -122.39887     Folsom St at 3rd St   \n",
       "\n",
       "                     start_time   user_type distance_km  distance_miles  \\\n",
       "376055  2019-03-31 20:07:48.212  Subscriber    2.369062        1.472067   \n",
       "1786777 2019-09-20 18:51:04.754    Customer    2.282277        1.418141   \n",
       "606011  2019-03-05 07:56:53.929  Subscriber    1.209941        0.751822   \n",
       "\n",
       "         startTime_month start_time_month start_time_month_number  \\\n",
       "376055             March            March                       3   \n",
       "1786777        September        September                       9   \n",
       "606011             March            March                       3   \n",
       "\n",
       "         start_time_weekday  \n",
       "376055                  Sun  \n",
       "1786777                 Fri  \n",
       "606011                  Tue  \n",
       "\n",
       "[3 rows x 21 columns]"
      ]
     },
     "execution_count": 35,
     "metadata": {},
     "output_type": "execute_result"
    }
   ],
   "source": [
    "df_cleaned.sample(3)\n"
   ]
  },
  {
   "cell_type": "markdown",
   "metadata": {},
   "source": [
    "###  Define\n",
    "\n",
    ">Adding columns for the  of the week to create data visualisations. "
   ]
  },
  {
   "cell_type": "markdown",
   "metadata": {},
   "source": [
    "### Code"
   ]
  },
  {
   "cell_type": "code",
   "execution_count": 36,
   "metadata": {},
   "outputs": [],
   "source": [
    "# Start and end time hour\n",
    "df_cleaned['start_time_hour'] = df_cleaned['start_time'].dt.hour\n",
    "df_cleaned['end_time_hour'] = df_cleaned['end_time'].dt.hour\n",
    "# Duration in seconds to duration in minutes\n",
    "df_cleaned['duration_min'] = df_cleaned['duration_sec']/60\n",
    "df_cleaned['duration_min'] = df_cleaned['duration_min'].astype(int)\n"
   ]
  },
  {
   "cell_type": "markdown",
   "metadata": {},
   "source": [
    "### Test"
   ]
  },
  {
   "cell_type": "code",
   "execution_count": 37,
   "metadata": {},
   "outputs": [
    {
     "data": {
      "text/html": [
       "<div>\n",
       "<style scoped>\n",
       "    .dataframe tbody tr th:only-of-type {\n",
       "        vertical-align: middle;\n",
       "    }\n",
       "\n",
       "    .dataframe tbody tr th {\n",
       "        vertical-align: top;\n",
       "    }\n",
       "\n",
       "    .dataframe thead th {\n",
       "        text-align: right;\n",
       "    }\n",
       "</style>\n",
       "<table border=\"1\" class=\"dataframe\">\n",
       "  <thead>\n",
       "    <tr style=\"text-align: right;\">\n",
       "      <th></th>\n",
       "      <th>bike_id</th>\n",
       "      <th>bike_share_for_all_trip</th>\n",
       "      <th>duration_sec</th>\n",
       "      <th>end_station_id</th>\n",
       "      <th>end_station_latitude</th>\n",
       "      <th>end_station_longitude</th>\n",
       "      <th>end_station_name</th>\n",
       "      <th>end_time</th>\n",
       "      <th>rental_access_method</th>\n",
       "      <th>start_station_id</th>\n",
       "      <th>...</th>\n",
       "      <th>user_type</th>\n",
       "      <th>distance_km</th>\n",
       "      <th>distance_miles</th>\n",
       "      <th>startTime_month</th>\n",
       "      <th>start_time_month</th>\n",
       "      <th>start_time_month_number</th>\n",
       "      <th>start_time_weekday</th>\n",
       "      <th>start_time_hour</th>\n",
       "      <th>end_time_hour</th>\n",
       "      <th>duration_min</th>\n",
       "    </tr>\n",
       "  </thead>\n",
       "  <tbody>\n",
       "    <tr>\n",
       "      <td>998507</td>\n",
       "      <td>535</td>\n",
       "      <td>No</td>\n",
       "      <td>374</td>\n",
       "      <td>80.0</td>\n",
       "      <td>37.775235</td>\n",
       "      <td>-122.397437</td>\n",
       "      <td>Townsend St at 5th St</td>\n",
       "      <td>2019-05-09 11:01:19.910</td>\n",
       "      <td>NaN</td>\n",
       "      <td>60.0</td>\n",
       "      <td>...</td>\n",
       "      <td>Subscriber</td>\n",
       "      <td>1.058757</td>\n",
       "      <td>0.657881</td>\n",
       "      <td>May</td>\n",
       "      <td>May</td>\n",
       "      <td>5</td>\n",
       "      <td>Thu</td>\n",
       "      <td>10</td>\n",
       "      <td>11</td>\n",
       "      <td>6</td>\n",
       "    </tr>\n",
       "    <tr>\n",
       "      <td>1595075</td>\n",
       "      <td>1515</td>\n",
       "      <td>No</td>\n",
       "      <td>497</td>\n",
       "      <td>11.0</td>\n",
       "      <td>37.797280</td>\n",
       "      <td>-122.398436</td>\n",
       "      <td>Davis St at Jackson St</td>\n",
       "      <td>2019-08-19 08:26:44.262</td>\n",
       "      <td>NaN</td>\n",
       "      <td>24.0</td>\n",
       "      <td>...</td>\n",
       "      <td>Subscriber</td>\n",
       "      <td>1.099932</td>\n",
       "      <td>0.683466</td>\n",
       "      <td>August</td>\n",
       "      <td>August</td>\n",
       "      <td>8</td>\n",
       "      <td>Mon</td>\n",
       "      <td>8</td>\n",
       "      <td>8</td>\n",
       "      <td>8</td>\n",
       "    </tr>\n",
       "    <tr>\n",
       "      <td>1751543</td>\n",
       "      <td>9722</td>\n",
       "      <td>No</td>\n",
       "      <td>1035</td>\n",
       "      <td>22.0</td>\n",
       "      <td>37.789756</td>\n",
       "      <td>-122.394643</td>\n",
       "      <td>Howard St at Beale St</td>\n",
       "      <td>2019-09-25 17:21:56.089</td>\n",
       "      <td>NaN</td>\n",
       "      <td>90.0</td>\n",
       "      <td>...</td>\n",
       "      <td>Subscriber</td>\n",
       "      <td>2.196874</td>\n",
       "      <td>1.365074</td>\n",
       "      <td>September</td>\n",
       "      <td>September</td>\n",
       "      <td>9</td>\n",
       "      <td>Wed</td>\n",
       "      <td>17</td>\n",
       "      <td>17</td>\n",
       "      <td>17</td>\n",
       "    </tr>\n",
       "  </tbody>\n",
       "</table>\n",
       "<p>3 rows × 24 columns</p>\n",
       "</div>"
      ],
      "text/plain": [
       "        bike_id bike_share_for_all_trip  duration_sec end_station_id  \\\n",
       "998507      535                      No           374           80.0   \n",
       "1595075    1515                      No           497           11.0   \n",
       "1751543    9722                      No          1035           22.0   \n",
       "\n",
       "         end_station_latitude  end_station_longitude        end_station_name  \\\n",
       "998507              37.775235            -122.397437   Townsend St at 5th St   \n",
       "1595075             37.797280            -122.398436  Davis St at Jackson St   \n",
       "1751543             37.789756            -122.394643   Howard St at Beale St   \n",
       "\n",
       "                       end_time rental_access_method start_station_id  ...  \\\n",
       "998507  2019-05-09 11:01:19.910                  NaN             60.0  ...   \n",
       "1595075 2019-08-19 08:26:44.262                  NaN             24.0  ...   \n",
       "1751543 2019-09-25 17:21:56.089                  NaN             90.0  ...   \n",
       "\n",
       "          user_type  distance_km distance_miles startTime_month  \\\n",
       "998507   Subscriber     1.058757       0.657881             May   \n",
       "1595075  Subscriber     1.099932       0.683466          August   \n",
       "1751543  Subscriber     2.196874       1.365074       September   \n",
       "\n",
       "        start_time_month  start_time_month_number  start_time_weekday  \\\n",
       "998507               May                        5                 Thu   \n",
       "1595075           August                        8                 Mon   \n",
       "1751543        September                        9                 Wed   \n",
       "\n",
       "        start_time_hour end_time_hour  duration_min  \n",
       "998507               10            11             6  \n",
       "1595075               8             8             8  \n",
       "1751543              17            17            17  \n",
       "\n",
       "[3 rows x 24 columns]"
      ]
     },
     "execution_count": 37,
     "metadata": {},
     "output_type": "execute_result"
    }
   ],
   "source": [
    "df_cleaned.sample(3)\n"
   ]
  },
  {
   "cell_type": "markdown",
   "metadata": {},
   "source": [
    "### Store Data"
   ]
  },
  {
   "cell_type": "code",
   "execution_count": 38,
   "metadata": {},
   "outputs": [],
   "source": [
    "#Store data into Master file ('baywheels_master_clean.csv)\n",
    "df_cleaned.to_csv('baywheels_master_clean.csv', index = False)\n"
   ]
  },
  {
   "cell_type": "markdown",
   "metadata": {},
   "source": [
    "### What is the structure of your dataset?\n",
    "\n",
    "The FordGoBike and BayWheels Datasets provide a valuable collection of data to work with in order draw data findings and a conclusion. This notebook uses data collected from January 2019 which the organisation was still using the naming structure FordGoBike until May 2019 and then changed its naming structure December 2019. There have been some anomity changes in the dataset and can no longer be distinguish by genderm work or ethnicity data. \n",
    "\n",
    "\n",
    "> The dataset has 25000+ bike rides that had happened in 2019. \n",
    "\n",
    "### The dataset contained features about:\n",
    "\n",
    "* trip duration\n",
    "* start time/end time\n",
    "* stations: start/end station, name, geolocation (latitude/longitude)\n",
    "* anonymized customer data: The users are divided into two user types: Subscriber and Customer\n",
    "* rented bikes: bike_id \n",
    "\n",
    "\n",
    "### The following columns that were added in the data cleaning phase:\n",
    "\n",
    "\n",
    "* Start Time Month\n",
    "* Start Time Month Number\n",
    "* Start Time Day of the Week\n",
    "* Start Time Hour\n",
    "* Distance (km)\n",
    "* Distance (miles)\n",
    "  \n",
    "\n",
    "### What is/are the main feature(s) of interest in your dataset?\n",
    "\n",
    "> I am interested in investigate the main features which include data that is related to the start time and end time of a ride. \n",
    "\n",
    "### What features in the dataset do you think will help support your investigation into your feature(s) of interest?\n",
    "\n",
    "> The features in the dataset that I think will ehance my investigation would be looking at the start times and end times as well as any related time-based information. "
   ]
  },
  {
   "cell_type": "markdown",
   "metadata": {},
   "source": [
    "## Step 4. Univariate Exploration\n",
    "\n",
    "> In this section, investigate distributions of individual variables. If\n",
    "you see unusual points or outliers, take a deeper look to clean things up\n",
    "and prepare yourself to look at relationships between variables."
   ]
  },
  {
   "cell_type": "code",
   "execution_count": 40,
   "metadata": {},
   "outputs": [
    {
     "data": {
      "text/plain": [
       "<seaborn.axisgrid.FacetGrid at 0x1f68b1ca448>"
      ]
     },
     "execution_count": 40,
     "metadata": {},
     "output_type": "execute_result"
    },
    {
     "data": {
      "image/png": "[encoded data removed]",
      "text/plain": [
       "<Figure size 648x360 with 1 Axes>"
      ]
     },
     "metadata": {
      "needs_background": "light"
     },
     "output_type": "display_data"
    }
   ],
   "source": [
    "#Display monthly Ford Go Bike sharing system\n",
    "graph = sb.catplot(data = df_cleaned, x = 'start_time_month', \n",
    "                   kind = 'count', aspect = 1.8);\n",
    "graph.set_axis_labels('Months in 2019','Number of Trips'),\n",
    "graph.fig.suptitle('Ford GoBikes System Usage by Month',\n",
    "                   y = 1.07, fontsize = 18, fontweight = 'bold');\n",
    "graph.set_xticklabels(rotation=80)"
   ]
  },
  {
   "cell_type": "markdown",
   "metadata": {},
   "source": [
    "### Ford GoBike Usage by Month\n",
    "\n",
    "> In the Bay Area, July which is in Summer in the Northen Hemispher is the most popular time to use the Ford Go Bike sharing system. March is also the second most popular time to use the Ford Go Bike sharing system in the Bay Area. \n",
    "\n",
    ">While December which is Winter time in the Northern Hemisphere, is the least popular time to use the Ford Go Bike Sharing System. Therefore, there will be more bikes available due to the usuage of bikes not been used around the Christmas Holidays. "
   ]
  },
  {
   "cell_type": "code",
   "execution_count": 41,
   "metadata": {},
   "outputs": [
    {
     "data": {
      "image/png": "[encoded data removed]",
      "text/plain": [
       "<Figure size 360x360 with 1 Axes>"
      ]
     },
     "metadata": {
      "needs_background": "light"
     },
     "output_type": "display_data"
    }
   ],
   "source": [
    "# Weekly usage of the Ford Go bike sharing system\n",
    "days_of_the_week = ['Mon', 'Tue', 'Wed', 'Thu', 'Fri', 'Sat', 'Sun']\n",
    "graph = sb.catplot(data=df_cleaned, x='start_time_weekday', \n",
    "                   kind='count', order = days_of_the_week)\n",
    "graph.set_axis_labels('Days of the Week', 'Number of Trips')\n",
    "graph.fig.suptitle('Ford GoBikes Usage by Day of the Week ',\n",
    "                   y=1.07, fontsize=16, fontweight='bold');\n",
    "graph.set_xticklabels(rotation=80);"
   ]
  },
  {
   "cell_type": "markdown",
   "metadata": {},
   "source": [
    "### Usage by Days of the Week\n",
    "\n",
    "In 2019, Monday through Friday has heavy usage in hiring bikes from the Ford Go Bike sharing system in the Bay Area. \n",
    "The usage drops significantly on the weekend where Saturday and Sunday. The data suggests that the Ford Go Bike sharing system is mainly used during the week. "
   ]
  },
  {
   "cell_type": "code",
   "execution_count": 42,
   "metadata": {},
   "outputs": [
    {
     "data": {
      "text/plain": [
       "count    2.506983e+06\n",
       "mean     1.296946e+01\n",
       "std      3.291311e+01\n",
       "min      1.000000e+00\n",
       "25%      5.000000e+00\n",
       "50%      9.000000e+00\n",
       "75%      1.400000e+01\n",
       "max      1.520100e+04\n",
       "Name: duration_min, dtype: float64"
      ]
     },
     "execution_count": 42,
     "metadata": {},
     "output_type": "execute_result"
    }
   ],
   "source": [
    "#Finding the distribution\n",
    "df_cleaned.duration_min.describe(percentiles = [.95])\n",
    "df_cleaned.duration_min.describe()"
   ]
  },
  {
   "cell_type": "code",
   "execution_count": 31,
   "metadata": {},
   "outputs": [
    {
     "data": {
      "text/plain": [
       "13.46080549808363"
      ]
     },
     "execution_count": 31,
     "metadata": {},
     "output_type": "execute_result"
    }
   ],
   "source": [
    "#Find out the average trip\n",
    "df_cleaned.duration_min.mean()\n"
   ]
  },
  {
   "cell_type": "code",
   "execution_count": 43,
   "metadata": {},
   "outputs": [
    {
     "data": {
      "image/png": "[encoded data removed]",
      "text/plain": [
       "<Figure size 432x288 with 1 Axes>"
      ]
     },
     "metadata": {
      "needs_background": "light"
     },
     "output_type": "display_data"
    }
   ],
   "source": [
    "# Display the duration bike rides in minutes \n",
    "bins = 10**np.arange(0 , 3 + 0.1 , 0.1)\n",
    "ticks =  [ 1 , 3, 10, 30, 100, 300, 1000]\n",
    "labels = ['{}'.format(t) for t in ticks]\n",
    "plt.hist(data = df_cleaned , x = 'duration_min' , bins = bins);\n",
    "plt.xscale('log');\n",
    "plt.xticks(ticks,labels);\n",
    "plt.xlabel('Duration (Minutes)');\n",
    "plt.title('Ford GoBikes Average Bike Trip Duration in Minutes');\n",
    "plt.ylabel('Number of Trips');"
   ]
  },
  {
   "cell_type": "markdown",
   "metadata": {},
   "source": [
    "### Duration of Bike Trips in Ford Go Bike System\n",
    "\n",
    "> In 2019, the average duration of bike trips was under 13.46 minutes. \n"
   ]
  },
  {
   "cell_type": "code",
   "execution_count": 44,
   "metadata": {},
   "outputs": [
    {
     "data": {
      "image/png": "[encoded data removed]",
      "text/plain": [
       "<Figure size 432x288 with 1 Axes>"
      ]
     },
     "metadata": {
      "needs_background": "light"
     },
     "output_type": "display_data"
    }
   ],
   "source": [
    "# Plotting start station id distribution.\n",
    "bin_edges = np.arange(0, 45, 1)\n",
    "ticks = [0, 5, 10, 15, 20, 25, 30,  35, 40, 45]\n",
    "labels = ['{}'.format(val) for val in ticks]\n",
    "plt.hist(data = df_cleaned, x = 'start_station_id', \n",
    "         bins = bin_edges, rwidth = 0.6);\n",
    "plt.title(\"Distribution of Start Stations\", y=1.05, \n",
    "          fontsize=16, fontweight='bold')\n",
    "plt.xlabel('Ford Go Bikes Start Station')\n",
    "plt.xticks(ticks, labels)\n",
    "plt.ylabel('Number of Stations');\n",
    "graph.set_xticklabels(rotation=80);\n",
    "\n",
    "\n",
    "     "
   ]
  },
  {
   "cell_type": "code",
   "execution_count": 45,
   "metadata": {},
   "outputs": [
    {
     "data": {
      "image/png": "[encoded data removed]",
      "text/plain": [
       "<Figure size 432x288 with 1 Axes>"
      ]
     },
     "metadata": {
      "needs_background": "light"
     },
     "output_type": "display_data"
    }
   ],
   "source": [
    "# Plotting end station id distribution.\n",
    "bin_edges = np.arange(0, 45, 1)\n",
    "ticks = [0, 5, 10, 15, 20, 25, 30,  35, 40, 45]\n",
    "labels = ['{}'.format(val) for val in ticks]\n",
    "plt.hist(data = df_cleaned, x = 'end_station_id', \n",
    "         bins = bin_edges, rwidth = 0.6);\n",
    "plt.title(\"Ford Go Bikes Distribution of End Stations\", y=1.05, \n",
    "          fontsize=16, fontweight='bold')\n",
    "plt.xlabel('End Station')\n",
    "plt.xticks(ticks, labels)\n",
    "plt.ylabel('Number of Stations');\n",
    "graph.set_xticklabels(rotation=80);"
   ]
  },
  {
   "cell_type": "markdown",
   "metadata": {},
   "source": [
    "### Ford GoBikes Distribution of Start and End Stations\n",
    "\n",
    "> In 2019, through observing the Start and End station usages. The same stations usage is more frequent as start stations and end stations. \n"
   ]
  },
  {
   "cell_type": "markdown",
   "metadata": {},
   "source": [
    "### Talk about some of the relationships you observed in this part of the investigation. How did the feature(s) of interest vary with other features in the dataset?\n",
    "\n",
    "> There were six observations that were made with the duration of the bike ride data. As the data was cleaned, through the data cleaning phase. The data visualisation of the duration of the bike ride and the distance helped to form a story. The trip duration takes a large amount of values and is concentrated.\n",
    "\n",
    "\n",
    "### Did you observe any interesting relationships between the other features (not the main feature(s) of interest)?\n",
    "\n",
    "> Looking at the cleaned dataset, start station and end station which is plotted to do a comparison of bike sharers frequency in start and end station. \n"
   ]
  },
  {
   "cell_type": "markdown",
   "metadata": {},
   "source": [
    "## Bivariate Exploration\n",
    "\n",
    "> In this section, I investigate relationships between pairs of variables in the data."
   ]
  },
  {
   "cell_type": "code",
   "execution_count": 47,
   "metadata": {},
   "outputs": [],
   "source": [
    "# Clean the User Type data for data visualisation\n",
    "customer = df_cleaned.query('user_type == \"Customer\"')['bike_id'].count()\n",
    "subscriber = df_cleaned.query('user_type == \"Subscriber\"')['bike_id'].count()\n",
    "customer_prop = customer / df_cleaned['bike_id'].count()\n",
    "subscriber_prop = subscriber / df_cleaned['bike_id'].count()"
   ]
  },
  {
   "cell_type": "code",
   "execution_count": 49,
   "metadata": {},
   "outputs": [
    {
     "data": {
      "image/png": "[encoded data removed]",
      "text/plain": [
       "<Figure size 720x360 with 1 Axes>"
      ]
     },
     "metadata": {
      "needs_background": "light"
     },
     "output_type": "display_data"
    }
   ],
   "source": [
    "# Plot Number of Customers vs Subscribers in the Ford GoBike Sharing app. \n",
    "plt.figure(figsize = [10, 5])\n",
    "graph = sb.countplot(data = df_cleaned, x = \"user_type\", \n",
    "                     order = df_cleaned.user_type.value_counts().index);\n",
    "graph.set_xlabel('User Type');\n",
    "graph.set_ylabel('Number of Bike Trips');\n",
    "plt.suptitle('Customers vs. Subscribers in Ford GoBike Sharing System', \n",
    "             y=1.07, fontsize=16, fontweight='bold');"
   ]
  },
  {
   "cell_type": "markdown",
   "metadata": {},
   "source": [
    "### Customers vs. Subscribers Usage in Ford GoBikes Sharing\n",
    "\n",
    "> There are more than 200,000 Subscribers as displayed in the Customers vs. Subscribers in Ford GoBike Sharing System chart."
   ]
  },
  {
   "cell_type": "markdown",
   "metadata": {},
   "source": [
    "### Customers vs. Subscribers in Ford GoBikes Sharing\n",
    "\n",
    "> In 2019, 80.6% of the user types in the Ford GoBikes sharing platform were Subscribers. 19.4% of the user types in the Ford GoBikes Sharing Platform were Customers. \n",
    "\n"
   ]
  },
  {
   "cell_type": "code",
   "execution_count": 60,
   "metadata": {},
   "outputs": [
    {
     "data": {
      "image/png": "[encoded data removed]",
      "text/plain": [
       "<Figure size 720x360 with 1 Axes>"
      ]
     },
     "metadata": {},
     "output_type": "display_data"
    }
   ],
   "source": [
    "# Plot a pie chart to compare the percentage of Customers vs Subscribers that are using the platform\n",
    "plt.figure(figsize = [10, 5])\n",
    "labels = ['Customer', 'Subscriber']\n",
    "size = [customer_prop, subscriber_prop]\n",
    "explode = (0, 0.3)\n",
    "plt.pie(size, explode=explode, labels = labels, autopct='%1.1f%%', \n",
    "        shadow=True, startangle=30, textprops={'color':'black'})\n",
    "plt.axis('equal')\n",
    "plt.suptitle('Ford GoBike Customers vs. Subscribers in ', y=1.07,\n",
    "             fontsize=16, fontweight='bold');"
   ]
  },
  {
   "cell_type": "code",
   "execution_count": 62,
   "metadata": {},
   "outputs": [
    {
     "data": {
      "text/plain": [
       "<Figure size 864x360 with 0 Axes>"
      ]
     },
     "metadata": {},
     "output_type": "display_data"
    },
    {
     "data": {
      "image/png": "[encoded data removed]",
      "text/plain": [
       "<Figure size 720x360 with 2 Axes>"
      ]
     },
     "metadata": {
      "needs_background": "light"
     },
     "output_type": "display_data"
    }
   ],
   "source": [
    "# Plot comparison of usage between Customers vs Subscribersin 2019\n",
    "plt.figure(figsize = [12, 5])\n",
    "graph = sb.catplot(data=df_cleaned, x='start_time_month', \n",
    "                   col=\"user_type\", kind='count', sharey = True);\n",
    "graph.set_axis_labels(\"Month\", \"Number of Bike Trips\");\n",
    "graph.set_titles(\"{col_name}\");\n",
    "graph.fig.suptitle('Customers vs. Subscribers in Ford GoBike Sharing System',\n",
    "                   y=1.07, fontsize=16, fontweight='bold');\n",
    "graph.set_xticklabels(rotation=80);"
   ]
  },
  {
   "cell_type": "markdown",
   "metadata": {},
   "source": [
    "### Customers vs. Subscribers Usage in Ford GoBikes Sharing\n",
    "\n",
    "> There are more than 200,000 Subscribers as displayed in the Customers vs. Subscribers in Ford GoBike Sharing System chart. \n",
    "\n",
    "Customers: The demand is high during December. However, the frequency is high betwen the months of July - October 2019.\n",
    "\n",
    "Subscribers: The demand is highest in March 2019. THis is followed by July 2019 which is Summer time in the Bay Area and April which is Spring. \n",
    "\n",
    "\n"
   ]
  },
  {
   "cell_type": "code",
   "execution_count": 63,
   "metadata": {},
   "outputs": [
    {
     "data": {
      "image/png": "[encoded data removed]",
      "text/plain": [
       "<Figure size 864x360 with 1 Axes>"
      ]
     },
     "metadata": {
      "needs_background": "light"
     },
     "output_type": "display_data"
    }
   ],
   "source": [
    "plt.figure(figsize=(12, 5))\n",
    "df_cleaned_user_week = df_cleaned.groupby(['start_time_weekday', 'user_type']).size().reset_index()\n",
    "weekday = ['Mon', 'Tue', 'Wed', 'Thu', 'Fri', 'Sat', 'Sun']\n",
    "ax = sb.pointplot(data=df_cleaned_user_week, x='start_time_weekday', \n",
    "                  y=0, hue = 'user_type', scale=.7, order = weekday);\n",
    "plt.title('Customer vs. Subscribers Trends in the Ford GoBike Sharing', y=1.07, \n",
    "          fontsize=16, fontweight='bold')\n",
    "plt.xlabel('Weekdays')\n",
    "plt.ylabel('Number of Bike Trips');\n",
    "plt.grid()"
   ]
  },
  {
   "cell_type": "markdown",
   "metadata": {},
   "source": [
    "### Customers vs. Subscribers Trends in the Ford GoBikes Sharing\n",
    " \n",
    "In 2019, customers usage is quite low and consistant staying under 10,000 bike trips during the week. While Subscribers frequently used the the Ford GoBikes Sharing platform during Monday - Thursday with a drop of the number of bike trips on Friday and a significant drop through to Saturday and Sunday. \n"
   ]
  },
  {
   "cell_type": "markdown",
   "metadata": {},
   "source": [
    "### Talk about some of the relationships you observed in this part of the investigation. How did the feature(s) of interest vary with other features in the dataset?\n",
    "\n",
    "> The importance of including the user type to the data analysis revealed that there were some differences in the behaviour of the customers and subscribers using the Ford GoBikes Sharing platform. \n",
    "\n",
    "> The dataset highlights the usage trends between customers and subscribers. This suggests that Customers are casual users and the Subscribers are daily commuters that maybe working, studying etc. \n",
    "\n",
    "\n",
    "### Did you observe any interesting relationships between the other features (not the main feature(s) of interest)?\n",
    "\n",
    "> Through Observation, there is a difference in usage between customers and subscribers. The popularity of using Ford GoBikes for Customers is usually in December and increases more on Saturday as opposed to Subscribers where it decreases significantly on Saturday and during the weekend. \n",
    "> There were some limitations in this analysis, due to the anomity of customer data shighuch as gender. "
   ]
  },
  {
   "cell_type": "code",
   "execution_count": 65,
   "metadata": {},
   "outputs": [
    {
     "data": {
      "image/png": "[encoded data removed]",
      "text/plain": [
       "<Figure size 576x360 with 1 Axes>"
      ]
     },
     "metadata": {
      "needs_background": "light"
     },
     "output_type": "display_data"
    }
   ],
   "source": [
    "# Number of bike trips Customers vs. Subscriber Usage by Duration\n",
    "plt.figure(figsize = [8, 5])\n",
    "base_color = sb.color_palette()[1]\n",
    "sb.boxplot(data = df, x = 'user_type', y = 'duration_sec')\n",
    "plt.title('Customer vs. Subscribers Duration in Seconds', y=1.07, fontsize=16, fontweight='bold')\n",
    "plt.xlabel('User Type')\n",
    "plt.ylabel('Duration in sec')\n",
    "plt.show()\n",
    "\n"
   ]
  },
  {
   "cell_type": "markdown",
   "metadata": {},
   "source": [
    "### Customers vs. Subscribers Ride Duration in Seconds\n",
    "\n",
    "> In 2019, the graph above highlights that the values are vey widespread to see a box plot. In the next observation, will have a look at the box plot with the duration in minutes as opposed to seconds. \n"
   ]
  },
  {
   "cell_type": "code",
   "execution_count": 66,
   "metadata": {},
   "outputs": [
    {
     "data": {
      "image/png": "[encoded data removed]",
      "text/plain": [
       "<Figure size 720x360 with 2 Axes>"
      ]
     },
     "metadata": {
      "needs_background": "light"
     },
     "output_type": "display_data"
    }
   ],
   "source": [
    "data = df_cleaned.query('duration_min < 30')\n",
    "x = sb.catplot(data=data, y='duration_min', \n",
    "               col=\"user_type\", kind='box')\n",
    "x.set_titles(col_template = '{col_name}')\n",
    "x.set_axis_labels(\"\", \"Duration in Minutes\")\n",
    "x.fig.suptitle('Duration in Minutes by User Type',\n",
    "               y=1.05, fontsize=16, fontweight='bold');"
   ]
  },
  {
   "cell_type": "markdown",
   "metadata": {},
   "source": [
    "###  Duration in Minutes by User Type \n",
    "\n",
    "> The Duration in Minutes by User Type plot highlights that Customers normally have longer trip durations. Customers normally ride between 8 minutes and 18 minutes. Subscriber trips are normally shorter and last anywhere between 5-13 minutes. \n"
   ]
  },
  {
   "cell_type": "markdown",
   "metadata": {},
   "source": [
    "## Step 5. Multivariate Exploration\n",
    "\n",
    "> In this section, I plot more graphs in order to investigate the duration of the Ford Go Bike data.\n"
   ]
  },
  {
   "cell_type": "code",
   "execution_count": 72,
   "metadata": {},
   "outputs": [
    {
     "data": {
      "image/png": "[encoded data removed]",
      "text/plain": [
       "<Figure size 432x288 with 2 Axes>"
      ]
     },
     "metadata": {
      "needs_background": "light"
     },
     "output_type": "display_data"
    }
   ],
   "source": [
    "#Ford GoBikes Customer \n",
    "weekday = ['Mon', 'Tue', 'Wed', 'Thu', 'Fri', 'Sat', 'Sun']\n",
    "df_cleaned['start_time_weekday'] = pd.Categorical(df_cleaned['start_time_weekday'], \n",
    "                                                  categories= ['Mon', 'Tue', 'Wed', 'Thu', 'Fri', 'Sat', 'Sun'], ordered=True);\n",
    "df_customer = df_cleaned.query('user_type == \"Customer\"').groupby(['start_time_hour', 'start_time_weekday'])['bike_id'].size().reset_index();\n",
    "df_customer = df_customer.pivot('start_time_hour', 'start_time_weekday', 'bike_id')\n",
    "heat_map = sb.heatmap(df_customer, cmap = 'twilight')\n",
    "plt.title('Ford GoBike Customer', y=1.07, fontweight='bold')\n",
    "plt.xlabel('Days of the Week', labelpad = 17)\n",
    "plt.ylabel('Start Time Hour',  labelpad = 17)\n",
    "\n",
    "plt.show()\n"
   ]
  },
  {
   "cell_type": "code",
   "execution_count": 73,
   "metadata": {},
   "outputs": [
    {
     "data": {
      "image/png": "[encoded data removed]",
      "text/plain": [
       "<Figure size 432x288 with 2 Axes>"
      ]
     },
     "metadata": {
      "needs_background": "light"
     },
     "output_type": "display_data"
    }
   ],
   "source": [
    "#Ford GoBikes Subscriber \n",
    "df_subscriber = df_cleaned.query('user_type == \"Subscriber\"').groupby(['start_time_hour', 'start_time_weekday'])['bike_id'].size().reset_index();\n",
    "df_subscriber = df_subscriber.pivot('start_time_hour', 'start_time_weekday', 'bike_id')\n",
    "hot_maps = sb.heatmap(df_subscriber, cmap = 'twilight')\n",
    "\n",
    "plt.title(\"Ford GoBike Subscriber\", y=1.07, fontweight='bold')\n",
    "plt.xlabel('Days of the Week', labelpad = 17)\n",
    "plt.ylabel('Start Time Hour', labelpad = 17);\n",
    "\n",
    "plt.show()"
   ]
  },
  {
   "cell_type": "markdown",
   "metadata": {},
   "source": [
    "## Ford GoBike HeatMap\n",
    "\n",
    "> As per the heat map above, Customers who use the Ford Gobikes sharing system mainly on the weekends. While, Subscriber normally ride bikes during the weekday from Monday through to Friday, around 8-9am and 4-6pm. In the weekends, there is a significant drop in the number of rented bikes."
   ]
  },
  {
   "cell_type": "code",
   "execution_count": 74,
   "metadata": {},
   "outputs": [
    {
     "data": {
      "image/png": "[encoded data removed]",
      "text/plain": [
       "<Figure size 1440x360 with 2 Axes>"
      ]
     },
     "metadata": {
      "needs_background": "light"
     },
     "output_type": "display_data"
    }
   ],
   "source": [
    "# Monthly usage by user type \n",
    "graph = sb.catplot(data=df_cleaned, x='start_time_month', col=\"user_type\", kind='count', sharey = False, height=5, aspect=2);\n",
    "graph.set_axis_labels(\"Month\", \"Number of Bike Trips\")\n",
    "graph.set_titles(\"{col_name}\")\n",
    "graph.fig.suptitle('Ford GoBike System Monthly Usage Per User Type', y=1.07, fontsize=16, fontweight='bold');\n",
    "graph.set_xticklabels(rotation=80);"
   ]
  },
  {
   "cell_type": "markdown",
   "metadata": {},
   "source": [
    "## Ford GoBike Monthly Usager Per User Type\n",
    "\n",
    "> As per the graph above, in 2019 the Ford GoBike Monthly Usage per User Type. There are two types of users who use the Ford GoBike which is between Customer and Subscriber. \n",
    "\n",
    "> Customers saw an increase of usage in December while Subscribers would frequently use the the Ford GoBike system in March, July and April. While the Monthly usage for Subscribers would decrease in December. \n"
   ]
  },
  {
   "cell_type": "markdown",
   "metadata": {},
   "source": [
    "### Talk about some of the relationships you observed in this part of the investigation. Were there features that strengthened each other in terms of looking at your feature(s) of interest?\n",
    "\n",
    "> Through further observation between Customer and Supplier behaviours, Customers saw an increase of usage in December while Subscribers would frequently use the the Ford GoBike system in March, July and April. While the Monthly usage for Subscribers would decrease in December. \n",
    "\n",
    "### Were there any interesting or surprising interactions between features?\n",
    "\n",
    "> Through observation of the heatmap, Customers who use the Ford Gobikes sharing system mainly on the weekends. While, Subscriber normally ride bikes during the weekday from Monday through to Friday, around 8-9am and 4-6pm. In the weekends, there is a significant drop in the number of bikes used in the weekends from the subscribers.\n"
   ]
  },
  {
   "cell_type": "markdown",
   "metadata": {},
   "source": [
    "# References\n",
    "\n",
    "1. How To Combine Multiple CSV Files In Python: https://sempioneer.com/python-for-seo/how-to-combine-multiple-csv-files-in-python/\n",
    "2. FordGoBike Data Set: https://www.lyft.com/bikes/bay-wheels/system-data\n",
    "3. Github: https://github.com/ijdev/Ford-GoBike-System-Data---Data-Analysis/blob/master/exploration_template.ipynb, \n",
    "4. Github: https://github.com/satyarajreddy/Udacity-Data-Visualization/blob/master/Visualize_Data.ipynb \n",
    "5. Github: https://gist.github.com/rochacbruno/2883505\n",
    "6. Github: https://github.com/chelseymarie6/Communicate-Data-Findings\n",
    "7. Github: https://github.com/rishusingh121/fordgobike/blob/master/slide_deck_template.ipynb\n",
    "8. Keggle: https://www.kaggle.com/chirag02/ford-gobike-data-analysis\n",
    "9. seaborn catplot: https://seaborn.pydata.org/generated/seaborn.catplot.html\n",
    "10. matplotlib Documentation: https://matplotlib.org/api/_as_gen/matplotlib.pyplot.hist.html\n",
    "\n"
   ]
  }
 ],
 "metadata": {
  "kernelspec": {
   "display_name": "Python 3",
   "language": "python",
   "name": "python3"
  },
  "language_info": {
   "codemirror_mode": {
    "name": "ipython",
    "version": 3
   },
   "file_extension": ".py",
   "mimetype": "text/x-python",
   "name": "python",
   "nbconvert_exporter": "python",
   "pygments_lexer": "ipython3",
   "version": "3.7.4"
  }
 },
 "nbformat": 4,
 "nbformat_minor": 2
}
